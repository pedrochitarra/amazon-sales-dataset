{
 "cells": [
  {
   "cell_type": "markdown",
   "metadata": {},
   "source": [
    "# Amazon Sales Dataset"
   ]
  },
  {
   "cell_type": "markdown",
   "metadata": {},
   "source": [
    "## Descrição do Problema"
   ]
  },
  {
   "cell_type": "markdown",
   "metadata": {},
   "source": [
    "Product Analysis: Explore popular products, their ratings, and price ranges.\n",
    "Customer Sentiment: Analyze review titles and content to understand customer satisfaction.\n",
    "Pricing Strategies: Investigate discounts and their impact on sales and ratings.\n",
    "Category Insights: Compare different product categories and their performance.\n",
    "User Behavior: Examine patterns in user reviews and ratings across products.\n",
    "\n",
    "\n",
    "- Price-Quality Relationship: Investigate if there's a correlation between product prices and their ratings.\n",
    "- Discount Impact: Analyze how discounts affect product popularity and ratings.\n",
    "- Category Analysis: Identify which product categories tend to have higher ratings or more reviews.\n",
    "- Brand Performance: Compare different brands within the same category to see which ones consistently receive high ratings.\n",
    "- Review Content Analysis: Perform text analysis on review content to identify common themes in positive and negative reviews.\n",
    "- Seasonal Trends: If we have timestamp data, we could look at how product ratings and popularity change over time or during specific seasons.\n",
    "- Price Point Analysis: Determine the most common price points for highly-rated products across different categories."
   ]
  },
  {
   "cell_type": "markdown",
   "metadata": {},
   "source": [
    "Fonte dos dados: https://www.kaggle.com/datasets/karkavelrajaj/amazon-sales-dataset"
   ]
  },
  {
   "cell_type": "markdown",
   "metadata": {},
   "source": [
    "A Amazon é responsável por uma grande quantidade de vendas online. A empresa disponibiliza um dataset com informações sobre avaliações de produtos em diferentes categorias. O dataset contém informações sobre avaliações de produtos, como preço, categorias e avaliação dos clientes.\n",
    "\n",
    "Durante o processamento dos dados, a coluna Categoria se tornou 3, sendo elas\n",
    "- Categoria\n",
    "- Subcategoria\n",
    "- Categoria Específica\n",
    "\n",
    "O objetivo da análise inicial é identificar produtos e categorias mais avaliados\n",
    "\n",
    "As perguntas chave que devem ser respondidas são:\n",
    "\n",
    "---\n",
    "- Quais são as categorias mais avaliadas?\n",
    "- Quais as categorias mais bem avaliadas (média e mediana)?\n",
    "- Qual é o desconto médio e mediano por categoria?\n",
    "- Qual é o preço médio por categoria?\n",
    "---\n",
    "- Quais são as subcategorias mais avaliadas?\n",
    "- Quais as subcategorias mais bem avaliadas (média e mediana)?\n",
    "- Qual é o desconto médio e mediano por subcategoria?\n",
    "- Qual é o preço médio por subcategoria?\n",
    "---\n",
    "- Quais são as categorias específicas mais avaliadas?\n",
    "- Quais as categorias específicas mais bem avaliadas (média e mediana)?\n",
    "- Qual é o desconto médio e mediano por categorias específicas?\n",
    "- Qual é o preço médio por categorias específicas?\n",
    "---\n",
    "- Os produtos mais caros são bem avaliados?\n",
    "- Há uma relação entre o preço e avaliação dos produtos?\n",
    "---\n",
    "\n",
    "Essas perguntas ajudarão a entender melhor a performance de vendas relacionadas\n",
    "aos descontos. É importante entender se maiores descontos estão relacionados a\n",
    "maiores vendas, ou se produtos mais caros são mais bem avaliados.\n",
    "\n",
    "Com essa informação extraída dos dados, a Amazon poderá tomar decisões mais\n",
    "assertivas sobre a estratégia de vendas, como por exemplo, aumentar o desconto\n",
    "de produtos com baixa avaliação, ou aumentar o preço de produtos bem avaliados."
   ]
  },
  {
   "cell_type": "markdown",
   "metadata": {},
   "source": [
    "## Descrição dos dados"
   ]
  },
  {
   "cell_type": "markdown",
   "metadata": {},
   "source": [
    "### Colunas"
   ]
  },
  {
   "cell_type": "markdown",
   "metadata": {},
   "source": [
    "- product_id - ID do Produto\n",
    "- product_name - Nome do Produto\n",
    "- category - Categoria do Produto\n",
    "- discounted_price - Preço com Desconto do Produto\n",
    "- actual_price - Preço Real do Produto\n",
    "- discount_percentage - Porcentagem de Desconto do Produto\n",
    "- rating - Avaliação do Produto\n",
    "- rating_count - Quantidade de Avaliações do Produto\n",
    "- about_product - Descrição do Produto\n",
    "- user_id - ID do Usuário que escreveu a avaliação\n",
    "- user_name - Nome do Usuário que escreveu a avaliação\n",
    "- review_id - ID da Avaliação\n",
    "- review_title - Título da Avaliação\n",
    "- review_content - Conteúdo da Avaliação\n",
    "- img_link - Link da Imagem do Produto\n",
    "- product_link - Link do Produto"
   ]
  },
  {
   "cell_type": "markdown",
   "metadata": {},
   "source": [
    "## Visão geral dos dados"
   ]
  },
  {
   "cell_type": "code",
   "execution_count": 621,
   "metadata": {},
   "outputs": [],
   "source": [
    "import pandas as pd\n",
    "import plotly.graph_objects as go\n",
    "import numpy as np"
   ]
  },
  {
   "cell_type": "code",
   "execution_count": 622,
   "metadata": {},
   "outputs": [],
   "source": [
    "df = pd.read_csv(\"amazon.csv\")"
   ]
  },
  {
   "cell_type": "code",
   "execution_count": 623,
   "metadata": {},
   "outputs": [
    {
     "data": {
      "text/html": [
       "<div>\n",
       "<style scoped>\n",
       "    .dataframe tbody tr th:only-of-type {\n",
       "        vertical-align: middle;\n",
       "    }\n",
       "\n",
       "    .dataframe tbody tr th {\n",
       "        vertical-align: top;\n",
       "    }\n",
       "\n",
       "    .dataframe thead th {\n",
       "        text-align: right;\n",
       "    }\n",
       "</style>\n",
       "<table border=\"1\" class=\"dataframe\">\n",
       "  <thead>\n",
       "    <tr style=\"text-align: right;\">\n",
       "      <th></th>\n",
       "      <th>product_id</th>\n",
       "      <th>product_name</th>\n",
       "      <th>category</th>\n",
       "      <th>discounted_price</th>\n",
       "      <th>actual_price</th>\n",
       "      <th>discount_percentage</th>\n",
       "      <th>rating</th>\n",
       "      <th>rating_count</th>\n",
       "      <th>about_product</th>\n",
       "      <th>user_id</th>\n",
       "      <th>user_name</th>\n",
       "      <th>review_id</th>\n",
       "      <th>review_title</th>\n",
       "      <th>review_content</th>\n",
       "      <th>img_link</th>\n",
       "      <th>product_link</th>\n",
       "    </tr>\n",
       "  </thead>\n",
       "  <tbody>\n",
       "    <tr>\n",
       "      <th>0</th>\n",
       "      <td>B07JW9H4J1</td>\n",
       "      <td>Wayona Nylon Braided USB to Lightning Fast Cha...</td>\n",
       "      <td>Computers&amp;Accessories|Accessories&amp;Peripherals|...</td>\n",
       "      <td>₹399</td>\n",
       "      <td>₹1,099</td>\n",
       "      <td>64%</td>\n",
       "      <td>4.2</td>\n",
       "      <td>24,269</td>\n",
       "      <td>High Compatibility : Compatible With iPhone 12...</td>\n",
       "      <td>AG3D6O4STAQKAY2UVGEUV46KN35Q,AHMY5CWJMMK5BJRBB...</td>\n",
       "      <td>Manav,Adarsh gupta,Sundeep,S.Sayeed Ahmed,jasp...</td>\n",
       "      <td>R3HXWT0LRP0NMF,R2AJM3LFTLZHFO,R6AQJGUP6P86,R1K...</td>\n",
       "      <td>Satisfied,Charging is really fast,Value for mo...</td>\n",
       "      <td>Looks durable Charging is fine tooNo complains...</td>\n",
       "      <td>https://m.media-amazon.com/images/W/WEBP_40237...</td>\n",
       "      <td>https://www.amazon.in/Wayona-Braided-WN3LG1-Sy...</td>\n",
       "    </tr>\n",
       "    <tr>\n",
       "      <th>1</th>\n",
       "      <td>B098NS6PVG</td>\n",
       "      <td>Ambrane Unbreakable 60W / 3A Fast Charging 1.5...</td>\n",
       "      <td>Computers&amp;Accessories|Accessories&amp;Peripherals|...</td>\n",
       "      <td>₹199</td>\n",
       "      <td>₹349</td>\n",
       "      <td>43%</td>\n",
       "      <td>4.0</td>\n",
       "      <td>43,994</td>\n",
       "      <td>Compatible with all Type C enabled devices, be...</td>\n",
       "      <td>AECPFYFQVRUWC3KGNLJIOREFP5LQ,AGYYVPDD7YG7FYNBX...</td>\n",
       "      <td>ArdKn,Nirbhay kumar,Sagar Viswanathan,Asp,Plac...</td>\n",
       "      <td>RGIQEG07R9HS2,R1SMWZQ86XIN8U,R2J3Y1WL29GWDE,RY...</td>\n",
       "      <td>A Good Braided Cable for Your Type C Device,Go...</td>\n",
       "      <td>I ordered this cable to connect my phone to An...</td>\n",
       "      <td>https://m.media-amazon.com/images/W/WEBP_40237...</td>\n",
       "      <td>https://www.amazon.in/Ambrane-Unbreakable-Char...</td>\n",
       "    </tr>\n",
       "    <tr>\n",
       "      <th>2</th>\n",
       "      <td>B096MSW6CT</td>\n",
       "      <td>Sounce Fast Phone Charging Cable &amp; Data Sync U...</td>\n",
       "      <td>Computers&amp;Accessories|Accessories&amp;Peripherals|...</td>\n",
       "      <td>₹199</td>\n",
       "      <td>₹1,899</td>\n",
       "      <td>90%</td>\n",
       "      <td>3.9</td>\n",
       "      <td>7,928</td>\n",
       "      <td>【 Fast Charger&amp; Data Sync】-With built-in safet...</td>\n",
       "      <td>AGU3BBQ2V2DDAMOAKGFAWDDQ6QHA,AESFLDV2PT363T2AQ...</td>\n",
       "      <td>Kunal,Himanshu,viswanath,sai niharka,saqib mal...</td>\n",
       "      <td>R3J3EQQ9TZI5ZJ,R3E7WBGK7ID0KV,RWU79XKQ6I1QF,R2...</td>\n",
       "      <td>Good speed for earlier versions,Good Product,W...</td>\n",
       "      <td>Not quite durable and sturdy,https://m.media-a...</td>\n",
       "      <td>https://m.media-amazon.com/images/W/WEBP_40237...</td>\n",
       "      <td>https://www.amazon.in/Sounce-iPhone-Charging-C...</td>\n",
       "    </tr>\n",
       "    <tr>\n",
       "      <th>3</th>\n",
       "      <td>B08HDJ86NZ</td>\n",
       "      <td>boAt Deuce USB 300 2 in 1 Type-C &amp; Micro USB S...</td>\n",
       "      <td>Computers&amp;Accessories|Accessories&amp;Peripherals|...</td>\n",
       "      <td>₹329</td>\n",
       "      <td>₹699</td>\n",
       "      <td>53%</td>\n",
       "      <td>4.2</td>\n",
       "      <td>94,363</td>\n",
       "      <td>The boAt Deuce USB 300 2 in 1 cable is compati...</td>\n",
       "      <td>AEWAZDZZJLQUYVOVGBEUKSLXHQ5A,AG5HTSFRRE6NL3M5S...</td>\n",
       "      <td>Omkar dhale,JD,HEMALATHA,Ajwadh a.,amar singh ...</td>\n",
       "      <td>R3EEUZKKK9J36I,R3HJVYCLYOY554,REDECAZ7AMPQC,R1...</td>\n",
       "      <td>Good product,Good one,Nice,Really nice product...</td>\n",
       "      <td>Good product,long wire,Charges good,Nice,I bou...</td>\n",
       "      <td>https://m.media-amazon.com/images/I/41V5FtEWPk...</td>\n",
       "      <td>https://www.amazon.in/Deuce-300-Resistant-Tang...</td>\n",
       "    </tr>\n",
       "    <tr>\n",
       "      <th>4</th>\n",
       "      <td>B08CF3B7N1</td>\n",
       "      <td>Portronics Konnect L 1.2M Fast Charging 3A 8 P...</td>\n",
       "      <td>Computers&amp;Accessories|Accessories&amp;Peripherals|...</td>\n",
       "      <td>₹154</td>\n",
       "      <td>₹399</td>\n",
       "      <td>61%</td>\n",
       "      <td>4.2</td>\n",
       "      <td>16,905</td>\n",
       "      <td>[CHARGE &amp; SYNC FUNCTION]- This cable comes wit...</td>\n",
       "      <td>AE3Q6KSUK5P75D5HFYHCRAOLODSA,AFUGIFH5ZAFXRDSZH...</td>\n",
       "      <td>rahuls6099,Swasat Borah,Ajay Wadke,Pranali,RVK...</td>\n",
       "      <td>R1BP4L2HH9TFUP,R16PVJEXKV6QZS,R2UPDB81N66T4P,R...</td>\n",
       "      <td>As good as original,Decent,Good one for second...</td>\n",
       "      <td>Bought this instead of original apple, does th...</td>\n",
       "      <td>https://m.media-amazon.com/images/W/WEBP_40237...</td>\n",
       "      <td>https://www.amazon.in/Portronics-Konnect-POR-1...</td>\n",
       "    </tr>\n",
       "  </tbody>\n",
       "</table>\n",
       "</div>"
      ],
      "text/plain": [
       "   product_id                                       product_name  \\\n",
       "0  B07JW9H4J1  Wayona Nylon Braided USB to Lightning Fast Cha...   \n",
       "1  B098NS6PVG  Ambrane Unbreakable 60W / 3A Fast Charging 1.5...   \n",
       "2  B096MSW6CT  Sounce Fast Phone Charging Cable & Data Sync U...   \n",
       "3  B08HDJ86NZ  boAt Deuce USB 300 2 in 1 Type-C & Micro USB S...   \n",
       "4  B08CF3B7N1  Portronics Konnect L 1.2M Fast Charging 3A 8 P...   \n",
       "\n",
       "                                            category discounted_price  \\\n",
       "0  Computers&Accessories|Accessories&Peripherals|...             ₹399   \n",
       "1  Computers&Accessories|Accessories&Peripherals|...             ₹199   \n",
       "2  Computers&Accessories|Accessories&Peripherals|...             ₹199   \n",
       "3  Computers&Accessories|Accessories&Peripherals|...             ₹329   \n",
       "4  Computers&Accessories|Accessories&Peripherals|...             ₹154   \n",
       "\n",
       "  actual_price discount_percentage rating rating_count  \\\n",
       "0       ₹1,099                 64%    4.2       24,269   \n",
       "1         ₹349                 43%    4.0       43,994   \n",
       "2       ₹1,899                 90%    3.9        7,928   \n",
       "3         ₹699                 53%    4.2       94,363   \n",
       "4         ₹399                 61%    4.2       16,905   \n",
       "\n",
       "                                       about_product  \\\n",
       "0  High Compatibility : Compatible With iPhone 12...   \n",
       "1  Compatible with all Type C enabled devices, be...   \n",
       "2  【 Fast Charger& Data Sync】-With built-in safet...   \n",
       "3  The boAt Deuce USB 300 2 in 1 cable is compati...   \n",
       "4  [CHARGE & SYNC FUNCTION]- This cable comes wit...   \n",
       "\n",
       "                                             user_id  \\\n",
       "0  AG3D6O4STAQKAY2UVGEUV46KN35Q,AHMY5CWJMMK5BJRBB...   \n",
       "1  AECPFYFQVRUWC3KGNLJIOREFP5LQ,AGYYVPDD7YG7FYNBX...   \n",
       "2  AGU3BBQ2V2DDAMOAKGFAWDDQ6QHA,AESFLDV2PT363T2AQ...   \n",
       "3  AEWAZDZZJLQUYVOVGBEUKSLXHQ5A,AG5HTSFRRE6NL3M5S...   \n",
       "4  AE3Q6KSUK5P75D5HFYHCRAOLODSA,AFUGIFH5ZAFXRDSZH...   \n",
       "\n",
       "                                           user_name  \\\n",
       "0  Manav,Adarsh gupta,Sundeep,S.Sayeed Ahmed,jasp...   \n",
       "1  ArdKn,Nirbhay kumar,Sagar Viswanathan,Asp,Plac...   \n",
       "2  Kunal,Himanshu,viswanath,sai niharka,saqib mal...   \n",
       "3  Omkar dhale,JD,HEMALATHA,Ajwadh a.,amar singh ...   \n",
       "4  rahuls6099,Swasat Borah,Ajay Wadke,Pranali,RVK...   \n",
       "\n",
       "                                           review_id  \\\n",
       "0  R3HXWT0LRP0NMF,R2AJM3LFTLZHFO,R6AQJGUP6P86,R1K...   \n",
       "1  RGIQEG07R9HS2,R1SMWZQ86XIN8U,R2J3Y1WL29GWDE,RY...   \n",
       "2  R3J3EQQ9TZI5ZJ,R3E7WBGK7ID0KV,RWU79XKQ6I1QF,R2...   \n",
       "3  R3EEUZKKK9J36I,R3HJVYCLYOY554,REDECAZ7AMPQC,R1...   \n",
       "4  R1BP4L2HH9TFUP,R16PVJEXKV6QZS,R2UPDB81N66T4P,R...   \n",
       "\n",
       "                                        review_title  \\\n",
       "0  Satisfied,Charging is really fast,Value for mo...   \n",
       "1  A Good Braided Cable for Your Type C Device,Go...   \n",
       "2  Good speed for earlier versions,Good Product,W...   \n",
       "3  Good product,Good one,Nice,Really nice product...   \n",
       "4  As good as original,Decent,Good one for second...   \n",
       "\n",
       "                                      review_content  \\\n",
       "0  Looks durable Charging is fine tooNo complains...   \n",
       "1  I ordered this cable to connect my phone to An...   \n",
       "2  Not quite durable and sturdy,https://m.media-a...   \n",
       "3  Good product,long wire,Charges good,Nice,I bou...   \n",
       "4  Bought this instead of original apple, does th...   \n",
       "\n",
       "                                            img_link  \\\n",
       "0  https://m.media-amazon.com/images/W/WEBP_40237...   \n",
       "1  https://m.media-amazon.com/images/W/WEBP_40237...   \n",
       "2  https://m.media-amazon.com/images/W/WEBP_40237...   \n",
       "3  https://m.media-amazon.com/images/I/41V5FtEWPk...   \n",
       "4  https://m.media-amazon.com/images/W/WEBP_40237...   \n",
       "\n",
       "                                        product_link  \n",
       "0  https://www.amazon.in/Wayona-Braided-WN3LG1-Sy...  \n",
       "1  https://www.amazon.in/Ambrane-Unbreakable-Char...  \n",
       "2  https://www.amazon.in/Sounce-iPhone-Charging-C...  \n",
       "3  https://www.amazon.in/Deuce-300-Resistant-Tang...  \n",
       "4  https://www.amazon.in/Portronics-Konnect-POR-1...  "
      ]
     },
     "execution_count": 623,
     "metadata": {},
     "output_type": "execute_result"
    }
   ],
   "source": [
    "df.head()"
   ]
  },
  {
   "cell_type": "code",
   "execution_count": 624,
   "metadata": {},
   "outputs": [
    {
     "name": "stdout",
     "output_type": "stream",
     "text": [
      "<class 'pandas.core.frame.DataFrame'>\n",
      "RangeIndex: 1465 entries, 0 to 1464\n",
      "Data columns (total 16 columns):\n",
      " #   Column               Non-Null Count  Dtype \n",
      "---  ------               --------------  ----- \n",
      " 0   product_id           1465 non-null   object\n",
      " 1   product_name         1465 non-null   object\n",
      " 2   category             1465 non-null   object\n",
      " 3   discounted_price     1465 non-null   object\n",
      " 4   actual_price         1465 non-null   object\n",
      " 5   discount_percentage  1465 non-null   object\n",
      " 6   rating               1465 non-null   object\n",
      " 7   rating_count         1463 non-null   object\n",
      " 8   about_product        1465 non-null   object\n",
      " 9   user_id              1465 non-null   object\n",
      " 10  user_name            1465 non-null   object\n",
      " 11  review_id            1465 non-null   object\n",
      " 12  review_title         1465 non-null   object\n",
      " 13  review_content       1465 non-null   object\n",
      " 14  img_link             1465 non-null   object\n",
      " 15  product_link         1465 non-null   object\n",
      "dtypes: object(16)\n",
      "memory usage: 183.2+ KB\n"
     ]
    }
   ],
   "source": [
    "df.info()"
   ]
  },
  {
   "cell_type": "markdown",
   "metadata": {},
   "source": [
    "## Processamento dos dados"
   ]
  },
  {
   "cell_type": "markdown",
   "metadata": {},
   "source": [
    "### Dados duplicados"
   ]
  },
  {
   "cell_type": "code",
   "execution_count": 625,
   "metadata": {},
   "outputs": [
    {
     "data": {
      "text/plain": [
       "114"
      ]
     },
     "execution_count": 625,
     "metadata": {},
     "output_type": "execute_result"
    }
   ],
   "source": [
    "df[\"product_id\"].duplicated().sum()"
   ]
  },
  {
   "cell_type": "markdown",
   "metadata": {},
   "source": [
    "Tem 110 produtos duplicados no dataset ao se observar a coluna product_id, que\n",
    "era esperado ser único. Por isso, esses dados duplicados serão removidos e a\n",
    "primeira ocorrência será mantida."
   ]
  },
  {
   "cell_type": "code",
   "execution_count": 626,
   "metadata": {},
   "outputs": [],
   "source": [
    "df = df.drop_duplicates(\"product_id\")"
   ]
  },
  {
   "cell_type": "markdown",
   "metadata": {},
   "source": [
    "### Dados faltantes"
   ]
  },
  {
   "cell_type": "markdown",
   "metadata": {},
   "source": [
    "Dois produtos não têm contagem de avaliação, então esses produtos serão removidos da análise. Dessa forma ainda se mantém 1463 de 1465 produtos."
   ]
  },
  {
   "cell_type": "code",
   "execution_count": 627,
   "metadata": {},
   "outputs": [
    {
     "data": {
      "text/plain": [
       "product_id             0\n",
       "product_name           0\n",
       "category               0\n",
       "discounted_price       0\n",
       "actual_price           0\n",
       "discount_percentage    0\n",
       "rating                 0\n",
       "rating_count           2\n",
       "about_product          0\n",
       "user_id                0\n",
       "user_name              0\n",
       "review_id              0\n",
       "review_title           0\n",
       "review_content         0\n",
       "img_link               0\n",
       "product_link           0\n",
       "dtype: int64"
      ]
     },
     "execution_count": 627,
     "metadata": {},
     "output_type": "execute_result"
    }
   ],
   "source": [
    "df.isna().sum()"
   ]
  },
  {
   "cell_type": "code",
   "execution_count": 628,
   "metadata": {},
   "outputs": [],
   "source": [
    "df = df.dropna(subset=[\"rating_count\"])"
   ]
  },
  {
   "cell_type": "markdown",
   "metadata": {},
   "source": [
    "### Moeda"
   ]
  },
  {
   "cell_type": "markdown",
   "metadata": {},
   "source": [
    "Os valores estão em Rúpias Indianas (₹), então será feita a conversão para dólares americanos (USD) para facilitar a compreensão dos valores.\n",
    "No dia 01/10/2024, a rúpia indiana estava cotada a 0.012 USD, então será utilizada essa cotação para a conversão."
   ]
  },
  {
   "cell_type": "code",
   "execution_count": 629,
   "metadata": {},
   "outputs": [],
   "source": [
    "df[\"discounted_price\"] = df[\"discounted_price\"].str.replace(\"₹\", \"\").str.replace(\",\", \"\").astype(float)\n",
    "df[\"actual_price\"] = df[\"actual_price\"].str.replace(\"₹\", \"\").str.replace(\",\", \"\").astype(float)"
   ]
  },
  {
   "cell_type": "code",
   "execution_count": 630,
   "metadata": {},
   "outputs": [],
   "source": [
    "df[\"discounted_price\"] = df[\"discounted_price\"]*0.012\n",
    "df[\"actual_price\"] = df[\"actual_price\"]*0.012"
   ]
  },
  {
   "cell_type": "markdown",
   "metadata": {},
   "source": [
    "### Porcentagem de desconto"
   ]
  },
  {
   "cell_type": "markdown",
   "metadata": {},
   "source": [
    "Os valores de desconto estão em porcentagem em forma de texto, então será feita a conversão para valores numéricos."
   ]
  },
  {
   "cell_type": "code",
   "execution_count": 631,
   "metadata": {},
   "outputs": [],
   "source": [
    "df[\"discount_percentage\"] = df[\"discount_percentage\"].str.replace(\"%\", \"\").astype(float)"
   ]
  },
  {
   "cell_type": "code",
   "execution_count": 632,
   "metadata": {},
   "outputs": [
    {
     "data": {
      "text/html": [
       "<div>\n",
       "<style scoped>\n",
       "    .dataframe tbody tr th:only-of-type {\n",
       "        vertical-align: middle;\n",
       "    }\n",
       "\n",
       "    .dataframe tbody tr th {\n",
       "        vertical-align: top;\n",
       "    }\n",
       "\n",
       "    .dataframe thead th {\n",
       "        text-align: right;\n",
       "    }\n",
       "</style>\n",
       "<table border=\"1\" class=\"dataframe\">\n",
       "  <thead>\n",
       "    <tr style=\"text-align: right;\">\n",
       "      <th></th>\n",
       "      <th>product_id</th>\n",
       "      <th>product_name</th>\n",
       "      <th>category</th>\n",
       "      <th>discounted_price</th>\n",
       "      <th>actual_price</th>\n",
       "      <th>discount_percentage</th>\n",
       "      <th>rating</th>\n",
       "      <th>rating_count</th>\n",
       "      <th>about_product</th>\n",
       "      <th>user_id</th>\n",
       "      <th>user_name</th>\n",
       "      <th>review_id</th>\n",
       "      <th>review_title</th>\n",
       "      <th>review_content</th>\n",
       "      <th>img_link</th>\n",
       "      <th>product_link</th>\n",
       "    </tr>\n",
       "  </thead>\n",
       "  <tbody>\n",
       "    <tr>\n",
       "      <th>0</th>\n",
       "      <td>B07JW9H4J1</td>\n",
       "      <td>Wayona Nylon Braided USB to Lightning Fast Cha...</td>\n",
       "      <td>Computers&amp;Accessories|Accessories&amp;Peripherals|...</td>\n",
       "      <td>4.788</td>\n",
       "      <td>13.188</td>\n",
       "      <td>64.0</td>\n",
       "      <td>4.2</td>\n",
       "      <td>24,269</td>\n",
       "      <td>High Compatibility : Compatible With iPhone 12...</td>\n",
       "      <td>AG3D6O4STAQKAY2UVGEUV46KN35Q,AHMY5CWJMMK5BJRBB...</td>\n",
       "      <td>Manav,Adarsh gupta,Sundeep,S.Sayeed Ahmed,jasp...</td>\n",
       "      <td>R3HXWT0LRP0NMF,R2AJM3LFTLZHFO,R6AQJGUP6P86,R1K...</td>\n",
       "      <td>Satisfied,Charging is really fast,Value for mo...</td>\n",
       "      <td>Looks durable Charging is fine tooNo complains...</td>\n",
       "      <td>https://m.media-amazon.com/images/W/WEBP_40237...</td>\n",
       "      <td>https://www.amazon.in/Wayona-Braided-WN3LG1-Sy...</td>\n",
       "    </tr>\n",
       "    <tr>\n",
       "      <th>1</th>\n",
       "      <td>B098NS6PVG</td>\n",
       "      <td>Ambrane Unbreakable 60W / 3A Fast Charging 1.5...</td>\n",
       "      <td>Computers&amp;Accessories|Accessories&amp;Peripherals|...</td>\n",
       "      <td>2.388</td>\n",
       "      <td>4.188</td>\n",
       "      <td>43.0</td>\n",
       "      <td>4.0</td>\n",
       "      <td>43,994</td>\n",
       "      <td>Compatible with all Type C enabled devices, be...</td>\n",
       "      <td>AECPFYFQVRUWC3KGNLJIOREFP5LQ,AGYYVPDD7YG7FYNBX...</td>\n",
       "      <td>ArdKn,Nirbhay kumar,Sagar Viswanathan,Asp,Plac...</td>\n",
       "      <td>RGIQEG07R9HS2,R1SMWZQ86XIN8U,R2J3Y1WL29GWDE,RY...</td>\n",
       "      <td>A Good Braided Cable for Your Type C Device,Go...</td>\n",
       "      <td>I ordered this cable to connect my phone to An...</td>\n",
       "      <td>https://m.media-amazon.com/images/W/WEBP_40237...</td>\n",
       "      <td>https://www.amazon.in/Ambrane-Unbreakable-Char...</td>\n",
       "    </tr>\n",
       "    <tr>\n",
       "      <th>2</th>\n",
       "      <td>B096MSW6CT</td>\n",
       "      <td>Sounce Fast Phone Charging Cable &amp; Data Sync U...</td>\n",
       "      <td>Computers&amp;Accessories|Accessories&amp;Peripherals|...</td>\n",
       "      <td>2.388</td>\n",
       "      <td>22.788</td>\n",
       "      <td>90.0</td>\n",
       "      <td>3.9</td>\n",
       "      <td>7,928</td>\n",
       "      <td>【 Fast Charger&amp; Data Sync】-With built-in safet...</td>\n",
       "      <td>AGU3BBQ2V2DDAMOAKGFAWDDQ6QHA,AESFLDV2PT363T2AQ...</td>\n",
       "      <td>Kunal,Himanshu,viswanath,sai niharka,saqib mal...</td>\n",
       "      <td>R3J3EQQ9TZI5ZJ,R3E7WBGK7ID0KV,RWU79XKQ6I1QF,R2...</td>\n",
       "      <td>Good speed for earlier versions,Good Product,W...</td>\n",
       "      <td>Not quite durable and sturdy,https://m.media-a...</td>\n",
       "      <td>https://m.media-amazon.com/images/W/WEBP_40237...</td>\n",
       "      <td>https://www.amazon.in/Sounce-iPhone-Charging-C...</td>\n",
       "    </tr>\n",
       "    <tr>\n",
       "      <th>3</th>\n",
       "      <td>B08HDJ86NZ</td>\n",
       "      <td>boAt Deuce USB 300 2 in 1 Type-C &amp; Micro USB S...</td>\n",
       "      <td>Computers&amp;Accessories|Accessories&amp;Peripherals|...</td>\n",
       "      <td>3.948</td>\n",
       "      <td>8.388</td>\n",
       "      <td>53.0</td>\n",
       "      <td>4.2</td>\n",
       "      <td>94,363</td>\n",
       "      <td>The boAt Deuce USB 300 2 in 1 cable is compati...</td>\n",
       "      <td>AEWAZDZZJLQUYVOVGBEUKSLXHQ5A,AG5HTSFRRE6NL3M5S...</td>\n",
       "      <td>Omkar dhale,JD,HEMALATHA,Ajwadh a.,amar singh ...</td>\n",
       "      <td>R3EEUZKKK9J36I,R3HJVYCLYOY554,REDECAZ7AMPQC,R1...</td>\n",
       "      <td>Good product,Good one,Nice,Really nice product...</td>\n",
       "      <td>Good product,long wire,Charges good,Nice,I bou...</td>\n",
       "      <td>https://m.media-amazon.com/images/I/41V5FtEWPk...</td>\n",
       "      <td>https://www.amazon.in/Deuce-300-Resistant-Tang...</td>\n",
       "    </tr>\n",
       "    <tr>\n",
       "      <th>4</th>\n",
       "      <td>B08CF3B7N1</td>\n",
       "      <td>Portronics Konnect L 1.2M Fast Charging 3A 8 P...</td>\n",
       "      <td>Computers&amp;Accessories|Accessories&amp;Peripherals|...</td>\n",
       "      <td>1.848</td>\n",
       "      <td>4.788</td>\n",
       "      <td>61.0</td>\n",
       "      <td>4.2</td>\n",
       "      <td>16,905</td>\n",
       "      <td>[CHARGE &amp; SYNC FUNCTION]- This cable comes wit...</td>\n",
       "      <td>AE3Q6KSUK5P75D5HFYHCRAOLODSA,AFUGIFH5ZAFXRDSZH...</td>\n",
       "      <td>rahuls6099,Swasat Borah,Ajay Wadke,Pranali,RVK...</td>\n",
       "      <td>R1BP4L2HH9TFUP,R16PVJEXKV6QZS,R2UPDB81N66T4P,R...</td>\n",
       "      <td>As good as original,Decent,Good one for second...</td>\n",
       "      <td>Bought this instead of original apple, does th...</td>\n",
       "      <td>https://m.media-amazon.com/images/W/WEBP_40237...</td>\n",
       "      <td>https://www.amazon.in/Portronics-Konnect-POR-1...</td>\n",
       "    </tr>\n",
       "  </tbody>\n",
       "</table>\n",
       "</div>"
      ],
      "text/plain": [
       "   product_id                                       product_name  \\\n",
       "0  B07JW9H4J1  Wayona Nylon Braided USB to Lightning Fast Cha...   \n",
       "1  B098NS6PVG  Ambrane Unbreakable 60W / 3A Fast Charging 1.5...   \n",
       "2  B096MSW6CT  Sounce Fast Phone Charging Cable & Data Sync U...   \n",
       "3  B08HDJ86NZ  boAt Deuce USB 300 2 in 1 Type-C & Micro USB S...   \n",
       "4  B08CF3B7N1  Portronics Konnect L 1.2M Fast Charging 3A 8 P...   \n",
       "\n",
       "                                            category  discounted_price  \\\n",
       "0  Computers&Accessories|Accessories&Peripherals|...             4.788   \n",
       "1  Computers&Accessories|Accessories&Peripherals|...             2.388   \n",
       "2  Computers&Accessories|Accessories&Peripherals|...             2.388   \n",
       "3  Computers&Accessories|Accessories&Peripherals|...             3.948   \n",
       "4  Computers&Accessories|Accessories&Peripherals|...             1.848   \n",
       "\n",
       "   actual_price  discount_percentage rating rating_count  \\\n",
       "0        13.188                 64.0    4.2       24,269   \n",
       "1         4.188                 43.0    4.0       43,994   \n",
       "2        22.788                 90.0    3.9        7,928   \n",
       "3         8.388                 53.0    4.2       94,363   \n",
       "4         4.788                 61.0    4.2       16,905   \n",
       "\n",
       "                                       about_product  \\\n",
       "0  High Compatibility : Compatible With iPhone 12...   \n",
       "1  Compatible with all Type C enabled devices, be...   \n",
       "2  【 Fast Charger& Data Sync】-With built-in safet...   \n",
       "3  The boAt Deuce USB 300 2 in 1 cable is compati...   \n",
       "4  [CHARGE & SYNC FUNCTION]- This cable comes wit...   \n",
       "\n",
       "                                             user_id  \\\n",
       "0  AG3D6O4STAQKAY2UVGEUV46KN35Q,AHMY5CWJMMK5BJRBB...   \n",
       "1  AECPFYFQVRUWC3KGNLJIOREFP5LQ,AGYYVPDD7YG7FYNBX...   \n",
       "2  AGU3BBQ2V2DDAMOAKGFAWDDQ6QHA,AESFLDV2PT363T2AQ...   \n",
       "3  AEWAZDZZJLQUYVOVGBEUKSLXHQ5A,AG5HTSFRRE6NL3M5S...   \n",
       "4  AE3Q6KSUK5P75D5HFYHCRAOLODSA,AFUGIFH5ZAFXRDSZH...   \n",
       "\n",
       "                                           user_name  \\\n",
       "0  Manav,Adarsh gupta,Sundeep,S.Sayeed Ahmed,jasp...   \n",
       "1  ArdKn,Nirbhay kumar,Sagar Viswanathan,Asp,Plac...   \n",
       "2  Kunal,Himanshu,viswanath,sai niharka,saqib mal...   \n",
       "3  Omkar dhale,JD,HEMALATHA,Ajwadh a.,amar singh ...   \n",
       "4  rahuls6099,Swasat Borah,Ajay Wadke,Pranali,RVK...   \n",
       "\n",
       "                                           review_id  \\\n",
       "0  R3HXWT0LRP0NMF,R2AJM3LFTLZHFO,R6AQJGUP6P86,R1K...   \n",
       "1  RGIQEG07R9HS2,R1SMWZQ86XIN8U,R2J3Y1WL29GWDE,RY...   \n",
       "2  R3J3EQQ9TZI5ZJ,R3E7WBGK7ID0KV,RWU79XKQ6I1QF,R2...   \n",
       "3  R3EEUZKKK9J36I,R3HJVYCLYOY554,REDECAZ7AMPQC,R1...   \n",
       "4  R1BP4L2HH9TFUP,R16PVJEXKV6QZS,R2UPDB81N66T4P,R...   \n",
       "\n",
       "                                        review_title  \\\n",
       "0  Satisfied,Charging is really fast,Value for mo...   \n",
       "1  A Good Braided Cable for Your Type C Device,Go...   \n",
       "2  Good speed for earlier versions,Good Product,W...   \n",
       "3  Good product,Good one,Nice,Really nice product...   \n",
       "4  As good as original,Decent,Good one for second...   \n",
       "\n",
       "                                      review_content  \\\n",
       "0  Looks durable Charging is fine tooNo complains...   \n",
       "1  I ordered this cable to connect my phone to An...   \n",
       "2  Not quite durable and sturdy,https://m.media-a...   \n",
       "3  Good product,long wire,Charges good,Nice,I bou...   \n",
       "4  Bought this instead of original apple, does th...   \n",
       "\n",
       "                                            img_link  \\\n",
       "0  https://m.media-amazon.com/images/W/WEBP_40237...   \n",
       "1  https://m.media-amazon.com/images/W/WEBP_40237...   \n",
       "2  https://m.media-amazon.com/images/W/WEBP_40237...   \n",
       "3  https://m.media-amazon.com/images/I/41V5FtEWPk...   \n",
       "4  https://m.media-amazon.com/images/W/WEBP_40237...   \n",
       "\n",
       "                                        product_link  \n",
       "0  https://www.amazon.in/Wayona-Braided-WN3LG1-Sy...  \n",
       "1  https://www.amazon.in/Ambrane-Unbreakable-Char...  \n",
       "2  https://www.amazon.in/Sounce-iPhone-Charging-C...  \n",
       "3  https://www.amazon.in/Deuce-300-Resistant-Tang...  \n",
       "4  https://www.amazon.in/Portronics-Konnect-POR-1...  "
      ]
     },
     "execution_count": 632,
     "metadata": {},
     "output_type": "execute_result"
    }
   ],
   "source": [
    "df.head()"
   ]
  },
  {
   "cell_type": "code",
   "execution_count": 633,
   "metadata": {},
   "outputs": [
    {
     "data": {
      "text/plain": [
       "product_id              object\n",
       "product_name            object\n",
       "category                object\n",
       "discounted_price       float64\n",
       "actual_price           float64\n",
       "discount_percentage    float64\n",
       "rating                  object\n",
       "rating_count            object\n",
       "about_product           object\n",
       "user_id                 object\n",
       "user_name               object\n",
       "review_id               object\n",
       "review_title            object\n",
       "review_content          object\n",
       "img_link                object\n",
       "product_link            object\n",
       "dtype: object"
      ]
     },
     "execution_count": 633,
     "metadata": {},
     "output_type": "execute_result"
    }
   ],
   "source": [
    "df.dtypes"
   ]
  },
  {
   "cell_type": "markdown",
   "metadata": {},
   "source": [
    "As colunas rating, rating_count ainda estão como texto, então serão convertidas para valores numéricos."
   ]
  },
  {
   "cell_type": "markdown",
   "metadata": {},
   "source": [
    "**rating**"
   ]
  },
  {
   "cell_type": "code",
   "execution_count": 634,
   "metadata": {},
   "outputs": [],
   "source": [
    "df[\"rating\"] = pd.to_numeric(df[\"rating\"], errors=\"coerce\")"
   ]
  },
  {
   "cell_type": "code",
   "execution_count": 635,
   "metadata": {},
   "outputs": [
    {
     "data": {
      "text/plain": [
       "1"
      ]
     },
     "execution_count": 635,
     "metadata": {},
     "output_type": "execute_result"
    }
   ],
   "source": [
    "df[\"rating\"].isna().sum()"
   ]
  },
  {
   "cell_type": "markdown",
   "metadata": {},
   "source": [
    "Após conversão, um valor NA foi gerado e essa linha será removida."
   ]
  },
  {
   "cell_type": "code",
   "execution_count": 636,
   "metadata": {},
   "outputs": [],
   "source": [
    "df = df.dropna(subset=[\"rating\"])"
   ]
  },
  {
   "cell_type": "markdown",
   "metadata": {},
   "source": [
    "**rating_count**"
   ]
  },
  {
   "cell_type": "code",
   "execution_count": 637,
   "metadata": {},
   "outputs": [
    {
     "data": {
      "text/plain": [
       "rating_count\n",
       "9,378     9\n",
       "18,998    8\n",
       "24,269    6\n",
       "32,840    5\n",
       "19,252    5\n",
       "         ..\n",
       "5,176     1\n",
       "8,614     1\n",
       "60,026    1\n",
       "3,066     1\n",
       "6,987     1\n",
       "Name: count, Length: 1116, dtype: int64"
      ]
     },
     "execution_count": 637,
     "metadata": {},
     "output_type": "execute_result"
    }
   ],
   "source": [
    "df[\"rating_count\"].value_counts()"
   ]
  },
  {
   "cell_type": "code",
   "execution_count": 638,
   "metadata": {},
   "outputs": [
    {
     "data": {
      "text/plain": [
       "0       24,269\n",
       "1       43,994\n",
       "2        7,928\n",
       "3       94,363\n",
       "4       16,905\n",
       "         ...  \n",
       "1460     1,090\n",
       "1461     4,118\n",
       "1462       468\n",
       "1463     8,031\n",
       "1464     6,987\n",
       "Name: rating_count, Length: 1348, dtype: object"
      ]
     },
     "execution_count": 638,
     "metadata": {},
     "output_type": "execute_result"
    }
   ],
   "source": [
    "df[\"rating_count\"]"
   ]
  },
  {
   "cell_type": "code",
   "execution_count": 639,
   "metadata": {},
   "outputs": [
    {
     "data": {
      "text/plain": [
       "0       24.269\n",
       "1       43.994\n",
       "2        7.928\n",
       "3       94.363\n",
       "4       16.905\n",
       "         ...  \n",
       "1460     1.090\n",
       "1461     4.118\n",
       "1462       468\n",
       "1463     8.031\n",
       "1464     6.987\n",
       "Name: rating_count, Length: 1348, dtype: object"
      ]
     },
     "execution_count": 639,
     "metadata": {},
     "output_type": "execute_result"
    }
   ],
   "source": [
    "df[\"rating_count\"] = df[\"rating_count\"].str.replace(\",\", \".\")\n",
    "df[\"rating_count\"]"
   ]
  },
  {
   "cell_type": "code",
   "execution_count": 640,
   "metadata": {},
   "outputs": [],
   "source": [
    "df[\"rating_count\"] = pd.to_numeric(df[\"rating_count\"], errors=\"coerce\")"
   ]
  },
  {
   "cell_type": "code",
   "execution_count": 641,
   "metadata": {},
   "outputs": [
    {
     "data": {
      "text/html": [
       "<div>\n",
       "<style scoped>\n",
       "    .dataframe tbody tr th:only-of-type {\n",
       "        vertical-align: middle;\n",
       "    }\n",
       "\n",
       "    .dataframe tbody tr th {\n",
       "        vertical-align: top;\n",
       "    }\n",
       "\n",
       "    .dataframe thead th {\n",
       "        text-align: right;\n",
       "    }\n",
       "</style>\n",
       "<table border=\"1\" class=\"dataframe\">\n",
       "  <thead>\n",
       "    <tr style=\"text-align: right;\">\n",
       "      <th></th>\n",
       "      <th>product_id</th>\n",
       "      <th>product_name</th>\n",
       "      <th>category</th>\n",
       "      <th>discounted_price</th>\n",
       "      <th>actual_price</th>\n",
       "      <th>discount_percentage</th>\n",
       "      <th>rating</th>\n",
       "      <th>rating_count</th>\n",
       "      <th>about_product</th>\n",
       "      <th>user_id</th>\n",
       "      <th>user_name</th>\n",
       "      <th>review_id</th>\n",
       "      <th>review_title</th>\n",
       "      <th>review_content</th>\n",
       "      <th>img_link</th>\n",
       "      <th>product_link</th>\n",
       "    </tr>\n",
       "  </thead>\n",
       "  <tbody>\n",
       "    <tr>\n",
       "      <th>0</th>\n",
       "      <td>B07JW9H4J1</td>\n",
       "      <td>Wayona Nylon Braided USB to Lightning Fast Cha...</td>\n",
       "      <td>Computers&amp;Accessories|Accessories&amp;Peripherals|...</td>\n",
       "      <td>4.788</td>\n",
       "      <td>13.188</td>\n",
       "      <td>64.0</td>\n",
       "      <td>4.2</td>\n",
       "      <td>24.269</td>\n",
       "      <td>High Compatibility : Compatible With iPhone 12...</td>\n",
       "      <td>AG3D6O4STAQKAY2UVGEUV46KN35Q,AHMY5CWJMMK5BJRBB...</td>\n",
       "      <td>Manav,Adarsh gupta,Sundeep,S.Sayeed Ahmed,jasp...</td>\n",
       "      <td>R3HXWT0LRP0NMF,R2AJM3LFTLZHFO,R6AQJGUP6P86,R1K...</td>\n",
       "      <td>Satisfied,Charging is really fast,Value for mo...</td>\n",
       "      <td>Looks durable Charging is fine tooNo complains...</td>\n",
       "      <td>https://m.media-amazon.com/images/W/WEBP_40237...</td>\n",
       "      <td>https://www.amazon.in/Wayona-Braided-WN3LG1-Sy...</td>\n",
       "    </tr>\n",
       "    <tr>\n",
       "      <th>1</th>\n",
       "      <td>B098NS6PVG</td>\n",
       "      <td>Ambrane Unbreakable 60W / 3A Fast Charging 1.5...</td>\n",
       "      <td>Computers&amp;Accessories|Accessories&amp;Peripherals|...</td>\n",
       "      <td>2.388</td>\n",
       "      <td>4.188</td>\n",
       "      <td>43.0</td>\n",
       "      <td>4.0</td>\n",
       "      <td>43.994</td>\n",
       "      <td>Compatible with all Type C enabled devices, be...</td>\n",
       "      <td>AECPFYFQVRUWC3KGNLJIOREFP5LQ,AGYYVPDD7YG7FYNBX...</td>\n",
       "      <td>ArdKn,Nirbhay kumar,Sagar Viswanathan,Asp,Plac...</td>\n",
       "      <td>RGIQEG07R9HS2,R1SMWZQ86XIN8U,R2J3Y1WL29GWDE,RY...</td>\n",
       "      <td>A Good Braided Cable for Your Type C Device,Go...</td>\n",
       "      <td>I ordered this cable to connect my phone to An...</td>\n",
       "      <td>https://m.media-amazon.com/images/W/WEBP_40237...</td>\n",
       "      <td>https://www.amazon.in/Ambrane-Unbreakable-Char...</td>\n",
       "    </tr>\n",
       "    <tr>\n",
       "      <th>2</th>\n",
       "      <td>B096MSW6CT</td>\n",
       "      <td>Sounce Fast Phone Charging Cable &amp; Data Sync U...</td>\n",
       "      <td>Computers&amp;Accessories|Accessories&amp;Peripherals|...</td>\n",
       "      <td>2.388</td>\n",
       "      <td>22.788</td>\n",
       "      <td>90.0</td>\n",
       "      <td>3.9</td>\n",
       "      <td>7.928</td>\n",
       "      <td>【 Fast Charger&amp; Data Sync】-With built-in safet...</td>\n",
       "      <td>AGU3BBQ2V2DDAMOAKGFAWDDQ6QHA,AESFLDV2PT363T2AQ...</td>\n",
       "      <td>Kunal,Himanshu,viswanath,sai niharka,saqib mal...</td>\n",
       "      <td>R3J3EQQ9TZI5ZJ,R3E7WBGK7ID0KV,RWU79XKQ6I1QF,R2...</td>\n",
       "      <td>Good speed for earlier versions,Good Product,W...</td>\n",
       "      <td>Not quite durable and sturdy,https://m.media-a...</td>\n",
       "      <td>https://m.media-amazon.com/images/W/WEBP_40237...</td>\n",
       "      <td>https://www.amazon.in/Sounce-iPhone-Charging-C...</td>\n",
       "    </tr>\n",
       "    <tr>\n",
       "      <th>3</th>\n",
       "      <td>B08HDJ86NZ</td>\n",
       "      <td>boAt Deuce USB 300 2 in 1 Type-C &amp; Micro USB S...</td>\n",
       "      <td>Computers&amp;Accessories|Accessories&amp;Peripherals|...</td>\n",
       "      <td>3.948</td>\n",
       "      <td>8.388</td>\n",
       "      <td>53.0</td>\n",
       "      <td>4.2</td>\n",
       "      <td>94.363</td>\n",
       "      <td>The boAt Deuce USB 300 2 in 1 cable is compati...</td>\n",
       "      <td>AEWAZDZZJLQUYVOVGBEUKSLXHQ5A,AG5HTSFRRE6NL3M5S...</td>\n",
       "      <td>Omkar dhale,JD,HEMALATHA,Ajwadh a.,amar singh ...</td>\n",
       "      <td>R3EEUZKKK9J36I,R3HJVYCLYOY554,REDECAZ7AMPQC,R1...</td>\n",
       "      <td>Good product,Good one,Nice,Really nice product...</td>\n",
       "      <td>Good product,long wire,Charges good,Nice,I bou...</td>\n",
       "      <td>https://m.media-amazon.com/images/I/41V5FtEWPk...</td>\n",
       "      <td>https://www.amazon.in/Deuce-300-Resistant-Tang...</td>\n",
       "    </tr>\n",
       "    <tr>\n",
       "      <th>4</th>\n",
       "      <td>B08CF3B7N1</td>\n",
       "      <td>Portronics Konnect L 1.2M Fast Charging 3A 8 P...</td>\n",
       "      <td>Computers&amp;Accessories|Accessories&amp;Peripherals|...</td>\n",
       "      <td>1.848</td>\n",
       "      <td>4.788</td>\n",
       "      <td>61.0</td>\n",
       "      <td>4.2</td>\n",
       "      <td>16.905</td>\n",
       "      <td>[CHARGE &amp; SYNC FUNCTION]- This cable comes wit...</td>\n",
       "      <td>AE3Q6KSUK5P75D5HFYHCRAOLODSA,AFUGIFH5ZAFXRDSZH...</td>\n",
       "      <td>rahuls6099,Swasat Borah,Ajay Wadke,Pranali,RVK...</td>\n",
       "      <td>R1BP4L2HH9TFUP,R16PVJEXKV6QZS,R2UPDB81N66T4P,R...</td>\n",
       "      <td>As good as original,Decent,Good one for second...</td>\n",
       "      <td>Bought this instead of original apple, does th...</td>\n",
       "      <td>https://m.media-amazon.com/images/W/WEBP_40237...</td>\n",
       "      <td>https://www.amazon.in/Portronics-Konnect-POR-1...</td>\n",
       "    </tr>\n",
       "  </tbody>\n",
       "</table>\n",
       "</div>"
      ],
      "text/plain": [
       "   product_id                                       product_name  \\\n",
       "0  B07JW9H4J1  Wayona Nylon Braided USB to Lightning Fast Cha...   \n",
       "1  B098NS6PVG  Ambrane Unbreakable 60W / 3A Fast Charging 1.5...   \n",
       "2  B096MSW6CT  Sounce Fast Phone Charging Cable & Data Sync U...   \n",
       "3  B08HDJ86NZ  boAt Deuce USB 300 2 in 1 Type-C & Micro USB S...   \n",
       "4  B08CF3B7N1  Portronics Konnect L 1.2M Fast Charging 3A 8 P...   \n",
       "\n",
       "                                            category  discounted_price  \\\n",
       "0  Computers&Accessories|Accessories&Peripherals|...             4.788   \n",
       "1  Computers&Accessories|Accessories&Peripherals|...             2.388   \n",
       "2  Computers&Accessories|Accessories&Peripherals|...             2.388   \n",
       "3  Computers&Accessories|Accessories&Peripherals|...             3.948   \n",
       "4  Computers&Accessories|Accessories&Peripherals|...             1.848   \n",
       "\n",
       "   actual_price  discount_percentage  rating  rating_count  \\\n",
       "0        13.188                 64.0     4.2        24.269   \n",
       "1         4.188                 43.0     4.0        43.994   \n",
       "2        22.788                 90.0     3.9         7.928   \n",
       "3         8.388                 53.0     4.2        94.363   \n",
       "4         4.788                 61.0     4.2        16.905   \n",
       "\n",
       "                                       about_product  \\\n",
       "0  High Compatibility : Compatible With iPhone 12...   \n",
       "1  Compatible with all Type C enabled devices, be...   \n",
       "2  【 Fast Charger& Data Sync】-With built-in safet...   \n",
       "3  The boAt Deuce USB 300 2 in 1 cable is compati...   \n",
       "4  [CHARGE & SYNC FUNCTION]- This cable comes wit...   \n",
       "\n",
       "                                             user_id  \\\n",
       "0  AG3D6O4STAQKAY2UVGEUV46KN35Q,AHMY5CWJMMK5BJRBB...   \n",
       "1  AECPFYFQVRUWC3KGNLJIOREFP5LQ,AGYYVPDD7YG7FYNBX...   \n",
       "2  AGU3BBQ2V2DDAMOAKGFAWDDQ6QHA,AESFLDV2PT363T2AQ...   \n",
       "3  AEWAZDZZJLQUYVOVGBEUKSLXHQ5A,AG5HTSFRRE6NL3M5S...   \n",
       "4  AE3Q6KSUK5P75D5HFYHCRAOLODSA,AFUGIFH5ZAFXRDSZH...   \n",
       "\n",
       "                                           user_name  \\\n",
       "0  Manav,Adarsh gupta,Sundeep,S.Sayeed Ahmed,jasp...   \n",
       "1  ArdKn,Nirbhay kumar,Sagar Viswanathan,Asp,Plac...   \n",
       "2  Kunal,Himanshu,viswanath,sai niharka,saqib mal...   \n",
       "3  Omkar dhale,JD,HEMALATHA,Ajwadh a.,amar singh ...   \n",
       "4  rahuls6099,Swasat Borah,Ajay Wadke,Pranali,RVK...   \n",
       "\n",
       "                                           review_id  \\\n",
       "0  R3HXWT0LRP0NMF,R2AJM3LFTLZHFO,R6AQJGUP6P86,R1K...   \n",
       "1  RGIQEG07R9HS2,R1SMWZQ86XIN8U,R2J3Y1WL29GWDE,RY...   \n",
       "2  R3J3EQQ9TZI5ZJ,R3E7WBGK7ID0KV,RWU79XKQ6I1QF,R2...   \n",
       "3  R3EEUZKKK9J36I,R3HJVYCLYOY554,REDECAZ7AMPQC,R1...   \n",
       "4  R1BP4L2HH9TFUP,R16PVJEXKV6QZS,R2UPDB81N66T4P,R...   \n",
       "\n",
       "                                        review_title  \\\n",
       "0  Satisfied,Charging is really fast,Value for mo...   \n",
       "1  A Good Braided Cable for Your Type C Device,Go...   \n",
       "2  Good speed for earlier versions,Good Product,W...   \n",
       "3  Good product,Good one,Nice,Really nice product...   \n",
       "4  As good as original,Decent,Good one for second...   \n",
       "\n",
       "                                      review_content  \\\n",
       "0  Looks durable Charging is fine tooNo complains...   \n",
       "1  I ordered this cable to connect my phone to An...   \n",
       "2  Not quite durable and sturdy,https://m.media-a...   \n",
       "3  Good product,long wire,Charges good,Nice,I bou...   \n",
       "4  Bought this instead of original apple, does th...   \n",
       "\n",
       "                                            img_link  \\\n",
       "0  https://m.media-amazon.com/images/W/WEBP_40237...   \n",
       "1  https://m.media-amazon.com/images/W/WEBP_40237...   \n",
       "2  https://m.media-amazon.com/images/W/WEBP_40237...   \n",
       "3  https://m.media-amazon.com/images/I/41V5FtEWPk...   \n",
       "4  https://m.media-amazon.com/images/W/WEBP_40237...   \n",
       "\n",
       "                                        product_link  \n",
       "0  https://www.amazon.in/Wayona-Braided-WN3LG1-Sy...  \n",
       "1  https://www.amazon.in/Ambrane-Unbreakable-Char...  \n",
       "2  https://www.amazon.in/Sounce-iPhone-Charging-C...  \n",
       "3  https://www.amazon.in/Deuce-300-Resistant-Tang...  \n",
       "4  https://www.amazon.in/Portronics-Konnect-POR-1...  "
      ]
     },
     "execution_count": 641,
     "metadata": {},
     "output_type": "execute_result"
    }
   ],
   "source": [
    "df.head()"
   ]
  },
  {
   "cell_type": "code",
   "execution_count": 642,
   "metadata": {},
   "outputs": [
    {
     "data": {
      "text/plain": [
       "43"
      ]
     },
     "execution_count": 642,
     "metadata": {},
     "output_type": "execute_result"
    }
   ],
   "source": [
    "df[\"rating_count\"].isna().sum()"
   ]
  },
  {
   "cell_type": "markdown",
   "metadata": {},
   "source": [
    "47 valores NA foram gerados e essas linhas serão removidas."
   ]
  },
  {
   "cell_type": "code",
   "execution_count": 643,
   "metadata": {},
   "outputs": [],
   "source": [
    "df = df.dropna(subset=[\"rating_count\"])"
   ]
  },
  {
   "cell_type": "markdown",
   "metadata": {},
   "source": [
    "### Verificando os tipos dos dados"
   ]
  },
  {
   "cell_type": "code",
   "execution_count": 644,
   "metadata": {},
   "outputs": [
    {
     "data": {
      "text/plain": [
       "product_id              object\n",
       "product_name            object\n",
       "category                object\n",
       "discounted_price       float64\n",
       "actual_price           float64\n",
       "discount_percentage    float64\n",
       "rating                 float64\n",
       "rating_count           float64\n",
       "about_product           object\n",
       "user_id                 object\n",
       "user_name               object\n",
       "review_id               object\n",
       "review_title            object\n",
       "review_content          object\n",
       "img_link                object\n",
       "product_link            object\n",
       "dtype: object"
      ]
     },
     "execution_count": 644,
     "metadata": {},
     "output_type": "execute_result"
    }
   ],
   "source": [
    "df.dtypes"
   ]
  },
  {
   "cell_type": "markdown",
   "metadata": {},
   "source": [
    "Verificando os tipos de dados, agora todas as colunas estão com os tipos corretos.\n",
    "\n",
    "discounted_price, actual_price, discount_percentage, rating e rating_count são do tipo numérico, enquanto\n",
    "que as demais colunas são do tipo texto."
   ]
  },
  {
   "cell_type": "code",
   "execution_count": 645,
   "metadata": {},
   "outputs": [
    {
     "data": {
      "text/plain": [
       "product_id             0\n",
       "product_name           0\n",
       "category               0\n",
       "discounted_price       0\n",
       "actual_price           0\n",
       "discount_percentage    0\n",
       "rating                 0\n",
       "rating_count           0\n",
       "about_product          0\n",
       "user_id                0\n",
       "user_name              0\n",
       "review_id              0\n",
       "review_title           0\n",
       "review_content         0\n",
       "img_link               0\n",
       "product_link           0\n",
       "dtype: int64"
      ]
     },
     "execution_count": 645,
     "metadata": {},
     "output_type": "execute_result"
    }
   ],
   "source": [
    "df.isna().sum()"
   ]
  },
  {
   "cell_type": "markdown",
   "metadata": {},
   "source": [
    "E finalizando a verificação dos dados, nenhuma coluna tem NA."
   ]
  },
  {
   "cell_type": "code",
   "execution_count": 646,
   "metadata": {},
   "outputs": [
    {
     "data": {
      "text/html": [
       "<div>\n",
       "<style scoped>\n",
       "    .dataframe tbody tr th:only-of-type {\n",
       "        vertical-align: middle;\n",
       "    }\n",
       "\n",
       "    .dataframe tbody tr th {\n",
       "        vertical-align: top;\n",
       "    }\n",
       "\n",
       "    .dataframe thead th {\n",
       "        text-align: right;\n",
       "    }\n",
       "</style>\n",
       "<table border=\"1\" class=\"dataframe\">\n",
       "  <thead>\n",
       "    <tr style=\"text-align: right;\">\n",
       "      <th></th>\n",
       "      <th>product_id</th>\n",
       "      <th>product_name</th>\n",
       "      <th>category</th>\n",
       "      <th>discounted_price</th>\n",
       "      <th>actual_price</th>\n",
       "      <th>discount_percentage</th>\n",
       "      <th>rating</th>\n",
       "      <th>rating_count</th>\n",
       "      <th>about_product</th>\n",
       "      <th>user_id</th>\n",
       "      <th>user_name</th>\n",
       "      <th>review_id</th>\n",
       "      <th>review_title</th>\n",
       "      <th>review_content</th>\n",
       "      <th>img_link</th>\n",
       "      <th>product_link</th>\n",
       "    </tr>\n",
       "  </thead>\n",
       "  <tbody>\n",
       "    <tr>\n",
       "      <th>0</th>\n",
       "      <td>B07JW9H4J1</td>\n",
       "      <td>Wayona Nylon Braided USB to Lightning Fast Cha...</td>\n",
       "      <td>Computers&amp;Accessories|Accessories&amp;Peripherals|...</td>\n",
       "      <td>4.788</td>\n",
       "      <td>13.188</td>\n",
       "      <td>64.0</td>\n",
       "      <td>4.2</td>\n",
       "      <td>24.269</td>\n",
       "      <td>High Compatibility : Compatible With iPhone 12...</td>\n",
       "      <td>AG3D6O4STAQKAY2UVGEUV46KN35Q,AHMY5CWJMMK5BJRBB...</td>\n",
       "      <td>Manav,Adarsh gupta,Sundeep,S.Sayeed Ahmed,jasp...</td>\n",
       "      <td>R3HXWT0LRP0NMF,R2AJM3LFTLZHFO,R6AQJGUP6P86,R1K...</td>\n",
       "      <td>Satisfied,Charging is really fast,Value for mo...</td>\n",
       "      <td>Looks durable Charging is fine tooNo complains...</td>\n",
       "      <td>https://m.media-amazon.com/images/W/WEBP_40237...</td>\n",
       "      <td>https://www.amazon.in/Wayona-Braided-WN3LG1-Sy...</td>\n",
       "    </tr>\n",
       "    <tr>\n",
       "      <th>1</th>\n",
       "      <td>B098NS6PVG</td>\n",
       "      <td>Ambrane Unbreakable 60W / 3A Fast Charging 1.5...</td>\n",
       "      <td>Computers&amp;Accessories|Accessories&amp;Peripherals|...</td>\n",
       "      <td>2.388</td>\n",
       "      <td>4.188</td>\n",
       "      <td>43.0</td>\n",
       "      <td>4.0</td>\n",
       "      <td>43.994</td>\n",
       "      <td>Compatible with all Type C enabled devices, be...</td>\n",
       "      <td>AECPFYFQVRUWC3KGNLJIOREFP5LQ,AGYYVPDD7YG7FYNBX...</td>\n",
       "      <td>ArdKn,Nirbhay kumar,Sagar Viswanathan,Asp,Plac...</td>\n",
       "      <td>RGIQEG07R9HS2,R1SMWZQ86XIN8U,R2J3Y1WL29GWDE,RY...</td>\n",
       "      <td>A Good Braided Cable for Your Type C Device,Go...</td>\n",
       "      <td>I ordered this cable to connect my phone to An...</td>\n",
       "      <td>https://m.media-amazon.com/images/W/WEBP_40237...</td>\n",
       "      <td>https://www.amazon.in/Ambrane-Unbreakable-Char...</td>\n",
       "    </tr>\n",
       "    <tr>\n",
       "      <th>2</th>\n",
       "      <td>B096MSW6CT</td>\n",
       "      <td>Sounce Fast Phone Charging Cable &amp; Data Sync U...</td>\n",
       "      <td>Computers&amp;Accessories|Accessories&amp;Peripherals|...</td>\n",
       "      <td>2.388</td>\n",
       "      <td>22.788</td>\n",
       "      <td>90.0</td>\n",
       "      <td>3.9</td>\n",
       "      <td>7.928</td>\n",
       "      <td>【 Fast Charger&amp; Data Sync】-With built-in safet...</td>\n",
       "      <td>AGU3BBQ2V2DDAMOAKGFAWDDQ6QHA,AESFLDV2PT363T2AQ...</td>\n",
       "      <td>Kunal,Himanshu,viswanath,sai niharka,saqib mal...</td>\n",
       "      <td>R3J3EQQ9TZI5ZJ,R3E7WBGK7ID0KV,RWU79XKQ6I1QF,R2...</td>\n",
       "      <td>Good speed for earlier versions,Good Product,W...</td>\n",
       "      <td>Not quite durable and sturdy,https://m.media-a...</td>\n",
       "      <td>https://m.media-amazon.com/images/W/WEBP_40237...</td>\n",
       "      <td>https://www.amazon.in/Sounce-iPhone-Charging-C...</td>\n",
       "    </tr>\n",
       "    <tr>\n",
       "      <th>3</th>\n",
       "      <td>B08HDJ86NZ</td>\n",
       "      <td>boAt Deuce USB 300 2 in 1 Type-C &amp; Micro USB S...</td>\n",
       "      <td>Computers&amp;Accessories|Accessories&amp;Peripherals|...</td>\n",
       "      <td>3.948</td>\n",
       "      <td>8.388</td>\n",
       "      <td>53.0</td>\n",
       "      <td>4.2</td>\n",
       "      <td>94.363</td>\n",
       "      <td>The boAt Deuce USB 300 2 in 1 cable is compati...</td>\n",
       "      <td>AEWAZDZZJLQUYVOVGBEUKSLXHQ5A,AG5HTSFRRE6NL3M5S...</td>\n",
       "      <td>Omkar dhale,JD,HEMALATHA,Ajwadh a.,amar singh ...</td>\n",
       "      <td>R3EEUZKKK9J36I,R3HJVYCLYOY554,REDECAZ7AMPQC,R1...</td>\n",
       "      <td>Good product,Good one,Nice,Really nice product...</td>\n",
       "      <td>Good product,long wire,Charges good,Nice,I bou...</td>\n",
       "      <td>https://m.media-amazon.com/images/I/41V5FtEWPk...</td>\n",
       "      <td>https://www.amazon.in/Deuce-300-Resistant-Tang...</td>\n",
       "    </tr>\n",
       "    <tr>\n",
       "      <th>4</th>\n",
       "      <td>B08CF3B7N1</td>\n",
       "      <td>Portronics Konnect L 1.2M Fast Charging 3A 8 P...</td>\n",
       "      <td>Computers&amp;Accessories|Accessories&amp;Peripherals|...</td>\n",
       "      <td>1.848</td>\n",
       "      <td>4.788</td>\n",
       "      <td>61.0</td>\n",
       "      <td>4.2</td>\n",
       "      <td>16.905</td>\n",
       "      <td>[CHARGE &amp; SYNC FUNCTION]- This cable comes wit...</td>\n",
       "      <td>AE3Q6KSUK5P75D5HFYHCRAOLODSA,AFUGIFH5ZAFXRDSZH...</td>\n",
       "      <td>rahuls6099,Swasat Borah,Ajay Wadke,Pranali,RVK...</td>\n",
       "      <td>R1BP4L2HH9TFUP,R16PVJEXKV6QZS,R2UPDB81N66T4P,R...</td>\n",
       "      <td>As good as original,Decent,Good one for second...</td>\n",
       "      <td>Bought this instead of original apple, does th...</td>\n",
       "      <td>https://m.media-amazon.com/images/W/WEBP_40237...</td>\n",
       "      <td>https://www.amazon.in/Portronics-Konnect-POR-1...</td>\n",
       "    </tr>\n",
       "  </tbody>\n",
       "</table>\n",
       "</div>"
      ],
      "text/plain": [
       "   product_id                                       product_name  \\\n",
       "0  B07JW9H4J1  Wayona Nylon Braided USB to Lightning Fast Cha...   \n",
       "1  B098NS6PVG  Ambrane Unbreakable 60W / 3A Fast Charging 1.5...   \n",
       "2  B096MSW6CT  Sounce Fast Phone Charging Cable & Data Sync U...   \n",
       "3  B08HDJ86NZ  boAt Deuce USB 300 2 in 1 Type-C & Micro USB S...   \n",
       "4  B08CF3B7N1  Portronics Konnect L 1.2M Fast Charging 3A 8 P...   \n",
       "\n",
       "                                            category  discounted_price  \\\n",
       "0  Computers&Accessories|Accessories&Peripherals|...             4.788   \n",
       "1  Computers&Accessories|Accessories&Peripherals|...             2.388   \n",
       "2  Computers&Accessories|Accessories&Peripherals|...             2.388   \n",
       "3  Computers&Accessories|Accessories&Peripherals|...             3.948   \n",
       "4  Computers&Accessories|Accessories&Peripherals|...             1.848   \n",
       "\n",
       "   actual_price  discount_percentage  rating  rating_count  \\\n",
       "0        13.188                 64.0     4.2        24.269   \n",
       "1         4.188                 43.0     4.0        43.994   \n",
       "2        22.788                 90.0     3.9         7.928   \n",
       "3         8.388                 53.0     4.2        94.363   \n",
       "4         4.788                 61.0     4.2        16.905   \n",
       "\n",
       "                                       about_product  \\\n",
       "0  High Compatibility : Compatible With iPhone 12...   \n",
       "1  Compatible with all Type C enabled devices, be...   \n",
       "2  【 Fast Charger& Data Sync】-With built-in safet...   \n",
       "3  The boAt Deuce USB 300 2 in 1 cable is compati...   \n",
       "4  [CHARGE & SYNC FUNCTION]- This cable comes wit...   \n",
       "\n",
       "                                             user_id  \\\n",
       "0  AG3D6O4STAQKAY2UVGEUV46KN35Q,AHMY5CWJMMK5BJRBB...   \n",
       "1  AECPFYFQVRUWC3KGNLJIOREFP5LQ,AGYYVPDD7YG7FYNBX...   \n",
       "2  AGU3BBQ2V2DDAMOAKGFAWDDQ6QHA,AESFLDV2PT363T2AQ...   \n",
       "3  AEWAZDZZJLQUYVOVGBEUKSLXHQ5A,AG5HTSFRRE6NL3M5S...   \n",
       "4  AE3Q6KSUK5P75D5HFYHCRAOLODSA,AFUGIFH5ZAFXRDSZH...   \n",
       "\n",
       "                                           user_name  \\\n",
       "0  Manav,Adarsh gupta,Sundeep,S.Sayeed Ahmed,jasp...   \n",
       "1  ArdKn,Nirbhay kumar,Sagar Viswanathan,Asp,Plac...   \n",
       "2  Kunal,Himanshu,viswanath,sai niharka,saqib mal...   \n",
       "3  Omkar dhale,JD,HEMALATHA,Ajwadh a.,amar singh ...   \n",
       "4  rahuls6099,Swasat Borah,Ajay Wadke,Pranali,RVK...   \n",
       "\n",
       "                                           review_id  \\\n",
       "0  R3HXWT0LRP0NMF,R2AJM3LFTLZHFO,R6AQJGUP6P86,R1K...   \n",
       "1  RGIQEG07R9HS2,R1SMWZQ86XIN8U,R2J3Y1WL29GWDE,RY...   \n",
       "2  R3J3EQQ9TZI5ZJ,R3E7WBGK7ID0KV,RWU79XKQ6I1QF,R2...   \n",
       "3  R3EEUZKKK9J36I,R3HJVYCLYOY554,REDECAZ7AMPQC,R1...   \n",
       "4  R1BP4L2HH9TFUP,R16PVJEXKV6QZS,R2UPDB81N66T4P,R...   \n",
       "\n",
       "                                        review_title  \\\n",
       "0  Satisfied,Charging is really fast,Value for mo...   \n",
       "1  A Good Braided Cable for Your Type C Device,Go...   \n",
       "2  Good speed for earlier versions,Good Product,W...   \n",
       "3  Good product,Good one,Nice,Really nice product...   \n",
       "4  As good as original,Decent,Good one for second...   \n",
       "\n",
       "                                      review_content  \\\n",
       "0  Looks durable Charging is fine tooNo complains...   \n",
       "1  I ordered this cable to connect my phone to An...   \n",
       "2  Not quite durable and sturdy,https://m.media-a...   \n",
       "3  Good product,long wire,Charges good,Nice,I bou...   \n",
       "4  Bought this instead of original apple, does th...   \n",
       "\n",
       "                                            img_link  \\\n",
       "0  https://m.media-amazon.com/images/W/WEBP_40237...   \n",
       "1  https://m.media-amazon.com/images/W/WEBP_40237...   \n",
       "2  https://m.media-amazon.com/images/W/WEBP_40237...   \n",
       "3  https://m.media-amazon.com/images/I/41V5FtEWPk...   \n",
       "4  https://m.media-amazon.com/images/W/WEBP_40237...   \n",
       "\n",
       "                                        product_link  \n",
       "0  https://www.amazon.in/Wayona-Braided-WN3LG1-Sy...  \n",
       "1  https://www.amazon.in/Ambrane-Unbreakable-Char...  \n",
       "2  https://www.amazon.in/Sounce-iPhone-Charging-C...  \n",
       "3  https://www.amazon.in/Deuce-300-Resistant-Tang...  \n",
       "4  https://www.amazon.in/Portronics-Konnect-POR-1...  "
      ]
     },
     "execution_count": 646,
     "metadata": {},
     "output_type": "execute_result"
    }
   ],
   "source": [
    "df.head()"
   ]
  },
  {
   "cell_type": "markdown",
   "metadata": {},
   "source": [
    "### Categorias e Subcategorias"
   ]
  },
  {
   "cell_type": "code",
   "execution_count": 647,
   "metadata": {},
   "outputs": [
    {
     "data": {
      "text/plain": [
       "category\n",
       "Computers&Accessories|Accessories&Peripherals|Cables&Accessories|Cables|USBCables                                          157\n",
       "Electronics|Mobiles&Accessories|Smartphones&BasicMobiles|Smartphones                                                        64\n",
       "Electronics|WearableTechnology|SmartWatches                                                                                 62\n",
       "Electronics|HomeTheater,TV&Video|Televisions|SmartTelevisions                                                               60\n",
       "Electronics|HomeTheater,TV&Video|Accessories|RemoteControls                                                                 49\n",
       "                                                                                                                          ... \n",
       "Computers&Accessories|NetworkingDevices|DataCards&Dongles                                                                    1\n",
       "Electronics|HomeAudio|Speakers|MultimediaSpeakerSystems                                                                      1\n",
       "OfficeProducts|OfficePaperProducts|Paper|Copy&PrintingPaper|ColouredPaper                                                    1\n",
       "Computers&Accessories|Accessories&Peripherals|TabletAccessories|Stands                                                       1\n",
       "Home&Kitchen|Kitchen&HomeAppliances|Vacuum,Cleaning&Ironing|Vacuums&FloorCare|VacuumAccessories|VacuumBags|HandheldBags      1\n",
       "Name: count, Length: 210, dtype: int64"
      ]
     },
     "execution_count": 647,
     "metadata": {},
     "output_type": "execute_result"
    }
   ],
   "source": [
    "df[\"category\"].value_counts()"
   ]
  },
  {
   "cell_type": "markdown",
   "metadata": {},
   "source": [
    "A coluna `category` contém categorias e subcategorias, então será feita a separação desses valores em duas colunas. Os valores estão separados por \"|\" e serão separados em duas colunas. Como pode se ter mais de uma sub-catgoria, pois pode ter mais de um \"|\", será selecionado o primeiro valor como categoria, o segundo valor como subcategoria e o último como categoria específica. Pode ter casos em que a subcategoria será igual à categoria específica."
   ]
  },
  {
   "cell_type": "code",
   "execution_count": 648,
   "metadata": {},
   "outputs": [],
   "source": [
    "df[\"main_category\"] = df[\"category\"].str.split(\"|\").str[0]\n",
    "df[\"sub_category\"] = df[\"category\"].str.split(\"|\").str[1]\n",
    "df[\"specific_category\"] = df[\"category\"].str.split(\"|\").str[-1]"
   ]
  },
  {
   "cell_type": "code",
   "execution_count": 649,
   "metadata": {},
   "outputs": [
    {
     "data": {
      "text/html": [
       "<div>\n",
       "<style scoped>\n",
       "    .dataframe tbody tr th:only-of-type {\n",
       "        vertical-align: middle;\n",
       "    }\n",
       "\n",
       "    .dataframe tbody tr th {\n",
       "        vertical-align: top;\n",
       "    }\n",
       "\n",
       "    .dataframe thead th {\n",
       "        text-align: right;\n",
       "    }\n",
       "</style>\n",
       "<table border=\"1\" class=\"dataframe\">\n",
       "  <thead>\n",
       "    <tr style=\"text-align: right;\">\n",
       "      <th></th>\n",
       "      <th>category</th>\n",
       "      <th>main_category</th>\n",
       "      <th>sub_category</th>\n",
       "      <th>specific_category</th>\n",
       "    </tr>\n",
       "  </thead>\n",
       "  <tbody>\n",
       "    <tr>\n",
       "      <th>708</th>\n",
       "      <td>Electronics|Headphones,Earbuds&amp;Accessories|Hea...</td>\n",
       "      <td>Electronics</td>\n",
       "      <td>Headphones,Earbuds&amp;Accessories</td>\n",
       "      <td>In-Ear</td>\n",
       "    </tr>\n",
       "    <tr>\n",
       "      <th>201</th>\n",
       "      <td>Computers&amp;Accessories|Accessories&amp;Peripherals|...</td>\n",
       "      <td>Computers&amp;Accessories</td>\n",
       "      <td>Accessories&amp;Peripherals</td>\n",
       "      <td>USBCables</td>\n",
       "    </tr>\n",
       "    <tr>\n",
       "      <th>1212</th>\n",
       "      <td>Home&amp;Kitchen|Kitchen&amp;HomeAppliances|Vacuum,Cle...</td>\n",
       "      <td>Home&amp;Kitchen</td>\n",
       "      <td>Kitchen&amp;HomeAppliances</td>\n",
       "      <td>HandheldVacuums</td>\n",
       "    </tr>\n",
       "    <tr>\n",
       "      <th>338</th>\n",
       "      <td>Electronics|Mobiles&amp;Accessories|Smartphones&amp;Ba...</td>\n",
       "      <td>Electronics</td>\n",
       "      <td>Mobiles&amp;Accessories</td>\n",
       "      <td>Smartphones</td>\n",
       "    </tr>\n",
       "    <tr>\n",
       "      <th>1445</th>\n",
       "      <td>Home&amp;Kitchen|Heating,Cooling&amp;AirQuality|Humidi...</td>\n",
       "      <td>Home&amp;Kitchen</td>\n",
       "      <td>Heating,Cooling&amp;AirQuality</td>\n",
       "      <td>Humidifiers</td>\n",
       "    </tr>\n",
       "  </tbody>\n",
       "</table>\n",
       "</div>"
      ],
      "text/plain": [
       "                                               category  \\\n",
       "708   Electronics|Headphones,Earbuds&Accessories|Hea...   \n",
       "201   Computers&Accessories|Accessories&Peripherals|...   \n",
       "1212  Home&Kitchen|Kitchen&HomeAppliances|Vacuum,Cle...   \n",
       "338   Electronics|Mobiles&Accessories|Smartphones&Ba...   \n",
       "1445  Home&Kitchen|Heating,Cooling&AirQuality|Humidi...   \n",
       "\n",
       "              main_category                    sub_category specific_category  \n",
       "708             Electronics  Headphones,Earbuds&Accessories            In-Ear  \n",
       "201   Computers&Accessories         Accessories&Peripherals         USBCables  \n",
       "1212           Home&Kitchen          Kitchen&HomeAppliances   HandheldVacuums  \n",
       "338             Electronics             Mobiles&Accessories       Smartphones  \n",
       "1445           Home&Kitchen      Heating,Cooling&AirQuality       Humidifiers  "
      ]
     },
     "execution_count": 649,
     "metadata": {},
     "output_type": "execute_result"
    }
   ],
   "source": [
    "df[['category', 'main_category', 'sub_category', \"specific_category\"]].sample(5)"
   ]
  },
  {
   "cell_type": "code",
   "execution_count": 650,
   "metadata": {},
   "outputs": [],
   "source": [
    "df = df.drop(columns=[\"category\"])"
   ]
  },
  {
   "cell_type": "markdown",
   "metadata": {},
   "source": [
    "Finalizando o processamento dos dados, a coluna `category` foi dividida em três colunas, `main_category`, `subcategory` e `specific_category`. Então a coluna `category` foi removida."
   ]
  },
  {
   "cell_type": "markdown",
   "metadata": {},
   "source": [
    "### Limpeza das colunas"
   ]
  },
  {
   "cell_type": "markdown",
   "metadata": {},
   "source": [
    "Como não será levado em consideração o título e conteúdo da avaliação, as colunas relacionadas aos usuários, título e conteúdo da avaliação serão removidas."
   ]
  },
  {
   "cell_type": "code",
   "execution_count": 651,
   "metadata": {},
   "outputs": [],
   "source": [
    "df = df.drop(columns=[\"user_id\", \"user_name\", \"review_id\", \"review_title\", \"review_content\"])"
   ]
  },
  {
   "cell_type": "code",
   "execution_count": 652,
   "metadata": {},
   "outputs": [
    {
     "data": {
      "text/html": [
       "<div>\n",
       "<style scoped>\n",
       "    .dataframe tbody tr th:only-of-type {\n",
       "        vertical-align: middle;\n",
       "    }\n",
       "\n",
       "    .dataframe tbody tr th {\n",
       "        vertical-align: top;\n",
       "    }\n",
       "\n",
       "    .dataframe thead th {\n",
       "        text-align: right;\n",
       "    }\n",
       "</style>\n",
       "<table border=\"1\" class=\"dataframe\">\n",
       "  <thead>\n",
       "    <tr style=\"text-align: right;\">\n",
       "      <th></th>\n",
       "      <th>product_id</th>\n",
       "      <th>product_name</th>\n",
       "      <th>discounted_price</th>\n",
       "      <th>actual_price</th>\n",
       "      <th>discount_percentage</th>\n",
       "      <th>rating</th>\n",
       "      <th>rating_count</th>\n",
       "      <th>about_product</th>\n",
       "      <th>img_link</th>\n",
       "      <th>product_link</th>\n",
       "      <th>main_category</th>\n",
       "      <th>sub_category</th>\n",
       "      <th>specific_category</th>\n",
       "    </tr>\n",
       "  </thead>\n",
       "  <tbody>\n",
       "    <tr>\n",
       "      <th>0</th>\n",
       "      <td>B07JW9H4J1</td>\n",
       "      <td>Wayona Nylon Braided USB to Lightning Fast Cha...</td>\n",
       "      <td>4.788</td>\n",
       "      <td>13.188</td>\n",
       "      <td>64.0</td>\n",
       "      <td>4.2</td>\n",
       "      <td>24.269</td>\n",
       "      <td>High Compatibility : Compatible With iPhone 12...</td>\n",
       "      <td>https://m.media-amazon.com/images/W/WEBP_40237...</td>\n",
       "      <td>https://www.amazon.in/Wayona-Braided-WN3LG1-Sy...</td>\n",
       "      <td>Computers&amp;Accessories</td>\n",
       "      <td>Accessories&amp;Peripherals</td>\n",
       "      <td>USBCables</td>\n",
       "    </tr>\n",
       "    <tr>\n",
       "      <th>1</th>\n",
       "      <td>B098NS6PVG</td>\n",
       "      <td>Ambrane Unbreakable 60W / 3A Fast Charging 1.5...</td>\n",
       "      <td>2.388</td>\n",
       "      <td>4.188</td>\n",
       "      <td>43.0</td>\n",
       "      <td>4.0</td>\n",
       "      <td>43.994</td>\n",
       "      <td>Compatible with all Type C enabled devices, be...</td>\n",
       "      <td>https://m.media-amazon.com/images/W/WEBP_40237...</td>\n",
       "      <td>https://www.amazon.in/Ambrane-Unbreakable-Char...</td>\n",
       "      <td>Computers&amp;Accessories</td>\n",
       "      <td>Accessories&amp;Peripherals</td>\n",
       "      <td>USBCables</td>\n",
       "    </tr>\n",
       "    <tr>\n",
       "      <th>2</th>\n",
       "      <td>B096MSW6CT</td>\n",
       "      <td>Sounce Fast Phone Charging Cable &amp; Data Sync U...</td>\n",
       "      <td>2.388</td>\n",
       "      <td>22.788</td>\n",
       "      <td>90.0</td>\n",
       "      <td>3.9</td>\n",
       "      <td>7.928</td>\n",
       "      <td>【 Fast Charger&amp; Data Sync】-With built-in safet...</td>\n",
       "      <td>https://m.media-amazon.com/images/W/WEBP_40237...</td>\n",
       "      <td>https://www.amazon.in/Sounce-iPhone-Charging-C...</td>\n",
       "      <td>Computers&amp;Accessories</td>\n",
       "      <td>Accessories&amp;Peripherals</td>\n",
       "      <td>USBCables</td>\n",
       "    </tr>\n",
       "    <tr>\n",
       "      <th>3</th>\n",
       "      <td>B08HDJ86NZ</td>\n",
       "      <td>boAt Deuce USB 300 2 in 1 Type-C &amp; Micro USB S...</td>\n",
       "      <td>3.948</td>\n",
       "      <td>8.388</td>\n",
       "      <td>53.0</td>\n",
       "      <td>4.2</td>\n",
       "      <td>94.363</td>\n",
       "      <td>The boAt Deuce USB 300 2 in 1 cable is compati...</td>\n",
       "      <td>https://m.media-amazon.com/images/I/41V5FtEWPk...</td>\n",
       "      <td>https://www.amazon.in/Deuce-300-Resistant-Tang...</td>\n",
       "      <td>Computers&amp;Accessories</td>\n",
       "      <td>Accessories&amp;Peripherals</td>\n",
       "      <td>USBCables</td>\n",
       "    </tr>\n",
       "    <tr>\n",
       "      <th>4</th>\n",
       "      <td>B08CF3B7N1</td>\n",
       "      <td>Portronics Konnect L 1.2M Fast Charging 3A 8 P...</td>\n",
       "      <td>1.848</td>\n",
       "      <td>4.788</td>\n",
       "      <td>61.0</td>\n",
       "      <td>4.2</td>\n",
       "      <td>16.905</td>\n",
       "      <td>[CHARGE &amp; SYNC FUNCTION]- This cable comes wit...</td>\n",
       "      <td>https://m.media-amazon.com/images/W/WEBP_40237...</td>\n",
       "      <td>https://www.amazon.in/Portronics-Konnect-POR-1...</td>\n",
       "      <td>Computers&amp;Accessories</td>\n",
       "      <td>Accessories&amp;Peripherals</td>\n",
       "      <td>USBCables</td>\n",
       "    </tr>\n",
       "  </tbody>\n",
       "</table>\n",
       "</div>"
      ],
      "text/plain": [
       "   product_id                                       product_name  \\\n",
       "0  B07JW9H4J1  Wayona Nylon Braided USB to Lightning Fast Cha...   \n",
       "1  B098NS6PVG  Ambrane Unbreakable 60W / 3A Fast Charging 1.5...   \n",
       "2  B096MSW6CT  Sounce Fast Phone Charging Cable & Data Sync U...   \n",
       "3  B08HDJ86NZ  boAt Deuce USB 300 2 in 1 Type-C & Micro USB S...   \n",
       "4  B08CF3B7N1  Portronics Konnect L 1.2M Fast Charging 3A 8 P...   \n",
       "\n",
       "   discounted_price  actual_price  discount_percentage  rating  rating_count  \\\n",
       "0             4.788        13.188                 64.0     4.2        24.269   \n",
       "1             2.388         4.188                 43.0     4.0        43.994   \n",
       "2             2.388        22.788                 90.0     3.9         7.928   \n",
       "3             3.948         8.388                 53.0     4.2        94.363   \n",
       "4             1.848         4.788                 61.0     4.2        16.905   \n",
       "\n",
       "                                       about_product  \\\n",
       "0  High Compatibility : Compatible With iPhone 12...   \n",
       "1  Compatible with all Type C enabled devices, be...   \n",
       "2  【 Fast Charger& Data Sync】-With built-in safet...   \n",
       "3  The boAt Deuce USB 300 2 in 1 cable is compati...   \n",
       "4  [CHARGE & SYNC FUNCTION]- This cable comes wit...   \n",
       "\n",
       "                                            img_link  \\\n",
       "0  https://m.media-amazon.com/images/W/WEBP_40237...   \n",
       "1  https://m.media-amazon.com/images/W/WEBP_40237...   \n",
       "2  https://m.media-amazon.com/images/W/WEBP_40237...   \n",
       "3  https://m.media-amazon.com/images/I/41V5FtEWPk...   \n",
       "4  https://m.media-amazon.com/images/W/WEBP_40237...   \n",
       "\n",
       "                                        product_link          main_category  \\\n",
       "0  https://www.amazon.in/Wayona-Braided-WN3LG1-Sy...  Computers&Accessories   \n",
       "1  https://www.amazon.in/Ambrane-Unbreakable-Char...  Computers&Accessories   \n",
       "2  https://www.amazon.in/Sounce-iPhone-Charging-C...  Computers&Accessories   \n",
       "3  https://www.amazon.in/Deuce-300-Resistant-Tang...  Computers&Accessories   \n",
       "4  https://www.amazon.in/Portronics-Konnect-POR-1...  Computers&Accessories   \n",
       "\n",
       "              sub_category specific_category  \n",
       "0  Accessories&Peripherals         USBCables  \n",
       "1  Accessories&Peripherals         USBCables  \n",
       "2  Accessories&Peripherals         USBCables  \n",
       "3  Accessories&Peripherals         USBCables  \n",
       "4  Accessories&Peripherals         USBCables  "
      ]
     },
     "execution_count": 652,
     "metadata": {},
     "output_type": "execute_result"
    }
   ],
   "source": [
    "df.head()"
   ]
  },
  {
   "cell_type": "code",
   "execution_count": 653,
   "metadata": {},
   "outputs": [
    {
     "data": {
      "text/plain": [
       "(1305, 13)"
      ]
     },
     "execution_count": 653,
     "metadata": {},
     "output_type": "execute_result"
    }
   ],
   "source": [
    "df.shape"
   ]
  },
  {
   "cell_type": "markdown",
   "metadata": {},
   "source": [
    "Finalizando a limpeza dos dados tem-se 1305 produtos que foram revistos e a análise pode ser feita."
   ]
  },
  {
   "cell_type": "markdown",
   "metadata": {},
   "source": [
    "## Salvando os dados"
   ]
  },
  {
   "cell_type": "markdown",
   "metadata": {},
   "source": [
    "Após o processamento dos dados, o dataset foi salvo em um arquivo CSV para facilitar a análise."
   ]
  },
  {
   "cell_type": "code",
   "execution_count": 585,
   "metadata": {},
   "outputs": [],
   "source": [
    "df.to_csv(\"amazon_cleaned.csv\", index=False)"
   ]
  },
  {
   "cell_type": "markdown",
   "metadata": {},
   "source": [
    "## Análises Iniciais"
   ]
  },
  {
   "cell_type": "code",
   "execution_count": 586,
   "metadata": {},
   "outputs": [
    {
     "data": {
      "text/html": [
       "<div>\n",
       "<style scoped>\n",
       "    .dataframe tbody tr th:only-of-type {\n",
       "        vertical-align: middle;\n",
       "    }\n",
       "\n",
       "    .dataframe tbody tr th {\n",
       "        vertical-align: top;\n",
       "    }\n",
       "\n",
       "    .dataframe thead th {\n",
       "        text-align: right;\n",
       "    }\n",
       "</style>\n",
       "<table border=\"1\" class=\"dataframe\">\n",
       "  <thead>\n",
       "    <tr style=\"text-align: right;\">\n",
       "      <th></th>\n",
       "      <th>product_id</th>\n",
       "      <th>product_name</th>\n",
       "      <th>discounted_price</th>\n",
       "      <th>actual_price</th>\n",
       "      <th>discount_percentage</th>\n",
       "      <th>rating</th>\n",
       "      <th>rating_count</th>\n",
       "      <th>about_product</th>\n",
       "      <th>img_link</th>\n",
       "      <th>product_link</th>\n",
       "      <th>main_category</th>\n",
       "      <th>sub_category</th>\n",
       "      <th>specific_category</th>\n",
       "    </tr>\n",
       "  </thead>\n",
       "  <tbody>\n",
       "    <tr>\n",
       "      <th>0</th>\n",
       "      <td>B07JW9H4J1</td>\n",
       "      <td>Wayona Nylon Braided USB to Lightning Fast Cha...</td>\n",
       "      <td>4.788</td>\n",
       "      <td>13.188</td>\n",
       "      <td>64.0</td>\n",
       "      <td>4.2</td>\n",
       "      <td>24.269</td>\n",
       "      <td>High Compatibility : Compatible With iPhone 12...</td>\n",
       "      <td>https://m.media-amazon.com/images/W/WEBP_40237...</td>\n",
       "      <td>https://www.amazon.in/Wayona-Braided-WN3LG1-Sy...</td>\n",
       "      <td>Computers&amp;Accessories</td>\n",
       "      <td>Accessories&amp;Peripherals</td>\n",
       "      <td>USBCables</td>\n",
       "    </tr>\n",
       "    <tr>\n",
       "      <th>1</th>\n",
       "      <td>B098NS6PVG</td>\n",
       "      <td>Ambrane Unbreakable 60W / 3A Fast Charging 1.5...</td>\n",
       "      <td>2.388</td>\n",
       "      <td>4.188</td>\n",
       "      <td>43.0</td>\n",
       "      <td>4.0</td>\n",
       "      <td>43.994</td>\n",
       "      <td>Compatible with all Type C enabled devices, be...</td>\n",
       "      <td>https://m.media-amazon.com/images/W/WEBP_40237...</td>\n",
       "      <td>https://www.amazon.in/Ambrane-Unbreakable-Char...</td>\n",
       "      <td>Computers&amp;Accessories</td>\n",
       "      <td>Accessories&amp;Peripherals</td>\n",
       "      <td>USBCables</td>\n",
       "    </tr>\n",
       "    <tr>\n",
       "      <th>2</th>\n",
       "      <td>B096MSW6CT</td>\n",
       "      <td>Sounce Fast Phone Charging Cable &amp; Data Sync U...</td>\n",
       "      <td>2.388</td>\n",
       "      <td>22.788</td>\n",
       "      <td>90.0</td>\n",
       "      <td>3.9</td>\n",
       "      <td>7.928</td>\n",
       "      <td>【 Fast Charger&amp; Data Sync】-With built-in safet...</td>\n",
       "      <td>https://m.media-amazon.com/images/W/WEBP_40237...</td>\n",
       "      <td>https://www.amazon.in/Sounce-iPhone-Charging-C...</td>\n",
       "      <td>Computers&amp;Accessories</td>\n",
       "      <td>Accessories&amp;Peripherals</td>\n",
       "      <td>USBCables</td>\n",
       "    </tr>\n",
       "    <tr>\n",
       "      <th>3</th>\n",
       "      <td>B08HDJ86NZ</td>\n",
       "      <td>boAt Deuce USB 300 2 in 1 Type-C &amp; Micro USB S...</td>\n",
       "      <td>3.948</td>\n",
       "      <td>8.388</td>\n",
       "      <td>53.0</td>\n",
       "      <td>4.2</td>\n",
       "      <td>94.363</td>\n",
       "      <td>The boAt Deuce USB 300 2 in 1 cable is compati...</td>\n",
       "      <td>https://m.media-amazon.com/images/I/41V5FtEWPk...</td>\n",
       "      <td>https://www.amazon.in/Deuce-300-Resistant-Tang...</td>\n",
       "      <td>Computers&amp;Accessories</td>\n",
       "      <td>Accessories&amp;Peripherals</td>\n",
       "      <td>USBCables</td>\n",
       "    </tr>\n",
       "    <tr>\n",
       "      <th>4</th>\n",
       "      <td>B08CF3B7N1</td>\n",
       "      <td>Portronics Konnect L 1.2M Fast Charging 3A 8 P...</td>\n",
       "      <td>1.848</td>\n",
       "      <td>4.788</td>\n",
       "      <td>61.0</td>\n",
       "      <td>4.2</td>\n",
       "      <td>16.905</td>\n",
       "      <td>[CHARGE &amp; SYNC FUNCTION]- This cable comes wit...</td>\n",
       "      <td>https://m.media-amazon.com/images/W/WEBP_40237...</td>\n",
       "      <td>https://www.amazon.in/Portronics-Konnect-POR-1...</td>\n",
       "      <td>Computers&amp;Accessories</td>\n",
       "      <td>Accessories&amp;Peripherals</td>\n",
       "      <td>USBCables</td>\n",
       "    </tr>\n",
       "    <tr>\n",
       "      <th>...</th>\n",
       "      <td>...</td>\n",
       "      <td>...</td>\n",
       "      <td>...</td>\n",
       "      <td>...</td>\n",
       "      <td>...</td>\n",
       "      <td>...</td>\n",
       "      <td>...</td>\n",
       "      <td>...</td>\n",
       "      <td>...</td>\n",
       "      <td>...</td>\n",
       "      <td>...</td>\n",
       "      <td>...</td>\n",
       "      <td>...</td>\n",
       "    </tr>\n",
       "    <tr>\n",
       "      <th>1460</th>\n",
       "      <td>B08L7J3T31</td>\n",
       "      <td>Noir Aqua - 5pcs PP Spun Filter + 1 Spanner | ...</td>\n",
       "      <td>4.548</td>\n",
       "      <td>11.028</td>\n",
       "      <td>59.0</td>\n",
       "      <td>4.0</td>\n",
       "      <td>1.090</td>\n",
       "      <td>SUPREME QUALITY 90 GRAM 3 LAYER THIK PP SPUN F...</td>\n",
       "      <td>https://m.media-amazon.com/images/I/41fDdRtjfx...</td>\n",
       "      <td>https://www.amazon.in/Noir-Aqua-Spanner-Purifi...</td>\n",
       "      <td>Home&amp;Kitchen</td>\n",
       "      <td>Kitchen&amp;HomeAppliances</td>\n",
       "      <td>WaterPurifierAccessories</td>\n",
       "    </tr>\n",
       "    <tr>\n",
       "      <th>1461</th>\n",
       "      <td>B01M6453MB</td>\n",
       "      <td>Prestige Delight PRWO Electric Rice Cooker (1 ...</td>\n",
       "      <td>27.360</td>\n",
       "      <td>36.540</td>\n",
       "      <td>25.0</td>\n",
       "      <td>4.1</td>\n",
       "      <td>4.118</td>\n",
       "      <td>230 Volts, 400 watts, 1 Year</td>\n",
       "      <td>https://m.media-amazon.com/images/I/41gzDxk4+k...</td>\n",
       "      <td>https://www.amazon.in/Prestige-Delight-PRWO-1-...</td>\n",
       "      <td>Home&amp;Kitchen</td>\n",
       "      <td>Kitchen&amp;HomeAppliances</td>\n",
       "      <td>Rice&amp;PastaCookers</td>\n",
       "    </tr>\n",
       "    <tr>\n",
       "      <th>1462</th>\n",
       "      <td>B009P2LIL4</td>\n",
       "      <td>Bajaj Majesty RX10 2000 Watts Heat Convector R...</td>\n",
       "      <td>26.628</td>\n",
       "      <td>36.960</td>\n",
       "      <td>28.0</td>\n",
       "      <td>3.6</td>\n",
       "      <td>468.000</td>\n",
       "      <td>International design and styling|Two heat sett...</td>\n",
       "      <td>https://m.media-amazon.com/images/W/WEBP_40237...</td>\n",
       "      <td>https://www.amazon.in/Bajaj-RX-10-2000-Watt-Co...</td>\n",
       "      <td>Home&amp;Kitchen</td>\n",
       "      <td>Heating,Cooling&amp;AirQuality</td>\n",
       "      <td>HeatConvectors</td>\n",
       "    </tr>\n",
       "    <tr>\n",
       "      <th>1463</th>\n",
       "      <td>B00J5DYCCA</td>\n",
       "      <td>Havells Ventil Air DSP 230mm Exhaust Fan (Pist...</td>\n",
       "      <td>16.788</td>\n",
       "      <td>22.680</td>\n",
       "      <td>26.0</td>\n",
       "      <td>4.0</td>\n",
       "      <td>8.031</td>\n",
       "      <td>Fan sweep area: 230 MM ; Noise level: (40 - 45...</td>\n",
       "      <td>https://m.media-amazon.com/images/W/WEBP_40237...</td>\n",
       "      <td>https://www.amazon.in/Havells-Ventilair-230mm-...</td>\n",
       "      <td>Home&amp;Kitchen</td>\n",
       "      <td>Heating,Cooling&amp;AirQuality</td>\n",
       "      <td>ExhaustFans</td>\n",
       "    </tr>\n",
       "    <tr>\n",
       "      <th>1464</th>\n",
       "      <td>B01486F4G6</td>\n",
       "      <td>Borosil Jumbo 1000-Watt Grill Sandwich Maker (...</td>\n",
       "      <td>34.356</td>\n",
       "      <td>44.280</td>\n",
       "      <td>22.0</td>\n",
       "      <td>4.3</td>\n",
       "      <td>6.987</td>\n",
       "      <td>Brand-Borosil, Specification â€“ 23V ~ 5Hz;1 W...</td>\n",
       "      <td>https://m.media-amazon.com/images/W/WEBP_40237...</td>\n",
       "      <td>https://www.amazon.in/Borosil-Jumbo-1000-Watt-...</td>\n",
       "      <td>Home&amp;Kitchen</td>\n",
       "      <td>Kitchen&amp;HomeAppliances</td>\n",
       "      <td>SandwichMakers</td>\n",
       "    </tr>\n",
       "  </tbody>\n",
       "</table>\n",
       "<p>1415 rows × 13 columns</p>\n",
       "</div>"
      ],
      "text/plain": [
       "      product_id                                       product_name  \\\n",
       "0     B07JW9H4J1  Wayona Nylon Braided USB to Lightning Fast Cha...   \n",
       "1     B098NS6PVG  Ambrane Unbreakable 60W / 3A Fast Charging 1.5...   \n",
       "2     B096MSW6CT  Sounce Fast Phone Charging Cable & Data Sync U...   \n",
       "3     B08HDJ86NZ  boAt Deuce USB 300 2 in 1 Type-C & Micro USB S...   \n",
       "4     B08CF3B7N1  Portronics Konnect L 1.2M Fast Charging 3A 8 P...   \n",
       "...          ...                                                ...   \n",
       "1460  B08L7J3T31  Noir Aqua - 5pcs PP Spun Filter + 1 Spanner | ...   \n",
       "1461  B01M6453MB  Prestige Delight PRWO Electric Rice Cooker (1 ...   \n",
       "1462  B009P2LIL4  Bajaj Majesty RX10 2000 Watts Heat Convector R...   \n",
       "1463  B00J5DYCCA  Havells Ventil Air DSP 230mm Exhaust Fan (Pist...   \n",
       "1464  B01486F4G6  Borosil Jumbo 1000-Watt Grill Sandwich Maker (...   \n",
       "\n",
       "      discounted_price  actual_price  discount_percentage  rating  \\\n",
       "0                4.788        13.188                 64.0     4.2   \n",
       "1                2.388         4.188                 43.0     4.0   \n",
       "2                2.388        22.788                 90.0     3.9   \n",
       "3                3.948         8.388                 53.0     4.2   \n",
       "4                1.848         4.788                 61.0     4.2   \n",
       "...                ...           ...                  ...     ...   \n",
       "1460             4.548        11.028                 59.0     4.0   \n",
       "1461            27.360        36.540                 25.0     4.1   \n",
       "1462            26.628        36.960                 28.0     3.6   \n",
       "1463            16.788        22.680                 26.0     4.0   \n",
       "1464            34.356        44.280                 22.0     4.3   \n",
       "\n",
       "      rating_count                                      about_product  \\\n",
       "0           24.269  High Compatibility : Compatible With iPhone 12...   \n",
       "1           43.994  Compatible with all Type C enabled devices, be...   \n",
       "2            7.928  【 Fast Charger& Data Sync】-With built-in safet...   \n",
       "3           94.363  The boAt Deuce USB 300 2 in 1 cable is compati...   \n",
       "4           16.905  [CHARGE & SYNC FUNCTION]- This cable comes wit...   \n",
       "...            ...                                                ...   \n",
       "1460         1.090  SUPREME QUALITY 90 GRAM 3 LAYER THIK PP SPUN F...   \n",
       "1461         4.118                       230 Volts, 400 watts, 1 Year   \n",
       "1462       468.000  International design and styling|Two heat sett...   \n",
       "1463         8.031  Fan sweep area: 230 MM ; Noise level: (40 - 45...   \n",
       "1464         6.987  Brand-Borosil, Specification â€“ 23V ~ 5Hz;1 W...   \n",
       "\n",
       "                                               img_link  \\\n",
       "0     https://m.media-amazon.com/images/W/WEBP_40237...   \n",
       "1     https://m.media-amazon.com/images/W/WEBP_40237...   \n",
       "2     https://m.media-amazon.com/images/W/WEBP_40237...   \n",
       "3     https://m.media-amazon.com/images/I/41V5FtEWPk...   \n",
       "4     https://m.media-amazon.com/images/W/WEBP_40237...   \n",
       "...                                                 ...   \n",
       "1460  https://m.media-amazon.com/images/I/41fDdRtjfx...   \n",
       "1461  https://m.media-amazon.com/images/I/41gzDxk4+k...   \n",
       "1462  https://m.media-amazon.com/images/W/WEBP_40237...   \n",
       "1463  https://m.media-amazon.com/images/W/WEBP_40237...   \n",
       "1464  https://m.media-amazon.com/images/W/WEBP_40237...   \n",
       "\n",
       "                                           product_link  \\\n",
       "0     https://www.amazon.in/Wayona-Braided-WN3LG1-Sy...   \n",
       "1     https://www.amazon.in/Ambrane-Unbreakable-Char...   \n",
       "2     https://www.amazon.in/Sounce-iPhone-Charging-C...   \n",
       "3     https://www.amazon.in/Deuce-300-Resistant-Tang...   \n",
       "4     https://www.amazon.in/Portronics-Konnect-POR-1...   \n",
       "...                                                 ...   \n",
       "1460  https://www.amazon.in/Noir-Aqua-Spanner-Purifi...   \n",
       "1461  https://www.amazon.in/Prestige-Delight-PRWO-1-...   \n",
       "1462  https://www.amazon.in/Bajaj-RX-10-2000-Watt-Co...   \n",
       "1463  https://www.amazon.in/Havells-Ventilair-230mm-...   \n",
       "1464  https://www.amazon.in/Borosil-Jumbo-1000-Watt-...   \n",
       "\n",
       "              main_category                sub_category  \\\n",
       "0     Computers&Accessories     Accessories&Peripherals   \n",
       "1     Computers&Accessories     Accessories&Peripherals   \n",
       "2     Computers&Accessories     Accessories&Peripherals   \n",
       "3     Computers&Accessories     Accessories&Peripherals   \n",
       "4     Computers&Accessories     Accessories&Peripherals   \n",
       "...                     ...                         ...   \n",
       "1460           Home&Kitchen      Kitchen&HomeAppliances   \n",
       "1461           Home&Kitchen      Kitchen&HomeAppliances   \n",
       "1462           Home&Kitchen  Heating,Cooling&AirQuality   \n",
       "1463           Home&Kitchen  Heating,Cooling&AirQuality   \n",
       "1464           Home&Kitchen      Kitchen&HomeAppliances   \n",
       "\n",
       "             specific_category  \n",
       "0                    USBCables  \n",
       "1                    USBCables  \n",
       "2                    USBCables  \n",
       "3                    USBCables  \n",
       "4                    USBCables  \n",
       "...                        ...  \n",
       "1460  WaterPurifierAccessories  \n",
       "1461         Rice&PastaCookers  \n",
       "1462            HeatConvectors  \n",
       "1463               ExhaustFans  \n",
       "1464            SandwichMakers  \n",
       "\n",
       "[1415 rows x 13 columns]"
      ]
     },
     "execution_count": 586,
     "metadata": {},
     "output_type": "execute_result"
    }
   ],
   "source": [
    "df"
   ]
  },
  {
   "cell_type": "markdown",
   "metadata": {},
   "source": [
    "---"
   ]
  },
  {
   "cell_type": "markdown",
   "metadata": {},
   "source": [
    "### Categorias"
   ]
  },
  {
   "cell_type": "code",
   "execution_count": 657,
   "metadata": {},
   "outputs": [
    {
     "data": {
      "text/plain": [
       "main_category\n",
       "Electronics              458\n",
       "Home&Kitchen             445\n",
       "Computers&Accessories    364\n",
       "OfficeProducts            31\n",
       "MusicalInstruments         2\n",
       "HomeImprovement            2\n",
       "Toys&Games                 1\n",
       "Car&Motorbike              1\n",
       "Health&PersonalCare        1\n",
       "Name: count, dtype: int64"
      ]
     },
     "execution_count": 657,
     "metadata": {},
     "output_type": "execute_result"
    }
   ],
   "source": [
    "df[\"main_category\"].value_counts()"
   ]
  },
  {
   "cell_type": "markdown",
   "metadata": {},
   "source": [
    "Quais são as categorias mais avaliadas?"
   ]
  },
  {
   "cell_type": "code",
   "execution_count": 587,
   "metadata": {},
   "outputs": [
    {
     "data": {
      "application/vnd.plotly.v1+json": {
       "config": {
        "plotlyServerURL": "https://plot.ly"
       },
       "data": [
        {
         "type": "bar",
         "x": [
          "Home&Kitchen",
          "Electronics",
          "Computers&Accessories",
          "OfficeProducts",
          "MusicalInstruments",
          "Toys&Games",
          "HomeImprovement",
          "Health&PersonalCare",
          "Car&Motorbike"
         ],
         "y": [
          47911.788,
          41272.378,
          39070.071,
          955.8679999999999,
          88.882,
          15.867,
          8.566,
          3.663,
          1.118
         ]
        }
       ],
       "layout": {
        "template": {
         "data": {
          "bar": [
           {
            "error_x": {
             "color": "#2a3f5f"
            },
            "error_y": {
             "color": "#2a3f5f"
            },
            "marker": {
             "line": {
              "color": "#E5ECF6",
              "width": 0.5
             },
             "pattern": {
              "fillmode": "overlay",
              "size": 10,
              "solidity": 0.2
             }
            },
            "type": "bar"
           }
          ],
          "barpolar": [
           {
            "marker": {
             "line": {
              "color": "#E5ECF6",
              "width": 0.5
             },
             "pattern": {
              "fillmode": "overlay",
              "size": 10,
              "solidity": 0.2
             }
            },
            "type": "barpolar"
           }
          ],
          "carpet": [
           {
            "aaxis": {
             "endlinecolor": "#2a3f5f",
             "gridcolor": "white",
             "linecolor": "white",
             "minorgridcolor": "white",
             "startlinecolor": "#2a3f5f"
            },
            "baxis": {
             "endlinecolor": "#2a3f5f",
             "gridcolor": "white",
             "linecolor": "white",
             "minorgridcolor": "white",
             "startlinecolor": "#2a3f5f"
            },
            "type": "carpet"
           }
          ],
          "choropleth": [
           {
            "colorbar": {
             "outlinewidth": 0,
             "ticks": ""
            },
            "type": "choropleth"
           }
          ],
          "contour": [
           {
            "colorbar": {
             "outlinewidth": 0,
             "ticks": ""
            },
            "colorscale": [
             [
              0,
              "#0d0887"
             ],
             [
              0.1111111111111111,
              "#46039f"
             ],
             [
              0.2222222222222222,
              "#7201a8"
             ],
             [
              0.3333333333333333,
              "#9c179e"
             ],
             [
              0.4444444444444444,
              "#bd3786"
             ],
             [
              0.5555555555555556,
              "#d8576b"
             ],
             [
              0.6666666666666666,
              "#ed7953"
             ],
             [
              0.7777777777777778,
              "#fb9f3a"
             ],
             [
              0.8888888888888888,
              "#fdca26"
             ],
             [
              1,
              "#f0f921"
             ]
            ],
            "type": "contour"
           }
          ],
          "contourcarpet": [
           {
            "colorbar": {
             "outlinewidth": 0,
             "ticks": ""
            },
            "type": "contourcarpet"
           }
          ],
          "heatmap": [
           {
            "colorbar": {
             "outlinewidth": 0,
             "ticks": ""
            },
            "colorscale": [
             [
              0,
              "#0d0887"
             ],
             [
              0.1111111111111111,
              "#46039f"
             ],
             [
              0.2222222222222222,
              "#7201a8"
             ],
             [
              0.3333333333333333,
              "#9c179e"
             ],
             [
              0.4444444444444444,
              "#bd3786"
             ],
             [
              0.5555555555555556,
              "#d8576b"
             ],
             [
              0.6666666666666666,
              "#ed7953"
             ],
             [
              0.7777777777777778,
              "#fb9f3a"
             ],
             [
              0.8888888888888888,
              "#fdca26"
             ],
             [
              1,
              "#f0f921"
             ]
            ],
            "type": "heatmap"
           }
          ],
          "heatmapgl": [
           {
            "colorbar": {
             "outlinewidth": 0,
             "ticks": ""
            },
            "colorscale": [
             [
              0,
              "#0d0887"
             ],
             [
              0.1111111111111111,
              "#46039f"
             ],
             [
              0.2222222222222222,
              "#7201a8"
             ],
             [
              0.3333333333333333,
              "#9c179e"
             ],
             [
              0.4444444444444444,
              "#bd3786"
             ],
             [
              0.5555555555555556,
              "#d8576b"
             ],
             [
              0.6666666666666666,
              "#ed7953"
             ],
             [
              0.7777777777777778,
              "#fb9f3a"
             ],
             [
              0.8888888888888888,
              "#fdca26"
             ],
             [
              1,
              "#f0f921"
             ]
            ],
            "type": "heatmapgl"
           }
          ],
          "histogram": [
           {
            "marker": {
             "pattern": {
              "fillmode": "overlay",
              "size": 10,
              "solidity": 0.2
             }
            },
            "type": "histogram"
           }
          ],
          "histogram2d": [
           {
            "colorbar": {
             "outlinewidth": 0,
             "ticks": ""
            },
            "colorscale": [
             [
              0,
              "#0d0887"
             ],
             [
              0.1111111111111111,
              "#46039f"
             ],
             [
              0.2222222222222222,
              "#7201a8"
             ],
             [
              0.3333333333333333,
              "#9c179e"
             ],
             [
              0.4444444444444444,
              "#bd3786"
             ],
             [
              0.5555555555555556,
              "#d8576b"
             ],
             [
              0.6666666666666666,
              "#ed7953"
             ],
             [
              0.7777777777777778,
              "#fb9f3a"
             ],
             [
              0.8888888888888888,
              "#fdca26"
             ],
             [
              1,
              "#f0f921"
             ]
            ],
            "type": "histogram2d"
           }
          ],
          "histogram2dcontour": [
           {
            "colorbar": {
             "outlinewidth": 0,
             "ticks": ""
            },
            "colorscale": [
             [
              0,
              "#0d0887"
             ],
             [
              0.1111111111111111,
              "#46039f"
             ],
             [
              0.2222222222222222,
              "#7201a8"
             ],
             [
              0.3333333333333333,
              "#9c179e"
             ],
             [
              0.4444444444444444,
              "#bd3786"
             ],
             [
              0.5555555555555556,
              "#d8576b"
             ],
             [
              0.6666666666666666,
              "#ed7953"
             ],
             [
              0.7777777777777778,
              "#fb9f3a"
             ],
             [
              0.8888888888888888,
              "#fdca26"
             ],
             [
              1,
              "#f0f921"
             ]
            ],
            "type": "histogram2dcontour"
           }
          ],
          "mesh3d": [
           {
            "colorbar": {
             "outlinewidth": 0,
             "ticks": ""
            },
            "type": "mesh3d"
           }
          ],
          "parcoords": [
           {
            "line": {
             "colorbar": {
              "outlinewidth": 0,
              "ticks": ""
             }
            },
            "type": "parcoords"
           }
          ],
          "pie": [
           {
            "automargin": true,
            "type": "pie"
           }
          ],
          "scatter": [
           {
            "fillpattern": {
             "fillmode": "overlay",
             "size": 10,
             "solidity": 0.2
            },
            "type": "scatter"
           }
          ],
          "scatter3d": [
           {
            "line": {
             "colorbar": {
              "outlinewidth": 0,
              "ticks": ""
             }
            },
            "marker": {
             "colorbar": {
              "outlinewidth": 0,
              "ticks": ""
             }
            },
            "type": "scatter3d"
           }
          ],
          "scattercarpet": [
           {
            "marker": {
             "colorbar": {
              "outlinewidth": 0,
              "ticks": ""
             }
            },
            "type": "scattercarpet"
           }
          ],
          "scattergeo": [
           {
            "marker": {
             "colorbar": {
              "outlinewidth": 0,
              "ticks": ""
             }
            },
            "type": "scattergeo"
           }
          ],
          "scattergl": [
           {
            "marker": {
             "colorbar": {
              "outlinewidth": 0,
              "ticks": ""
             }
            },
            "type": "scattergl"
           }
          ],
          "scattermapbox": [
           {
            "marker": {
             "colorbar": {
              "outlinewidth": 0,
              "ticks": ""
             }
            },
            "type": "scattermapbox"
           }
          ],
          "scatterpolar": [
           {
            "marker": {
             "colorbar": {
              "outlinewidth": 0,
              "ticks": ""
             }
            },
            "type": "scatterpolar"
           }
          ],
          "scatterpolargl": [
           {
            "marker": {
             "colorbar": {
              "outlinewidth": 0,
              "ticks": ""
             }
            },
            "type": "scatterpolargl"
           }
          ],
          "scatterternary": [
           {
            "marker": {
             "colorbar": {
              "outlinewidth": 0,
              "ticks": ""
             }
            },
            "type": "scatterternary"
           }
          ],
          "surface": [
           {
            "colorbar": {
             "outlinewidth": 0,
             "ticks": ""
            },
            "colorscale": [
             [
              0,
              "#0d0887"
             ],
             [
              0.1111111111111111,
              "#46039f"
             ],
             [
              0.2222222222222222,
              "#7201a8"
             ],
             [
              0.3333333333333333,
              "#9c179e"
             ],
             [
              0.4444444444444444,
              "#bd3786"
             ],
             [
              0.5555555555555556,
              "#d8576b"
             ],
             [
              0.6666666666666666,
              "#ed7953"
             ],
             [
              0.7777777777777778,
              "#fb9f3a"
             ],
             [
              0.8888888888888888,
              "#fdca26"
             ],
             [
              1,
              "#f0f921"
             ]
            ],
            "type": "surface"
           }
          ],
          "table": [
           {
            "cells": {
             "fill": {
              "color": "#EBF0F8"
             },
             "line": {
              "color": "white"
             }
            },
            "header": {
             "fill": {
              "color": "#C8D4E3"
             },
             "line": {
              "color": "white"
             }
            },
            "type": "table"
           }
          ]
         },
         "layout": {
          "annotationdefaults": {
           "arrowcolor": "#2a3f5f",
           "arrowhead": 0,
           "arrowwidth": 1
          },
          "autotypenumbers": "strict",
          "coloraxis": {
           "colorbar": {
            "outlinewidth": 0,
            "ticks": ""
           }
          },
          "colorscale": {
           "diverging": [
            [
             0,
             "#8e0152"
            ],
            [
             0.1,
             "#c51b7d"
            ],
            [
             0.2,
             "#de77ae"
            ],
            [
             0.3,
             "#f1b6da"
            ],
            [
             0.4,
             "#fde0ef"
            ],
            [
             0.5,
             "#f7f7f7"
            ],
            [
             0.6,
             "#e6f5d0"
            ],
            [
             0.7,
             "#b8e186"
            ],
            [
             0.8,
             "#7fbc41"
            ],
            [
             0.9,
             "#4d9221"
            ],
            [
             1,
             "#276419"
            ]
           ],
           "sequential": [
            [
             0,
             "#0d0887"
            ],
            [
             0.1111111111111111,
             "#46039f"
            ],
            [
             0.2222222222222222,
             "#7201a8"
            ],
            [
             0.3333333333333333,
             "#9c179e"
            ],
            [
             0.4444444444444444,
             "#bd3786"
            ],
            [
             0.5555555555555556,
             "#d8576b"
            ],
            [
             0.6666666666666666,
             "#ed7953"
            ],
            [
             0.7777777777777778,
             "#fb9f3a"
            ],
            [
             0.8888888888888888,
             "#fdca26"
            ],
            [
             1,
             "#f0f921"
            ]
           ],
           "sequentialminus": [
            [
             0,
             "#0d0887"
            ],
            [
             0.1111111111111111,
             "#46039f"
            ],
            [
             0.2222222222222222,
             "#7201a8"
            ],
            [
             0.3333333333333333,
             "#9c179e"
            ],
            [
             0.4444444444444444,
             "#bd3786"
            ],
            [
             0.5555555555555556,
             "#d8576b"
            ],
            [
             0.6666666666666666,
             "#ed7953"
            ],
            [
             0.7777777777777778,
             "#fb9f3a"
            ],
            [
             0.8888888888888888,
             "#fdca26"
            ],
            [
             1,
             "#f0f921"
            ]
           ]
          },
          "colorway": [
           "#636efa",
           "#EF553B",
           "#00cc96",
           "#ab63fa",
           "#FFA15A",
           "#19d3f3",
           "#FF6692",
           "#B6E880",
           "#FF97FF",
           "#FECB52"
          ],
          "font": {
           "color": "#2a3f5f"
          },
          "geo": {
           "bgcolor": "white",
           "lakecolor": "white",
           "landcolor": "#E5ECF6",
           "showlakes": true,
           "showland": true,
           "subunitcolor": "white"
          },
          "hoverlabel": {
           "align": "left"
          },
          "hovermode": "closest",
          "mapbox": {
           "style": "light"
          },
          "paper_bgcolor": "white",
          "plot_bgcolor": "#E5ECF6",
          "polar": {
           "angularaxis": {
            "gridcolor": "white",
            "linecolor": "white",
            "ticks": ""
           },
           "bgcolor": "#E5ECF6",
           "radialaxis": {
            "gridcolor": "white",
            "linecolor": "white",
            "ticks": ""
           }
          },
          "scene": {
           "xaxis": {
            "backgroundcolor": "#E5ECF6",
            "gridcolor": "white",
            "gridwidth": 2,
            "linecolor": "white",
            "showbackground": true,
            "ticks": "",
            "zerolinecolor": "white"
           },
           "yaxis": {
            "backgroundcolor": "#E5ECF6",
            "gridcolor": "white",
            "gridwidth": 2,
            "linecolor": "white",
            "showbackground": true,
            "ticks": "",
            "zerolinecolor": "white"
           },
           "zaxis": {
            "backgroundcolor": "#E5ECF6",
            "gridcolor": "white",
            "gridwidth": 2,
            "linecolor": "white",
            "showbackground": true,
            "ticks": "",
            "zerolinecolor": "white"
           }
          },
          "shapedefaults": {
           "line": {
            "color": "#2a3f5f"
           }
          },
          "ternary": {
           "aaxis": {
            "gridcolor": "white",
            "linecolor": "white",
            "ticks": ""
           },
           "baxis": {
            "gridcolor": "white",
            "linecolor": "white",
            "ticks": ""
           },
           "bgcolor": "#E5ECF6",
           "caxis": {
            "gridcolor": "white",
            "linecolor": "white",
            "ticks": ""
           }
          },
          "title": {
           "x": 0.05
          },
          "xaxis": {
           "automargin": true,
           "gridcolor": "white",
           "linecolor": "white",
           "ticks": "",
           "title": {
            "standoff": 15
           },
           "zerolinecolor": "white",
           "zerolinewidth": 2
          },
          "yaxis": {
           "automargin": true,
           "gridcolor": "white",
           "linecolor": "white",
           "ticks": "",
           "title": {
            "standoff": 15
           },
           "zerolinecolor": "white",
           "zerolinewidth": 2
          }
         }
        },
        "title": {
         "text": "Total de avaliações por Categoria"
        },
        "xaxis": {
         "title": {
          "text": "Categoria"
         }
        },
        "yaxis": {
         "title": {
          "text": "Contagem de Avaliações"
         }
        }
       }
      }
     },
     "metadata": {},
     "output_type": "display_data"
    }
   ],
   "source": [
    "# Plot the main_category with the highest number of ratings_count\n",
    "df_main_category = df.groupby(\n",
    "    \"main_category\")[\"rating_count\"].sum().reset_index()\n",
    "df_main_category = df_main_category.sort_values(\n",
    "    \"rating_count\", ascending=False)\n",
    "\n",
    "fig = go.Figure()\n",
    "fig.add_trace(\n",
    "    go.Bar(x=df_main_category[\"main_category\"],\n",
    "           y=df_main_category[\"rating_count\"]))\n",
    "fig.update_layout(title=\"Total de avaliações por Categoria\",\n",
    "                  xaxis_title=\"Categoria\",\n",
    "                  yaxis_title=\"Contagem de Avaliações\")\n",
    "fig.show()"
   ]
  },
  {
   "cell_type": "markdown",
   "metadata": {},
   "source": [
    "Quais as categorias mais bem avaliadas (média e mediana)?"
   ]
  },
  {
   "cell_type": "code",
   "execution_count": 588,
   "metadata": {},
   "outputs": [
    {
     "data": {
      "application/vnd.plotly.v1+json": {
       "config": {
        "plotlyServerURL": "https://plot.ly"
       },
       "data": [
        {
         "textposition": "inside",
         "texttemplate": "%{y:.2f}",
         "type": "bar",
         "x": [
          "OfficeProducts",
          "Toys&Games",
          "HomeImprovement",
          "Computers&Accessories",
          "Electronics",
          "Home&Kitchen",
          "Health&PersonalCare",
          "MusicalInstruments",
          "Car&Motorbike"
         ],
         "y": [
          4.309677419354839,
          4.3,
          4.25,
          4.153061224489796,
          4.077189409368636,
          4.040898876404494,
          4,
          3.9,
          3.8
         ]
        }
       ],
       "layout": {
        "template": {
         "data": {
          "bar": [
           {
            "error_x": {
             "color": "#2a3f5f"
            },
            "error_y": {
             "color": "#2a3f5f"
            },
            "marker": {
             "line": {
              "color": "#E5ECF6",
              "width": 0.5
             },
             "pattern": {
              "fillmode": "overlay",
              "size": 10,
              "solidity": 0.2
             }
            },
            "type": "bar"
           }
          ],
          "barpolar": [
           {
            "marker": {
             "line": {
              "color": "#E5ECF6",
              "width": 0.5
             },
             "pattern": {
              "fillmode": "overlay",
              "size": 10,
              "solidity": 0.2
             }
            },
            "type": "barpolar"
           }
          ],
          "carpet": [
           {
            "aaxis": {
             "endlinecolor": "#2a3f5f",
             "gridcolor": "white",
             "linecolor": "white",
             "minorgridcolor": "white",
             "startlinecolor": "#2a3f5f"
            },
            "baxis": {
             "endlinecolor": "#2a3f5f",
             "gridcolor": "white",
             "linecolor": "white",
             "minorgridcolor": "white",
             "startlinecolor": "#2a3f5f"
            },
            "type": "carpet"
           }
          ],
          "choropleth": [
           {
            "colorbar": {
             "outlinewidth": 0,
             "ticks": ""
            },
            "type": "choropleth"
           }
          ],
          "contour": [
           {
            "colorbar": {
             "outlinewidth": 0,
             "ticks": ""
            },
            "colorscale": [
             [
              0,
              "#0d0887"
             ],
             [
              0.1111111111111111,
              "#46039f"
             ],
             [
              0.2222222222222222,
              "#7201a8"
             ],
             [
              0.3333333333333333,
              "#9c179e"
             ],
             [
              0.4444444444444444,
              "#bd3786"
             ],
             [
              0.5555555555555556,
              "#d8576b"
             ],
             [
              0.6666666666666666,
              "#ed7953"
             ],
             [
              0.7777777777777778,
              "#fb9f3a"
             ],
             [
              0.8888888888888888,
              "#fdca26"
             ],
             [
              1,
              "#f0f921"
             ]
            ],
            "type": "contour"
           }
          ],
          "contourcarpet": [
           {
            "colorbar": {
             "outlinewidth": 0,
             "ticks": ""
            },
            "type": "contourcarpet"
           }
          ],
          "heatmap": [
           {
            "colorbar": {
             "outlinewidth": 0,
             "ticks": ""
            },
            "colorscale": [
             [
              0,
              "#0d0887"
             ],
             [
              0.1111111111111111,
              "#46039f"
             ],
             [
              0.2222222222222222,
              "#7201a8"
             ],
             [
              0.3333333333333333,
              "#9c179e"
             ],
             [
              0.4444444444444444,
              "#bd3786"
             ],
             [
              0.5555555555555556,
              "#d8576b"
             ],
             [
              0.6666666666666666,
              "#ed7953"
             ],
             [
              0.7777777777777778,
              "#fb9f3a"
             ],
             [
              0.8888888888888888,
              "#fdca26"
             ],
             [
              1,
              "#f0f921"
             ]
            ],
            "type": "heatmap"
           }
          ],
          "heatmapgl": [
           {
            "colorbar": {
             "outlinewidth": 0,
             "ticks": ""
            },
            "colorscale": [
             [
              0,
              "#0d0887"
             ],
             [
              0.1111111111111111,
              "#46039f"
             ],
             [
              0.2222222222222222,
              "#7201a8"
             ],
             [
              0.3333333333333333,
              "#9c179e"
             ],
             [
              0.4444444444444444,
              "#bd3786"
             ],
             [
              0.5555555555555556,
              "#d8576b"
             ],
             [
              0.6666666666666666,
              "#ed7953"
             ],
             [
              0.7777777777777778,
              "#fb9f3a"
             ],
             [
              0.8888888888888888,
              "#fdca26"
             ],
             [
              1,
              "#f0f921"
             ]
            ],
            "type": "heatmapgl"
           }
          ],
          "histogram": [
           {
            "marker": {
             "pattern": {
              "fillmode": "overlay",
              "size": 10,
              "solidity": 0.2
             }
            },
            "type": "histogram"
           }
          ],
          "histogram2d": [
           {
            "colorbar": {
             "outlinewidth": 0,
             "ticks": ""
            },
            "colorscale": [
             [
              0,
              "#0d0887"
             ],
             [
              0.1111111111111111,
              "#46039f"
             ],
             [
              0.2222222222222222,
              "#7201a8"
             ],
             [
              0.3333333333333333,
              "#9c179e"
             ],
             [
              0.4444444444444444,
              "#bd3786"
             ],
             [
              0.5555555555555556,
              "#d8576b"
             ],
             [
              0.6666666666666666,
              "#ed7953"
             ],
             [
              0.7777777777777778,
              "#fb9f3a"
             ],
             [
              0.8888888888888888,
              "#fdca26"
             ],
             [
              1,
              "#f0f921"
             ]
            ],
            "type": "histogram2d"
           }
          ],
          "histogram2dcontour": [
           {
            "colorbar": {
             "outlinewidth": 0,
             "ticks": ""
            },
            "colorscale": [
             [
              0,
              "#0d0887"
             ],
             [
              0.1111111111111111,
              "#46039f"
             ],
             [
              0.2222222222222222,
              "#7201a8"
             ],
             [
              0.3333333333333333,
              "#9c179e"
             ],
             [
              0.4444444444444444,
              "#bd3786"
             ],
             [
              0.5555555555555556,
              "#d8576b"
             ],
             [
              0.6666666666666666,
              "#ed7953"
             ],
             [
              0.7777777777777778,
              "#fb9f3a"
             ],
             [
              0.8888888888888888,
              "#fdca26"
             ],
             [
              1,
              "#f0f921"
             ]
            ],
            "type": "histogram2dcontour"
           }
          ],
          "mesh3d": [
           {
            "colorbar": {
             "outlinewidth": 0,
             "ticks": ""
            },
            "type": "mesh3d"
           }
          ],
          "parcoords": [
           {
            "line": {
             "colorbar": {
              "outlinewidth": 0,
              "ticks": ""
             }
            },
            "type": "parcoords"
           }
          ],
          "pie": [
           {
            "automargin": true,
            "type": "pie"
           }
          ],
          "scatter": [
           {
            "fillpattern": {
             "fillmode": "overlay",
             "size": 10,
             "solidity": 0.2
            },
            "type": "scatter"
           }
          ],
          "scatter3d": [
           {
            "line": {
             "colorbar": {
              "outlinewidth": 0,
              "ticks": ""
             }
            },
            "marker": {
             "colorbar": {
              "outlinewidth": 0,
              "ticks": ""
             }
            },
            "type": "scatter3d"
           }
          ],
          "scattercarpet": [
           {
            "marker": {
             "colorbar": {
              "outlinewidth": 0,
              "ticks": ""
             }
            },
            "type": "scattercarpet"
           }
          ],
          "scattergeo": [
           {
            "marker": {
             "colorbar": {
              "outlinewidth": 0,
              "ticks": ""
             }
            },
            "type": "scattergeo"
           }
          ],
          "scattergl": [
           {
            "marker": {
             "colorbar": {
              "outlinewidth": 0,
              "ticks": ""
             }
            },
            "type": "scattergl"
           }
          ],
          "scattermapbox": [
           {
            "marker": {
             "colorbar": {
              "outlinewidth": 0,
              "ticks": ""
             }
            },
            "type": "scattermapbox"
           }
          ],
          "scatterpolar": [
           {
            "marker": {
             "colorbar": {
              "outlinewidth": 0,
              "ticks": ""
             }
            },
            "type": "scatterpolar"
           }
          ],
          "scatterpolargl": [
           {
            "marker": {
             "colorbar": {
              "outlinewidth": 0,
              "ticks": ""
             }
            },
            "type": "scatterpolargl"
           }
          ],
          "scatterternary": [
           {
            "marker": {
             "colorbar": {
              "outlinewidth": 0,
              "ticks": ""
             }
            },
            "type": "scatterternary"
           }
          ],
          "surface": [
           {
            "colorbar": {
             "outlinewidth": 0,
             "ticks": ""
            },
            "colorscale": [
             [
              0,
              "#0d0887"
             ],
             [
              0.1111111111111111,
              "#46039f"
             ],
             [
              0.2222222222222222,
              "#7201a8"
             ],
             [
              0.3333333333333333,
              "#9c179e"
             ],
             [
              0.4444444444444444,
              "#bd3786"
             ],
             [
              0.5555555555555556,
              "#d8576b"
             ],
             [
              0.6666666666666666,
              "#ed7953"
             ],
             [
              0.7777777777777778,
              "#fb9f3a"
             ],
             [
              0.8888888888888888,
              "#fdca26"
             ],
             [
              1,
              "#f0f921"
             ]
            ],
            "type": "surface"
           }
          ],
          "table": [
           {
            "cells": {
             "fill": {
              "color": "#EBF0F8"
             },
             "line": {
              "color": "white"
             }
            },
            "header": {
             "fill": {
              "color": "#C8D4E3"
             },
             "line": {
              "color": "white"
             }
            },
            "type": "table"
           }
          ]
         },
         "layout": {
          "annotationdefaults": {
           "arrowcolor": "#2a3f5f",
           "arrowhead": 0,
           "arrowwidth": 1
          },
          "autotypenumbers": "strict",
          "coloraxis": {
           "colorbar": {
            "outlinewidth": 0,
            "ticks": ""
           }
          },
          "colorscale": {
           "diverging": [
            [
             0,
             "#8e0152"
            ],
            [
             0.1,
             "#c51b7d"
            ],
            [
             0.2,
             "#de77ae"
            ],
            [
             0.3,
             "#f1b6da"
            ],
            [
             0.4,
             "#fde0ef"
            ],
            [
             0.5,
             "#f7f7f7"
            ],
            [
             0.6,
             "#e6f5d0"
            ],
            [
             0.7,
             "#b8e186"
            ],
            [
             0.8,
             "#7fbc41"
            ],
            [
             0.9,
             "#4d9221"
            ],
            [
             1,
             "#276419"
            ]
           ],
           "sequential": [
            [
             0,
             "#0d0887"
            ],
            [
             0.1111111111111111,
             "#46039f"
            ],
            [
             0.2222222222222222,
             "#7201a8"
            ],
            [
             0.3333333333333333,
             "#9c179e"
            ],
            [
             0.4444444444444444,
             "#bd3786"
            ],
            [
             0.5555555555555556,
             "#d8576b"
            ],
            [
             0.6666666666666666,
             "#ed7953"
            ],
            [
             0.7777777777777778,
             "#fb9f3a"
            ],
            [
             0.8888888888888888,
             "#fdca26"
            ],
            [
             1,
             "#f0f921"
            ]
           ],
           "sequentialminus": [
            [
             0,
             "#0d0887"
            ],
            [
             0.1111111111111111,
             "#46039f"
            ],
            [
             0.2222222222222222,
             "#7201a8"
            ],
            [
             0.3333333333333333,
             "#9c179e"
            ],
            [
             0.4444444444444444,
             "#bd3786"
            ],
            [
             0.5555555555555556,
             "#d8576b"
            ],
            [
             0.6666666666666666,
             "#ed7953"
            ],
            [
             0.7777777777777778,
             "#fb9f3a"
            ],
            [
             0.8888888888888888,
             "#fdca26"
            ],
            [
             1,
             "#f0f921"
            ]
           ]
          },
          "colorway": [
           "#636efa",
           "#EF553B",
           "#00cc96",
           "#ab63fa",
           "#FFA15A",
           "#19d3f3",
           "#FF6692",
           "#B6E880",
           "#FF97FF",
           "#FECB52"
          ],
          "font": {
           "color": "#2a3f5f"
          },
          "geo": {
           "bgcolor": "white",
           "lakecolor": "white",
           "landcolor": "#E5ECF6",
           "showlakes": true,
           "showland": true,
           "subunitcolor": "white"
          },
          "hoverlabel": {
           "align": "left"
          },
          "hovermode": "closest",
          "mapbox": {
           "style": "light"
          },
          "paper_bgcolor": "white",
          "plot_bgcolor": "#E5ECF6",
          "polar": {
           "angularaxis": {
            "gridcolor": "white",
            "linecolor": "white",
            "ticks": ""
           },
           "bgcolor": "#E5ECF6",
           "radialaxis": {
            "gridcolor": "white",
            "linecolor": "white",
            "ticks": ""
           }
          },
          "scene": {
           "xaxis": {
            "backgroundcolor": "#E5ECF6",
            "gridcolor": "white",
            "gridwidth": 2,
            "linecolor": "white",
            "showbackground": true,
            "ticks": "",
            "zerolinecolor": "white"
           },
           "yaxis": {
            "backgroundcolor": "#E5ECF6",
            "gridcolor": "white",
            "gridwidth": 2,
            "linecolor": "white",
            "showbackground": true,
            "ticks": "",
            "zerolinecolor": "white"
           },
           "zaxis": {
            "backgroundcolor": "#E5ECF6",
            "gridcolor": "white",
            "gridwidth": 2,
            "linecolor": "white",
            "showbackground": true,
            "ticks": "",
            "zerolinecolor": "white"
           }
          },
          "shapedefaults": {
           "line": {
            "color": "#2a3f5f"
           }
          },
          "ternary": {
           "aaxis": {
            "gridcolor": "white",
            "linecolor": "white",
            "ticks": ""
           },
           "baxis": {
            "gridcolor": "white",
            "linecolor": "white",
            "ticks": ""
           },
           "bgcolor": "#E5ECF6",
           "caxis": {
            "gridcolor": "white",
            "linecolor": "white",
            "ticks": ""
           }
          },
          "title": {
           "x": 0.05
          },
          "xaxis": {
           "automargin": true,
           "gridcolor": "white",
           "linecolor": "white",
           "ticks": "",
           "title": {
            "standoff": 15
           },
           "zerolinecolor": "white",
           "zerolinewidth": 2
          },
          "yaxis": {
           "automargin": true,
           "gridcolor": "white",
           "linecolor": "white",
           "ticks": "",
           "title": {
            "standoff": 15
           },
           "zerolinecolor": "white",
           "zerolinewidth": 2
          }
         }
        },
        "title": {
         "text": "Avaliação média por Categoria"
        },
        "xaxis": {
         "title": {
          "text": "Categoria"
         }
        },
        "yaxis": {
         "tickvals": [
          0,
          0.5,
          1,
          1.5,
          2,
          2.5,
          3,
          3.5,
          4,
          4.5,
          5
         ],
         "title": {
          "text": "Avaliação Média"
         }
        }
       }
      }
     },
     "metadata": {},
     "output_type": "display_data"
    }
   ],
   "source": [
    "# Plot the main_category with the mean rating\n",
    "df_main_category = df.groupby(\n",
    "    \"main_category\")[\"rating\"].mean().reset_index()\n",
    "df_main_category = df_main_category.sort_values(\n",
    "    \"rating\", ascending=False)\n",
    "\n",
    "fig = go.Figure()\n",
    "fig.add_trace(\n",
    "    go.Bar(x=df_main_category[\"main_category\"],\n",
    "           y=df_main_category[\"rating\"]))\n",
    "fig.update_layout(title=\"Avaliação média por Categoria\",\n",
    "                  xaxis_title=\"Categoria\",\n",
    "                  yaxis_title=\"Avaliação Média\")\n",
    "# Add more ticks to the y-axis\n",
    "fig.update_yaxes(tickvals=np.arange(0, 5.5, 0.5))\n",
    "# Include the values in the bars\n",
    "fig.update_traces(texttemplate='%{y:.2f}', textposition='inside')\n",
    "fig.show()"
   ]
  },
  {
   "cell_type": "code",
   "execution_count": 589,
   "metadata": {},
   "outputs": [
    {
     "data": {
      "application/vnd.plotly.v1+json": {
       "config": {
        "plotlyServerURL": "https://plot.ly"
       },
       "data": [
        {
         "textposition": "inside",
         "texttemplate": "%{y:.2f}",
         "type": "bar",
         "x": [
          "OfficeProducts",
          "Toys&Games",
          "HomeImprovement",
          "Computers&Accessories",
          "Electronics",
          "Home&Kitchen",
          "Health&PersonalCare",
          "MusicalInstruments",
          "Car&Motorbike"
         ],
         "y": [
          4.3,
          4.3,
          4.25,
          4.2,
          4.1,
          4.1,
          4,
          3.9,
          3.8
         ]
        }
       ],
       "layout": {
        "template": {
         "data": {
          "bar": [
           {
            "error_x": {
             "color": "#2a3f5f"
            },
            "error_y": {
             "color": "#2a3f5f"
            },
            "marker": {
             "line": {
              "color": "#E5ECF6",
              "width": 0.5
             },
             "pattern": {
              "fillmode": "overlay",
              "size": 10,
              "solidity": 0.2
             }
            },
            "type": "bar"
           }
          ],
          "barpolar": [
           {
            "marker": {
             "line": {
              "color": "#E5ECF6",
              "width": 0.5
             },
             "pattern": {
              "fillmode": "overlay",
              "size": 10,
              "solidity": 0.2
             }
            },
            "type": "barpolar"
           }
          ],
          "carpet": [
           {
            "aaxis": {
             "endlinecolor": "#2a3f5f",
             "gridcolor": "white",
             "linecolor": "white",
             "minorgridcolor": "white",
             "startlinecolor": "#2a3f5f"
            },
            "baxis": {
             "endlinecolor": "#2a3f5f",
             "gridcolor": "white",
             "linecolor": "white",
             "minorgridcolor": "white",
             "startlinecolor": "#2a3f5f"
            },
            "type": "carpet"
           }
          ],
          "choropleth": [
           {
            "colorbar": {
             "outlinewidth": 0,
             "ticks": ""
            },
            "type": "choropleth"
           }
          ],
          "contour": [
           {
            "colorbar": {
             "outlinewidth": 0,
             "ticks": ""
            },
            "colorscale": [
             [
              0,
              "#0d0887"
             ],
             [
              0.1111111111111111,
              "#46039f"
             ],
             [
              0.2222222222222222,
              "#7201a8"
             ],
             [
              0.3333333333333333,
              "#9c179e"
             ],
             [
              0.4444444444444444,
              "#bd3786"
             ],
             [
              0.5555555555555556,
              "#d8576b"
             ],
             [
              0.6666666666666666,
              "#ed7953"
             ],
             [
              0.7777777777777778,
              "#fb9f3a"
             ],
             [
              0.8888888888888888,
              "#fdca26"
             ],
             [
              1,
              "#f0f921"
             ]
            ],
            "type": "contour"
           }
          ],
          "contourcarpet": [
           {
            "colorbar": {
             "outlinewidth": 0,
             "ticks": ""
            },
            "type": "contourcarpet"
           }
          ],
          "heatmap": [
           {
            "colorbar": {
             "outlinewidth": 0,
             "ticks": ""
            },
            "colorscale": [
             [
              0,
              "#0d0887"
             ],
             [
              0.1111111111111111,
              "#46039f"
             ],
             [
              0.2222222222222222,
              "#7201a8"
             ],
             [
              0.3333333333333333,
              "#9c179e"
             ],
             [
              0.4444444444444444,
              "#bd3786"
             ],
             [
              0.5555555555555556,
              "#d8576b"
             ],
             [
              0.6666666666666666,
              "#ed7953"
             ],
             [
              0.7777777777777778,
              "#fb9f3a"
             ],
             [
              0.8888888888888888,
              "#fdca26"
             ],
             [
              1,
              "#f0f921"
             ]
            ],
            "type": "heatmap"
           }
          ],
          "heatmapgl": [
           {
            "colorbar": {
             "outlinewidth": 0,
             "ticks": ""
            },
            "colorscale": [
             [
              0,
              "#0d0887"
             ],
             [
              0.1111111111111111,
              "#46039f"
             ],
             [
              0.2222222222222222,
              "#7201a8"
             ],
             [
              0.3333333333333333,
              "#9c179e"
             ],
             [
              0.4444444444444444,
              "#bd3786"
             ],
             [
              0.5555555555555556,
              "#d8576b"
             ],
             [
              0.6666666666666666,
              "#ed7953"
             ],
             [
              0.7777777777777778,
              "#fb9f3a"
             ],
             [
              0.8888888888888888,
              "#fdca26"
             ],
             [
              1,
              "#f0f921"
             ]
            ],
            "type": "heatmapgl"
           }
          ],
          "histogram": [
           {
            "marker": {
             "pattern": {
              "fillmode": "overlay",
              "size": 10,
              "solidity": 0.2
             }
            },
            "type": "histogram"
           }
          ],
          "histogram2d": [
           {
            "colorbar": {
             "outlinewidth": 0,
             "ticks": ""
            },
            "colorscale": [
             [
              0,
              "#0d0887"
             ],
             [
              0.1111111111111111,
              "#46039f"
             ],
             [
              0.2222222222222222,
              "#7201a8"
             ],
             [
              0.3333333333333333,
              "#9c179e"
             ],
             [
              0.4444444444444444,
              "#bd3786"
             ],
             [
              0.5555555555555556,
              "#d8576b"
             ],
             [
              0.6666666666666666,
              "#ed7953"
             ],
             [
              0.7777777777777778,
              "#fb9f3a"
             ],
             [
              0.8888888888888888,
              "#fdca26"
             ],
             [
              1,
              "#f0f921"
             ]
            ],
            "type": "histogram2d"
           }
          ],
          "histogram2dcontour": [
           {
            "colorbar": {
             "outlinewidth": 0,
             "ticks": ""
            },
            "colorscale": [
             [
              0,
              "#0d0887"
             ],
             [
              0.1111111111111111,
              "#46039f"
             ],
             [
              0.2222222222222222,
              "#7201a8"
             ],
             [
              0.3333333333333333,
              "#9c179e"
             ],
             [
              0.4444444444444444,
              "#bd3786"
             ],
             [
              0.5555555555555556,
              "#d8576b"
             ],
             [
              0.6666666666666666,
              "#ed7953"
             ],
             [
              0.7777777777777778,
              "#fb9f3a"
             ],
             [
              0.8888888888888888,
              "#fdca26"
             ],
             [
              1,
              "#f0f921"
             ]
            ],
            "type": "histogram2dcontour"
           }
          ],
          "mesh3d": [
           {
            "colorbar": {
             "outlinewidth": 0,
             "ticks": ""
            },
            "type": "mesh3d"
           }
          ],
          "parcoords": [
           {
            "line": {
             "colorbar": {
              "outlinewidth": 0,
              "ticks": ""
             }
            },
            "type": "parcoords"
           }
          ],
          "pie": [
           {
            "automargin": true,
            "type": "pie"
           }
          ],
          "scatter": [
           {
            "fillpattern": {
             "fillmode": "overlay",
             "size": 10,
             "solidity": 0.2
            },
            "type": "scatter"
           }
          ],
          "scatter3d": [
           {
            "line": {
             "colorbar": {
              "outlinewidth": 0,
              "ticks": ""
             }
            },
            "marker": {
             "colorbar": {
              "outlinewidth": 0,
              "ticks": ""
             }
            },
            "type": "scatter3d"
           }
          ],
          "scattercarpet": [
           {
            "marker": {
             "colorbar": {
              "outlinewidth": 0,
              "ticks": ""
             }
            },
            "type": "scattercarpet"
           }
          ],
          "scattergeo": [
           {
            "marker": {
             "colorbar": {
              "outlinewidth": 0,
              "ticks": ""
             }
            },
            "type": "scattergeo"
           }
          ],
          "scattergl": [
           {
            "marker": {
             "colorbar": {
              "outlinewidth": 0,
              "ticks": ""
             }
            },
            "type": "scattergl"
           }
          ],
          "scattermapbox": [
           {
            "marker": {
             "colorbar": {
              "outlinewidth": 0,
              "ticks": ""
             }
            },
            "type": "scattermapbox"
           }
          ],
          "scatterpolar": [
           {
            "marker": {
             "colorbar": {
              "outlinewidth": 0,
              "ticks": ""
             }
            },
            "type": "scatterpolar"
           }
          ],
          "scatterpolargl": [
           {
            "marker": {
             "colorbar": {
              "outlinewidth": 0,
              "ticks": ""
             }
            },
            "type": "scatterpolargl"
           }
          ],
          "scatterternary": [
           {
            "marker": {
             "colorbar": {
              "outlinewidth": 0,
              "ticks": ""
             }
            },
            "type": "scatterternary"
           }
          ],
          "surface": [
           {
            "colorbar": {
             "outlinewidth": 0,
             "ticks": ""
            },
            "colorscale": [
             [
              0,
              "#0d0887"
             ],
             [
              0.1111111111111111,
              "#46039f"
             ],
             [
              0.2222222222222222,
              "#7201a8"
             ],
             [
              0.3333333333333333,
              "#9c179e"
             ],
             [
              0.4444444444444444,
              "#bd3786"
             ],
             [
              0.5555555555555556,
              "#d8576b"
             ],
             [
              0.6666666666666666,
              "#ed7953"
             ],
             [
              0.7777777777777778,
              "#fb9f3a"
             ],
             [
              0.8888888888888888,
              "#fdca26"
             ],
             [
              1,
              "#f0f921"
             ]
            ],
            "type": "surface"
           }
          ],
          "table": [
           {
            "cells": {
             "fill": {
              "color": "#EBF0F8"
             },
             "line": {
              "color": "white"
             }
            },
            "header": {
             "fill": {
              "color": "#C8D4E3"
             },
             "line": {
              "color": "white"
             }
            },
            "type": "table"
           }
          ]
         },
         "layout": {
          "annotationdefaults": {
           "arrowcolor": "#2a3f5f",
           "arrowhead": 0,
           "arrowwidth": 1
          },
          "autotypenumbers": "strict",
          "coloraxis": {
           "colorbar": {
            "outlinewidth": 0,
            "ticks": ""
           }
          },
          "colorscale": {
           "diverging": [
            [
             0,
             "#8e0152"
            ],
            [
             0.1,
             "#c51b7d"
            ],
            [
             0.2,
             "#de77ae"
            ],
            [
             0.3,
             "#f1b6da"
            ],
            [
             0.4,
             "#fde0ef"
            ],
            [
             0.5,
             "#f7f7f7"
            ],
            [
             0.6,
             "#e6f5d0"
            ],
            [
             0.7,
             "#b8e186"
            ],
            [
             0.8,
             "#7fbc41"
            ],
            [
             0.9,
             "#4d9221"
            ],
            [
             1,
             "#276419"
            ]
           ],
           "sequential": [
            [
             0,
             "#0d0887"
            ],
            [
             0.1111111111111111,
             "#46039f"
            ],
            [
             0.2222222222222222,
             "#7201a8"
            ],
            [
             0.3333333333333333,
             "#9c179e"
            ],
            [
             0.4444444444444444,
             "#bd3786"
            ],
            [
             0.5555555555555556,
             "#d8576b"
            ],
            [
             0.6666666666666666,
             "#ed7953"
            ],
            [
             0.7777777777777778,
             "#fb9f3a"
            ],
            [
             0.8888888888888888,
             "#fdca26"
            ],
            [
             1,
             "#f0f921"
            ]
           ],
           "sequentialminus": [
            [
             0,
             "#0d0887"
            ],
            [
             0.1111111111111111,
             "#46039f"
            ],
            [
             0.2222222222222222,
             "#7201a8"
            ],
            [
             0.3333333333333333,
             "#9c179e"
            ],
            [
             0.4444444444444444,
             "#bd3786"
            ],
            [
             0.5555555555555556,
             "#d8576b"
            ],
            [
             0.6666666666666666,
             "#ed7953"
            ],
            [
             0.7777777777777778,
             "#fb9f3a"
            ],
            [
             0.8888888888888888,
             "#fdca26"
            ],
            [
             1,
             "#f0f921"
            ]
           ]
          },
          "colorway": [
           "#636efa",
           "#EF553B",
           "#00cc96",
           "#ab63fa",
           "#FFA15A",
           "#19d3f3",
           "#FF6692",
           "#B6E880",
           "#FF97FF",
           "#FECB52"
          ],
          "font": {
           "color": "#2a3f5f"
          },
          "geo": {
           "bgcolor": "white",
           "lakecolor": "white",
           "landcolor": "#E5ECF6",
           "showlakes": true,
           "showland": true,
           "subunitcolor": "white"
          },
          "hoverlabel": {
           "align": "left"
          },
          "hovermode": "closest",
          "mapbox": {
           "style": "light"
          },
          "paper_bgcolor": "white",
          "plot_bgcolor": "#E5ECF6",
          "polar": {
           "angularaxis": {
            "gridcolor": "white",
            "linecolor": "white",
            "ticks": ""
           },
           "bgcolor": "#E5ECF6",
           "radialaxis": {
            "gridcolor": "white",
            "linecolor": "white",
            "ticks": ""
           }
          },
          "scene": {
           "xaxis": {
            "backgroundcolor": "#E5ECF6",
            "gridcolor": "white",
            "gridwidth": 2,
            "linecolor": "white",
            "showbackground": true,
            "ticks": "",
            "zerolinecolor": "white"
           },
           "yaxis": {
            "backgroundcolor": "#E5ECF6",
            "gridcolor": "white",
            "gridwidth": 2,
            "linecolor": "white",
            "showbackground": true,
            "ticks": "",
            "zerolinecolor": "white"
           },
           "zaxis": {
            "backgroundcolor": "#E5ECF6",
            "gridcolor": "white",
            "gridwidth": 2,
            "linecolor": "white",
            "showbackground": true,
            "ticks": "",
            "zerolinecolor": "white"
           }
          },
          "shapedefaults": {
           "line": {
            "color": "#2a3f5f"
           }
          },
          "ternary": {
           "aaxis": {
            "gridcolor": "white",
            "linecolor": "white",
            "ticks": ""
           },
           "baxis": {
            "gridcolor": "white",
            "linecolor": "white",
            "ticks": ""
           },
           "bgcolor": "#E5ECF6",
           "caxis": {
            "gridcolor": "white",
            "linecolor": "white",
            "ticks": ""
           }
          },
          "title": {
           "x": 0.05
          },
          "xaxis": {
           "automargin": true,
           "gridcolor": "white",
           "linecolor": "white",
           "ticks": "",
           "title": {
            "standoff": 15
           },
           "zerolinecolor": "white",
           "zerolinewidth": 2
          },
          "yaxis": {
           "automargin": true,
           "gridcolor": "white",
           "linecolor": "white",
           "ticks": "",
           "title": {
            "standoff": 15
           },
           "zerolinecolor": "white",
           "zerolinewidth": 2
          }
         }
        },
        "title": {
         "text": "Avaliação mediana por Categoria"
        },
        "xaxis": {
         "title": {
          "text": "Categoria"
         }
        },
        "yaxis": {
         "tickvals": [
          0,
          0.5,
          1,
          1.5,
          2,
          2.5,
          3,
          3.5,
          4,
          4.5,
          5
         ],
         "title": {
          "text": "Avaliação Mediana"
         }
        }
       }
      }
     },
     "metadata": {},
     "output_type": "display_data"
    }
   ],
   "source": [
    "# Plot the main_category with the mean rating\n",
    "df_main_category = df.groupby(\n",
    "    \"main_category\")[\"rating\"].median().reset_index()\n",
    "df_main_category = df_main_category.sort_values(\n",
    "    \"rating\", ascending=False)\n",
    "\n",
    "fig = go.Figure()\n",
    "fig.add_trace(\n",
    "    go.Bar(x=df_main_category[\"main_category\"],\n",
    "           y=df_main_category[\"rating\"]))\n",
    "fig.update_layout(title=\"Avaliação mediana por Categoria\",\n",
    "                  xaxis_title=\"Categoria\",\n",
    "                  yaxis_title=\"Avaliação Mediana\")\n",
    "# Add more ticks to the y-axis\n",
    "fig.update_yaxes(tickvals=np.arange(0, 5.5, 0.5))\n",
    "# Include the values in the bars\n",
    "fig.update_traces(texttemplate='%{y:.2f}', textposition='inside')\n",
    "fig.show()"
   ]
  },
  {
   "cell_type": "markdown",
   "metadata": {},
   "source": [
    "Qual é o desconto médio e mediano por categoria?"
   ]
  },
  {
   "cell_type": "code",
   "execution_count": 590,
   "metadata": {},
   "outputs": [
    {
     "data": {
      "application/vnd.plotly.v1+json": {
       "config": {
        "plotlyServerURL": "https://plot.ly"
       },
       "data": [
        {
         "textposition": "inside",
         "texttemplate": "%{y:.2f}",
         "type": "bar",
         "x": [
          "HomeImprovement",
          "Computers&Accessories",
          "Health&PersonalCare",
          "Electronics",
          "MusicalInstruments",
          "Car&Motorbike",
          "Home&Kitchen",
          "OfficeProducts",
          "Toys&Games"
         ],
         "y": [
          57.5,
          53.91609977324263,
          53,
          51,
          46,
          42,
          40.1123595505618,
          12.35483870967742,
          0
         ]
        }
       ],
       "layout": {
        "template": {
         "data": {
          "bar": [
           {
            "error_x": {
             "color": "#2a3f5f"
            },
            "error_y": {
             "color": "#2a3f5f"
            },
            "marker": {
             "line": {
              "color": "#E5ECF6",
              "width": 0.5
             },
             "pattern": {
              "fillmode": "overlay",
              "size": 10,
              "solidity": 0.2
             }
            },
            "type": "bar"
           }
          ],
          "barpolar": [
           {
            "marker": {
             "line": {
              "color": "#E5ECF6",
              "width": 0.5
             },
             "pattern": {
              "fillmode": "overlay",
              "size": 10,
              "solidity": 0.2
             }
            },
            "type": "barpolar"
           }
          ],
          "carpet": [
           {
            "aaxis": {
             "endlinecolor": "#2a3f5f",
             "gridcolor": "white",
             "linecolor": "white",
             "minorgridcolor": "white",
             "startlinecolor": "#2a3f5f"
            },
            "baxis": {
             "endlinecolor": "#2a3f5f",
             "gridcolor": "white",
             "linecolor": "white",
             "minorgridcolor": "white",
             "startlinecolor": "#2a3f5f"
            },
            "type": "carpet"
           }
          ],
          "choropleth": [
           {
            "colorbar": {
             "outlinewidth": 0,
             "ticks": ""
            },
            "type": "choropleth"
           }
          ],
          "contour": [
           {
            "colorbar": {
             "outlinewidth": 0,
             "ticks": ""
            },
            "colorscale": [
             [
              0,
              "#0d0887"
             ],
             [
              0.1111111111111111,
              "#46039f"
             ],
             [
              0.2222222222222222,
              "#7201a8"
             ],
             [
              0.3333333333333333,
              "#9c179e"
             ],
             [
              0.4444444444444444,
              "#bd3786"
             ],
             [
              0.5555555555555556,
              "#d8576b"
             ],
             [
              0.6666666666666666,
              "#ed7953"
             ],
             [
              0.7777777777777778,
              "#fb9f3a"
             ],
             [
              0.8888888888888888,
              "#fdca26"
             ],
             [
              1,
              "#f0f921"
             ]
            ],
            "type": "contour"
           }
          ],
          "contourcarpet": [
           {
            "colorbar": {
             "outlinewidth": 0,
             "ticks": ""
            },
            "type": "contourcarpet"
           }
          ],
          "heatmap": [
           {
            "colorbar": {
             "outlinewidth": 0,
             "ticks": ""
            },
            "colorscale": [
             [
              0,
              "#0d0887"
             ],
             [
              0.1111111111111111,
              "#46039f"
             ],
             [
              0.2222222222222222,
              "#7201a8"
             ],
             [
              0.3333333333333333,
              "#9c179e"
             ],
             [
              0.4444444444444444,
              "#bd3786"
             ],
             [
              0.5555555555555556,
              "#d8576b"
             ],
             [
              0.6666666666666666,
              "#ed7953"
             ],
             [
              0.7777777777777778,
              "#fb9f3a"
             ],
             [
              0.8888888888888888,
              "#fdca26"
             ],
             [
              1,
              "#f0f921"
             ]
            ],
            "type": "heatmap"
           }
          ],
          "heatmapgl": [
           {
            "colorbar": {
             "outlinewidth": 0,
             "ticks": ""
            },
            "colorscale": [
             [
              0,
              "#0d0887"
             ],
             [
              0.1111111111111111,
              "#46039f"
             ],
             [
              0.2222222222222222,
              "#7201a8"
             ],
             [
              0.3333333333333333,
              "#9c179e"
             ],
             [
              0.4444444444444444,
              "#bd3786"
             ],
             [
              0.5555555555555556,
              "#d8576b"
             ],
             [
              0.6666666666666666,
              "#ed7953"
             ],
             [
              0.7777777777777778,
              "#fb9f3a"
             ],
             [
              0.8888888888888888,
              "#fdca26"
             ],
             [
              1,
              "#f0f921"
             ]
            ],
            "type": "heatmapgl"
           }
          ],
          "histogram": [
           {
            "marker": {
             "pattern": {
              "fillmode": "overlay",
              "size": 10,
              "solidity": 0.2
             }
            },
            "type": "histogram"
           }
          ],
          "histogram2d": [
           {
            "colorbar": {
             "outlinewidth": 0,
             "ticks": ""
            },
            "colorscale": [
             [
              0,
              "#0d0887"
             ],
             [
              0.1111111111111111,
              "#46039f"
             ],
             [
              0.2222222222222222,
              "#7201a8"
             ],
             [
              0.3333333333333333,
              "#9c179e"
             ],
             [
              0.4444444444444444,
              "#bd3786"
             ],
             [
              0.5555555555555556,
              "#d8576b"
             ],
             [
              0.6666666666666666,
              "#ed7953"
             ],
             [
              0.7777777777777778,
              "#fb9f3a"
             ],
             [
              0.8888888888888888,
              "#fdca26"
             ],
             [
              1,
              "#f0f921"
             ]
            ],
            "type": "histogram2d"
           }
          ],
          "histogram2dcontour": [
           {
            "colorbar": {
             "outlinewidth": 0,
             "ticks": ""
            },
            "colorscale": [
             [
              0,
              "#0d0887"
             ],
             [
              0.1111111111111111,
              "#46039f"
             ],
             [
              0.2222222222222222,
              "#7201a8"
             ],
             [
              0.3333333333333333,
              "#9c179e"
             ],
             [
              0.4444444444444444,
              "#bd3786"
             ],
             [
              0.5555555555555556,
              "#d8576b"
             ],
             [
              0.6666666666666666,
              "#ed7953"
             ],
             [
              0.7777777777777778,
              "#fb9f3a"
             ],
             [
              0.8888888888888888,
              "#fdca26"
             ],
             [
              1,
              "#f0f921"
             ]
            ],
            "type": "histogram2dcontour"
           }
          ],
          "mesh3d": [
           {
            "colorbar": {
             "outlinewidth": 0,
             "ticks": ""
            },
            "type": "mesh3d"
           }
          ],
          "parcoords": [
           {
            "line": {
             "colorbar": {
              "outlinewidth": 0,
              "ticks": ""
             }
            },
            "type": "parcoords"
           }
          ],
          "pie": [
           {
            "automargin": true,
            "type": "pie"
           }
          ],
          "scatter": [
           {
            "fillpattern": {
             "fillmode": "overlay",
             "size": 10,
             "solidity": 0.2
            },
            "type": "scatter"
           }
          ],
          "scatter3d": [
           {
            "line": {
             "colorbar": {
              "outlinewidth": 0,
              "ticks": ""
             }
            },
            "marker": {
             "colorbar": {
              "outlinewidth": 0,
              "ticks": ""
             }
            },
            "type": "scatter3d"
           }
          ],
          "scattercarpet": [
           {
            "marker": {
             "colorbar": {
              "outlinewidth": 0,
              "ticks": ""
             }
            },
            "type": "scattercarpet"
           }
          ],
          "scattergeo": [
           {
            "marker": {
             "colorbar": {
              "outlinewidth": 0,
              "ticks": ""
             }
            },
            "type": "scattergeo"
           }
          ],
          "scattergl": [
           {
            "marker": {
             "colorbar": {
              "outlinewidth": 0,
              "ticks": ""
             }
            },
            "type": "scattergl"
           }
          ],
          "scattermapbox": [
           {
            "marker": {
             "colorbar": {
              "outlinewidth": 0,
              "ticks": ""
             }
            },
            "type": "scattermapbox"
           }
          ],
          "scatterpolar": [
           {
            "marker": {
             "colorbar": {
              "outlinewidth": 0,
              "ticks": ""
             }
            },
            "type": "scatterpolar"
           }
          ],
          "scatterpolargl": [
           {
            "marker": {
             "colorbar": {
              "outlinewidth": 0,
              "ticks": ""
             }
            },
            "type": "scatterpolargl"
           }
          ],
          "scatterternary": [
           {
            "marker": {
             "colorbar": {
              "outlinewidth": 0,
              "ticks": ""
             }
            },
            "type": "scatterternary"
           }
          ],
          "surface": [
           {
            "colorbar": {
             "outlinewidth": 0,
             "ticks": ""
            },
            "colorscale": [
             [
              0,
              "#0d0887"
             ],
             [
              0.1111111111111111,
              "#46039f"
             ],
             [
              0.2222222222222222,
              "#7201a8"
             ],
             [
              0.3333333333333333,
              "#9c179e"
             ],
             [
              0.4444444444444444,
              "#bd3786"
             ],
             [
              0.5555555555555556,
              "#d8576b"
             ],
             [
              0.6666666666666666,
              "#ed7953"
             ],
             [
              0.7777777777777778,
              "#fb9f3a"
             ],
             [
              0.8888888888888888,
              "#fdca26"
             ],
             [
              1,
              "#f0f921"
             ]
            ],
            "type": "surface"
           }
          ],
          "table": [
           {
            "cells": {
             "fill": {
              "color": "#EBF0F8"
             },
             "line": {
              "color": "white"
             }
            },
            "header": {
             "fill": {
              "color": "#C8D4E3"
             },
             "line": {
              "color": "white"
             }
            },
            "type": "table"
           }
          ]
         },
         "layout": {
          "annotationdefaults": {
           "arrowcolor": "#2a3f5f",
           "arrowhead": 0,
           "arrowwidth": 1
          },
          "autotypenumbers": "strict",
          "coloraxis": {
           "colorbar": {
            "outlinewidth": 0,
            "ticks": ""
           }
          },
          "colorscale": {
           "diverging": [
            [
             0,
             "#8e0152"
            ],
            [
             0.1,
             "#c51b7d"
            ],
            [
             0.2,
             "#de77ae"
            ],
            [
             0.3,
             "#f1b6da"
            ],
            [
             0.4,
             "#fde0ef"
            ],
            [
             0.5,
             "#f7f7f7"
            ],
            [
             0.6,
             "#e6f5d0"
            ],
            [
             0.7,
             "#b8e186"
            ],
            [
             0.8,
             "#7fbc41"
            ],
            [
             0.9,
             "#4d9221"
            ],
            [
             1,
             "#276419"
            ]
           ],
           "sequential": [
            [
             0,
             "#0d0887"
            ],
            [
             0.1111111111111111,
             "#46039f"
            ],
            [
             0.2222222222222222,
             "#7201a8"
            ],
            [
             0.3333333333333333,
             "#9c179e"
            ],
            [
             0.4444444444444444,
             "#bd3786"
            ],
            [
             0.5555555555555556,
             "#d8576b"
            ],
            [
             0.6666666666666666,
             "#ed7953"
            ],
            [
             0.7777777777777778,
             "#fb9f3a"
            ],
            [
             0.8888888888888888,
             "#fdca26"
            ],
            [
             1,
             "#f0f921"
            ]
           ],
           "sequentialminus": [
            [
             0,
             "#0d0887"
            ],
            [
             0.1111111111111111,
             "#46039f"
            ],
            [
             0.2222222222222222,
             "#7201a8"
            ],
            [
             0.3333333333333333,
             "#9c179e"
            ],
            [
             0.4444444444444444,
             "#bd3786"
            ],
            [
             0.5555555555555556,
             "#d8576b"
            ],
            [
             0.6666666666666666,
             "#ed7953"
            ],
            [
             0.7777777777777778,
             "#fb9f3a"
            ],
            [
             0.8888888888888888,
             "#fdca26"
            ],
            [
             1,
             "#f0f921"
            ]
           ]
          },
          "colorway": [
           "#636efa",
           "#EF553B",
           "#00cc96",
           "#ab63fa",
           "#FFA15A",
           "#19d3f3",
           "#FF6692",
           "#B6E880",
           "#FF97FF",
           "#FECB52"
          ],
          "font": {
           "color": "#2a3f5f"
          },
          "geo": {
           "bgcolor": "white",
           "lakecolor": "white",
           "landcolor": "#E5ECF6",
           "showlakes": true,
           "showland": true,
           "subunitcolor": "white"
          },
          "hoverlabel": {
           "align": "left"
          },
          "hovermode": "closest",
          "mapbox": {
           "style": "light"
          },
          "paper_bgcolor": "white",
          "plot_bgcolor": "#E5ECF6",
          "polar": {
           "angularaxis": {
            "gridcolor": "white",
            "linecolor": "white",
            "ticks": ""
           },
           "bgcolor": "#E5ECF6",
           "radialaxis": {
            "gridcolor": "white",
            "linecolor": "white",
            "ticks": ""
           }
          },
          "scene": {
           "xaxis": {
            "backgroundcolor": "#E5ECF6",
            "gridcolor": "white",
            "gridwidth": 2,
            "linecolor": "white",
            "showbackground": true,
            "ticks": "",
            "zerolinecolor": "white"
           },
           "yaxis": {
            "backgroundcolor": "#E5ECF6",
            "gridcolor": "white",
            "gridwidth": 2,
            "linecolor": "white",
            "showbackground": true,
            "ticks": "",
            "zerolinecolor": "white"
           },
           "zaxis": {
            "backgroundcolor": "#E5ECF6",
            "gridcolor": "white",
            "gridwidth": 2,
            "linecolor": "white",
            "showbackground": true,
            "ticks": "",
            "zerolinecolor": "white"
           }
          },
          "shapedefaults": {
           "line": {
            "color": "#2a3f5f"
           }
          },
          "ternary": {
           "aaxis": {
            "gridcolor": "white",
            "linecolor": "white",
            "ticks": ""
           },
           "baxis": {
            "gridcolor": "white",
            "linecolor": "white",
            "ticks": ""
           },
           "bgcolor": "#E5ECF6",
           "caxis": {
            "gridcolor": "white",
            "linecolor": "white",
            "ticks": ""
           }
          },
          "title": {
           "x": 0.05
          },
          "xaxis": {
           "automargin": true,
           "gridcolor": "white",
           "linecolor": "white",
           "ticks": "",
           "title": {
            "standoff": 15
           },
           "zerolinecolor": "white",
           "zerolinewidth": 2
          },
          "yaxis": {
           "automargin": true,
           "gridcolor": "white",
           "linecolor": "white",
           "ticks": "",
           "title": {
            "standoff": 15
           },
           "zerolinecolor": "white",
           "zerolinewidth": 2
          }
         }
        },
        "title": {
         "text": "Desconto médio por Categoria"
        },
        "xaxis": {
         "title": {
          "text": "Categoria"
         }
        },
        "yaxis": {
         "tickvals": [
          0,
          5,
          10,
          15,
          20,
          25,
          30,
          35,
          40,
          45,
          50,
          55,
          60,
          65,
          70,
          75,
          80,
          85,
          90,
          95,
          100
         ],
         "title": {
          "text": "Desconto Médio"
         }
        }
       }
      }
     },
     "metadata": {},
     "output_type": "display_data"
    }
   ],
   "source": [
    "# Plot the main_category with the mean discount_percentage\n",
    "df_main_category = df.groupby(\n",
    "    \"main_category\")[\"discount_percentage\"].mean().reset_index()\n",
    "df_main_category = df_main_category.sort_values(\n",
    "    \"discount_percentage\", ascending=False)\n",
    "\n",
    "fig = go.Figure()\n",
    "fig.add_trace(\n",
    "    go.Bar(x=df_main_category[\"main_category\"],\n",
    "           y=df_main_category[\"discount_percentage\"]))\n",
    "fig.update_layout(title=\"Desconto médio por Categoria\",\n",
    "                  xaxis_title=\"Categoria\",\n",
    "                  yaxis_title=\"Desconto Médio\")\n",
    "# Add more ticks to the y-axis\n",
    "fig.update_yaxes(tickvals=np.arange(0, 101, 5))\n",
    "# Include the values in the bars\n",
    "fig.update_traces(texttemplate='%{y:.2f}', textposition='inside')\n",
    "fig.show()\n"
   ]
  },
  {
   "cell_type": "code",
   "execution_count": 591,
   "metadata": {},
   "outputs": [
    {
     "data": {
      "application/vnd.plotly.v1+json": {
       "config": {
        "plotlyServerURL": "https://plot.ly"
       },
       "data": [
        {
         "textposition": "inside",
         "texttemplate": "%{y:.2f}",
         "type": "bar",
         "x": [
          "Computers&Accessories",
          "HomeImprovement",
          "Electronics",
          "Health&PersonalCare",
          "MusicalInstruments",
          "Car&Motorbike",
          "Home&Kitchen",
          "OfficeProducts",
          "Toys&Games"
         ],
         "y": [
          58,
          57.5,
          54,
          53,
          46,
          42,
          41,
          5,
          0
         ]
        }
       ],
       "layout": {
        "template": {
         "data": {
          "bar": [
           {
            "error_x": {
             "color": "#2a3f5f"
            },
            "error_y": {
             "color": "#2a3f5f"
            },
            "marker": {
             "line": {
              "color": "#E5ECF6",
              "width": 0.5
             },
             "pattern": {
              "fillmode": "overlay",
              "size": 10,
              "solidity": 0.2
             }
            },
            "type": "bar"
           }
          ],
          "barpolar": [
           {
            "marker": {
             "line": {
              "color": "#E5ECF6",
              "width": 0.5
             },
             "pattern": {
              "fillmode": "overlay",
              "size": 10,
              "solidity": 0.2
             }
            },
            "type": "barpolar"
           }
          ],
          "carpet": [
           {
            "aaxis": {
             "endlinecolor": "#2a3f5f",
             "gridcolor": "white",
             "linecolor": "white",
             "minorgridcolor": "white",
             "startlinecolor": "#2a3f5f"
            },
            "baxis": {
             "endlinecolor": "#2a3f5f",
             "gridcolor": "white",
             "linecolor": "white",
             "minorgridcolor": "white",
             "startlinecolor": "#2a3f5f"
            },
            "type": "carpet"
           }
          ],
          "choropleth": [
           {
            "colorbar": {
             "outlinewidth": 0,
             "ticks": ""
            },
            "type": "choropleth"
           }
          ],
          "contour": [
           {
            "colorbar": {
             "outlinewidth": 0,
             "ticks": ""
            },
            "colorscale": [
             [
              0,
              "#0d0887"
             ],
             [
              0.1111111111111111,
              "#46039f"
             ],
             [
              0.2222222222222222,
              "#7201a8"
             ],
             [
              0.3333333333333333,
              "#9c179e"
             ],
             [
              0.4444444444444444,
              "#bd3786"
             ],
             [
              0.5555555555555556,
              "#d8576b"
             ],
             [
              0.6666666666666666,
              "#ed7953"
             ],
             [
              0.7777777777777778,
              "#fb9f3a"
             ],
             [
              0.8888888888888888,
              "#fdca26"
             ],
             [
              1,
              "#f0f921"
             ]
            ],
            "type": "contour"
           }
          ],
          "contourcarpet": [
           {
            "colorbar": {
             "outlinewidth": 0,
             "ticks": ""
            },
            "type": "contourcarpet"
           }
          ],
          "heatmap": [
           {
            "colorbar": {
             "outlinewidth": 0,
             "ticks": ""
            },
            "colorscale": [
             [
              0,
              "#0d0887"
             ],
             [
              0.1111111111111111,
              "#46039f"
             ],
             [
              0.2222222222222222,
              "#7201a8"
             ],
             [
              0.3333333333333333,
              "#9c179e"
             ],
             [
              0.4444444444444444,
              "#bd3786"
             ],
             [
              0.5555555555555556,
              "#d8576b"
             ],
             [
              0.6666666666666666,
              "#ed7953"
             ],
             [
              0.7777777777777778,
              "#fb9f3a"
             ],
             [
              0.8888888888888888,
              "#fdca26"
             ],
             [
              1,
              "#f0f921"
             ]
            ],
            "type": "heatmap"
           }
          ],
          "heatmapgl": [
           {
            "colorbar": {
             "outlinewidth": 0,
             "ticks": ""
            },
            "colorscale": [
             [
              0,
              "#0d0887"
             ],
             [
              0.1111111111111111,
              "#46039f"
             ],
             [
              0.2222222222222222,
              "#7201a8"
             ],
             [
              0.3333333333333333,
              "#9c179e"
             ],
             [
              0.4444444444444444,
              "#bd3786"
             ],
             [
              0.5555555555555556,
              "#d8576b"
             ],
             [
              0.6666666666666666,
              "#ed7953"
             ],
             [
              0.7777777777777778,
              "#fb9f3a"
             ],
             [
              0.8888888888888888,
              "#fdca26"
             ],
             [
              1,
              "#f0f921"
             ]
            ],
            "type": "heatmapgl"
           }
          ],
          "histogram": [
           {
            "marker": {
             "pattern": {
              "fillmode": "overlay",
              "size": 10,
              "solidity": 0.2
             }
            },
            "type": "histogram"
           }
          ],
          "histogram2d": [
           {
            "colorbar": {
             "outlinewidth": 0,
             "ticks": ""
            },
            "colorscale": [
             [
              0,
              "#0d0887"
             ],
             [
              0.1111111111111111,
              "#46039f"
             ],
             [
              0.2222222222222222,
              "#7201a8"
             ],
             [
              0.3333333333333333,
              "#9c179e"
             ],
             [
              0.4444444444444444,
              "#bd3786"
             ],
             [
              0.5555555555555556,
              "#d8576b"
             ],
             [
              0.6666666666666666,
              "#ed7953"
             ],
             [
              0.7777777777777778,
              "#fb9f3a"
             ],
             [
              0.8888888888888888,
              "#fdca26"
             ],
             [
              1,
              "#f0f921"
             ]
            ],
            "type": "histogram2d"
           }
          ],
          "histogram2dcontour": [
           {
            "colorbar": {
             "outlinewidth": 0,
             "ticks": ""
            },
            "colorscale": [
             [
              0,
              "#0d0887"
             ],
             [
              0.1111111111111111,
              "#46039f"
             ],
             [
              0.2222222222222222,
              "#7201a8"
             ],
             [
              0.3333333333333333,
              "#9c179e"
             ],
             [
              0.4444444444444444,
              "#bd3786"
             ],
             [
              0.5555555555555556,
              "#d8576b"
             ],
             [
              0.6666666666666666,
              "#ed7953"
             ],
             [
              0.7777777777777778,
              "#fb9f3a"
             ],
             [
              0.8888888888888888,
              "#fdca26"
             ],
             [
              1,
              "#f0f921"
             ]
            ],
            "type": "histogram2dcontour"
           }
          ],
          "mesh3d": [
           {
            "colorbar": {
             "outlinewidth": 0,
             "ticks": ""
            },
            "type": "mesh3d"
           }
          ],
          "parcoords": [
           {
            "line": {
             "colorbar": {
              "outlinewidth": 0,
              "ticks": ""
             }
            },
            "type": "parcoords"
           }
          ],
          "pie": [
           {
            "automargin": true,
            "type": "pie"
           }
          ],
          "scatter": [
           {
            "fillpattern": {
             "fillmode": "overlay",
             "size": 10,
             "solidity": 0.2
            },
            "type": "scatter"
           }
          ],
          "scatter3d": [
           {
            "line": {
             "colorbar": {
              "outlinewidth": 0,
              "ticks": ""
             }
            },
            "marker": {
             "colorbar": {
              "outlinewidth": 0,
              "ticks": ""
             }
            },
            "type": "scatter3d"
           }
          ],
          "scattercarpet": [
           {
            "marker": {
             "colorbar": {
              "outlinewidth": 0,
              "ticks": ""
             }
            },
            "type": "scattercarpet"
           }
          ],
          "scattergeo": [
           {
            "marker": {
             "colorbar": {
              "outlinewidth": 0,
              "ticks": ""
             }
            },
            "type": "scattergeo"
           }
          ],
          "scattergl": [
           {
            "marker": {
             "colorbar": {
              "outlinewidth": 0,
              "ticks": ""
             }
            },
            "type": "scattergl"
           }
          ],
          "scattermapbox": [
           {
            "marker": {
             "colorbar": {
              "outlinewidth": 0,
              "ticks": ""
             }
            },
            "type": "scattermapbox"
           }
          ],
          "scatterpolar": [
           {
            "marker": {
             "colorbar": {
              "outlinewidth": 0,
              "ticks": ""
             }
            },
            "type": "scatterpolar"
           }
          ],
          "scatterpolargl": [
           {
            "marker": {
             "colorbar": {
              "outlinewidth": 0,
              "ticks": ""
             }
            },
            "type": "scatterpolargl"
           }
          ],
          "scatterternary": [
           {
            "marker": {
             "colorbar": {
              "outlinewidth": 0,
              "ticks": ""
             }
            },
            "type": "scatterternary"
           }
          ],
          "surface": [
           {
            "colorbar": {
             "outlinewidth": 0,
             "ticks": ""
            },
            "colorscale": [
             [
              0,
              "#0d0887"
             ],
             [
              0.1111111111111111,
              "#46039f"
             ],
             [
              0.2222222222222222,
              "#7201a8"
             ],
             [
              0.3333333333333333,
              "#9c179e"
             ],
             [
              0.4444444444444444,
              "#bd3786"
             ],
             [
              0.5555555555555556,
              "#d8576b"
             ],
             [
              0.6666666666666666,
              "#ed7953"
             ],
             [
              0.7777777777777778,
              "#fb9f3a"
             ],
             [
              0.8888888888888888,
              "#fdca26"
             ],
             [
              1,
              "#f0f921"
             ]
            ],
            "type": "surface"
           }
          ],
          "table": [
           {
            "cells": {
             "fill": {
              "color": "#EBF0F8"
             },
             "line": {
              "color": "white"
             }
            },
            "header": {
             "fill": {
              "color": "#C8D4E3"
             },
             "line": {
              "color": "white"
             }
            },
            "type": "table"
           }
          ]
         },
         "layout": {
          "annotationdefaults": {
           "arrowcolor": "#2a3f5f",
           "arrowhead": 0,
           "arrowwidth": 1
          },
          "autotypenumbers": "strict",
          "coloraxis": {
           "colorbar": {
            "outlinewidth": 0,
            "ticks": ""
           }
          },
          "colorscale": {
           "diverging": [
            [
             0,
             "#8e0152"
            ],
            [
             0.1,
             "#c51b7d"
            ],
            [
             0.2,
             "#de77ae"
            ],
            [
             0.3,
             "#f1b6da"
            ],
            [
             0.4,
             "#fde0ef"
            ],
            [
             0.5,
             "#f7f7f7"
            ],
            [
             0.6,
             "#e6f5d0"
            ],
            [
             0.7,
             "#b8e186"
            ],
            [
             0.8,
             "#7fbc41"
            ],
            [
             0.9,
             "#4d9221"
            ],
            [
             1,
             "#276419"
            ]
           ],
           "sequential": [
            [
             0,
             "#0d0887"
            ],
            [
             0.1111111111111111,
             "#46039f"
            ],
            [
             0.2222222222222222,
             "#7201a8"
            ],
            [
             0.3333333333333333,
             "#9c179e"
            ],
            [
             0.4444444444444444,
             "#bd3786"
            ],
            [
             0.5555555555555556,
             "#d8576b"
            ],
            [
             0.6666666666666666,
             "#ed7953"
            ],
            [
             0.7777777777777778,
             "#fb9f3a"
            ],
            [
             0.8888888888888888,
             "#fdca26"
            ],
            [
             1,
             "#f0f921"
            ]
           ],
           "sequentialminus": [
            [
             0,
             "#0d0887"
            ],
            [
             0.1111111111111111,
             "#46039f"
            ],
            [
             0.2222222222222222,
             "#7201a8"
            ],
            [
             0.3333333333333333,
             "#9c179e"
            ],
            [
             0.4444444444444444,
             "#bd3786"
            ],
            [
             0.5555555555555556,
             "#d8576b"
            ],
            [
             0.6666666666666666,
             "#ed7953"
            ],
            [
             0.7777777777777778,
             "#fb9f3a"
            ],
            [
             0.8888888888888888,
             "#fdca26"
            ],
            [
             1,
             "#f0f921"
            ]
           ]
          },
          "colorway": [
           "#636efa",
           "#EF553B",
           "#00cc96",
           "#ab63fa",
           "#FFA15A",
           "#19d3f3",
           "#FF6692",
           "#B6E880",
           "#FF97FF",
           "#FECB52"
          ],
          "font": {
           "color": "#2a3f5f"
          },
          "geo": {
           "bgcolor": "white",
           "lakecolor": "white",
           "landcolor": "#E5ECF6",
           "showlakes": true,
           "showland": true,
           "subunitcolor": "white"
          },
          "hoverlabel": {
           "align": "left"
          },
          "hovermode": "closest",
          "mapbox": {
           "style": "light"
          },
          "paper_bgcolor": "white",
          "plot_bgcolor": "#E5ECF6",
          "polar": {
           "angularaxis": {
            "gridcolor": "white",
            "linecolor": "white",
            "ticks": ""
           },
           "bgcolor": "#E5ECF6",
           "radialaxis": {
            "gridcolor": "white",
            "linecolor": "white",
            "ticks": ""
           }
          },
          "scene": {
           "xaxis": {
            "backgroundcolor": "#E5ECF6",
            "gridcolor": "white",
            "gridwidth": 2,
            "linecolor": "white",
            "showbackground": true,
            "ticks": "",
            "zerolinecolor": "white"
           },
           "yaxis": {
            "backgroundcolor": "#E5ECF6",
            "gridcolor": "white",
            "gridwidth": 2,
            "linecolor": "white",
            "showbackground": true,
            "ticks": "",
            "zerolinecolor": "white"
           },
           "zaxis": {
            "backgroundcolor": "#E5ECF6",
            "gridcolor": "white",
            "gridwidth": 2,
            "linecolor": "white",
            "showbackground": true,
            "ticks": "",
            "zerolinecolor": "white"
           }
          },
          "shapedefaults": {
           "line": {
            "color": "#2a3f5f"
           }
          },
          "ternary": {
           "aaxis": {
            "gridcolor": "white",
            "linecolor": "white",
            "ticks": ""
           },
           "baxis": {
            "gridcolor": "white",
            "linecolor": "white",
            "ticks": ""
           },
           "bgcolor": "#E5ECF6",
           "caxis": {
            "gridcolor": "white",
            "linecolor": "white",
            "ticks": ""
           }
          },
          "title": {
           "x": 0.05
          },
          "xaxis": {
           "automargin": true,
           "gridcolor": "white",
           "linecolor": "white",
           "ticks": "",
           "title": {
            "standoff": 15
           },
           "zerolinecolor": "white",
           "zerolinewidth": 2
          },
          "yaxis": {
           "automargin": true,
           "gridcolor": "white",
           "linecolor": "white",
           "ticks": "",
           "title": {
            "standoff": 15
           },
           "zerolinecolor": "white",
           "zerolinewidth": 2
          }
         }
        },
        "title": {
         "text": "Desconto mediano por Categoria"
        },
        "xaxis": {
         "title": {
          "text": "Categoria"
         }
        },
        "yaxis": {
         "tickvals": [
          0,
          5,
          10,
          15,
          20,
          25,
          30,
          35,
          40,
          45,
          50,
          55,
          60,
          65,
          70,
          75,
          80,
          85,
          90,
          95,
          100
         ],
         "title": {
          "text": "Desconto Mediano"
         }
        }
       }
      }
     },
     "metadata": {},
     "output_type": "display_data"
    }
   ],
   "source": [
    "# Plot the main_category with the mean discount_percentage\n",
    "df_main_category = df.groupby(\n",
    "    \"main_category\")[\"discount_percentage\"].median().reset_index()\n",
    "df_main_category = df_main_category.sort_values(\n",
    "    \"discount_percentage\", ascending=False)\n",
    "\n",
    "fig = go.Figure()\n",
    "fig.add_trace(\n",
    "    go.Bar(x=df_main_category[\"main_category\"],\n",
    "           y=df_main_category[\"discount_percentage\"]))\n",
    "fig.update_layout(title=\"Desconto mediano por Categoria\",\n",
    "                  xaxis_title=\"Categoria\",\n",
    "                  yaxis_title=\"Desconto Mediano\")\n",
    "# Add more ticks to the y-axis\n",
    "fig.update_yaxes(tickvals=np.arange(0, 101, 5))\n",
    "# Include the values in the bars\n",
    "fig.update_traces(texttemplate='%{y:.2f}', textposition='inside')\n",
    "fig.show()"
   ]
  },
  {
   "cell_type": "markdown",
   "metadata": {},
   "source": [
    "---"
   ]
  },
  {
   "cell_type": "markdown",
   "metadata": {},
   "source": [
    "### Subcategorias"
   ]
  },
  {
   "cell_type": "code",
   "execution_count": 658,
   "metadata": {},
   "outputs": [
    {
     "data": {
      "text/plain": [
       "sub_category\n",
       "Kitchen&HomeAppliances                     306\n",
       "Accessories&Peripherals                    303\n",
       "HomeTheater,TV&Video                       153\n",
       "Mobiles&Accessories                        140\n",
       "Heating,Cooling&AirQuality                 116\n",
       "WearableTechnology                          62\n",
       "Headphones,Earbuds&Accessories              48\n",
       "OfficePaperProducts                         27\n",
       "NetworkingDevices                           25\n",
       "Cameras&Photography                         16\n",
       "HomeStorage&Organization                    16\n",
       "ExternalDevices&DataStorage                 16\n",
       "HomeAudio                                   16\n",
       "GeneralPurposeBatteries&BatteryChargers     14\n",
       "Printers,Inks&Accessories                   11\n",
       "Accessories                                  8\n",
       "CraftMaterials                               7\n",
       "Components                                   5\n",
       "OfficeElectronics                            4\n",
       "Electrical                                   2\n",
       "Monitors                                     2\n",
       "Microphones                                  2\n",
       "Arts&Crafts                                  1\n",
       "PowerAccessories                             1\n",
       "Tablets                                      1\n",
       "Laptops                                      1\n",
       "CarAccessories                               1\n",
       "HomeMedicalSupplies&Equipment                1\n",
       "Name: count, dtype: int64"
      ]
     },
     "execution_count": 658,
     "metadata": {},
     "output_type": "execute_result"
    }
   ],
   "source": [
    "df[\"sub_category\"].value_counts()"
   ]
  },
  {
   "cell_type": "markdown",
   "metadata": {},
   "source": [
    "---"
   ]
  },
  {
   "cell_type": "markdown",
   "metadata": {},
   "source": [
    "### Categoria Específica"
   ]
  },
  {
   "cell_type": "code",
   "execution_count": 659,
   "metadata": {},
   "outputs": [
    {
     "data": {
      "text/plain": [
       "specific_category\n",
       "USBCables                   157\n",
       "Smartphones                  64\n",
       "SmartWatches                 62\n",
       "SmartTelevisions             60\n",
       "RemoteControls               49\n",
       "                           ... \n",
       "WoodenPencils                 1\n",
       "BatteryChargers               1\n",
       "DataCards&Dongles             1\n",
       "MultimediaSpeakerSystems      1\n",
       "HandheldBags                  1\n",
       "Name: count, Length: 206, dtype: int64"
      ]
     },
     "execution_count": 659,
     "metadata": {},
     "output_type": "execute_result"
    }
   ],
   "source": [
    "df[\"specific_category\"].value_counts()"
   ]
  },
  {
   "cell_type": "markdown",
   "metadata": {},
   "source": [
    "----"
   ]
  },
  {
   "cell_type": "markdown",
   "metadata": {},
   "source": [
    "### Correlação entre preço e avaliação"
   ]
  },
  {
   "cell_type": "code",
   "execution_count": 595,
   "metadata": {},
   "outputs": [
    {
     "data": {
      "application/vnd.plotly.v1+json": {
       "config": {
        "plotlyServerURL": "https://plot.ly"
       },
       "data": [
        {
         "mode": "markers",
         "type": "scatter",
         "x": [
          4.2,
          4,
          3.9,
          4.2,
          4.2,
          3.9,
          4.1,
          4.3,
          4,
          4.3,
          4.2,
          4.2,
          4.1,
          4.4,
          4.2,
          4,
          4.1,
          4.3,
          4.5,
          3.7,
          4.3,
          4,
          4.3,
          4.2,
          4.2,
          4,
          4.4,
          4.3,
          4.5,
          4,
          4.3,
          4.3,
          3.9,
          3.9,
          4.4,
          4,
          4.2,
          4.2,
          4.3,
          4.2,
          4.3,
          4,
          3.3,
          4.1,
          3.6,
          4.2,
          4.4,
          4.2,
          4.3,
          4.2,
          4.1,
          3.7,
          4.2,
          4.2,
          4.3,
          3.7,
          4.3,
          4,
          4.2,
          4.2,
          4.1,
          4.3,
          4.2,
          4.3,
          4.5,
          4.1,
          4.2,
          4,
          4.1,
          4.1,
          4,
          4.1,
          3.9,
          4,
          4.2,
          4,
          3.4,
          4.4,
          4.2,
          4.2,
          4.3,
          4.3,
          4.5,
          4.2,
          3.6,
          4.2,
          4.2,
          4.1,
          4.2,
          3.7,
          3.8,
          3.7,
          4.5,
          4.1,
          4.3,
          4.3,
          4,
          4.2,
          4.2,
          4.3,
          4.2,
          4.3,
          4.3,
          3.9,
          4.1,
          4.3,
          4.3,
          4.1,
          4.5,
          4.1,
          3.6,
          3.5,
          4,
          3.8,
          4.4,
          3.7,
          4.3,
          4.1,
          4.2,
          4.1,
          4.3,
          4.2,
          4.2,
          4.4,
          4.3,
          4.3,
          4,
          3.9,
          4.2,
          4.3,
          3.9,
          4.6,
          3.9,
          4.3,
          4.1,
          4.4,
          3.2,
          4.2,
          3.7,
          4.5,
          4.2,
          4.2,
          4.2,
          4.1,
          4.3,
          4.3,
          4.3,
          3.4,
          4.3,
          4.4,
          3.9,
          4.1,
          3.9,
          4,
          4.3,
          4,
          3.9,
          4.5,
          3.9,
          4.2,
          4,
          4.3,
          4,
          4.4,
          4.3,
          4,
          4.3,
          5,
          3.7,
          4,
          4.1,
          4,
          3.3,
          3.8,
          4.1,
          4.1,
          4.4,
          4.3,
          4.3,
          4.4,
          4.3,
          3.9,
          4.2,
          4.2,
          4.3,
          3.7,
          4.1,
          3.9,
          4,
          4.2,
          4.4,
          4.1,
          4.3,
          3.8,
          4.4,
          4,
          4.4,
          4,
          4.2,
          3.9,
          3.7,
          3.6,
          4,
          3.5,
          4.5,
          4.2,
          3.8,
          3.8,
          4.1,
          4.3,
          4.4,
          3.9,
          4.2,
          3.8,
          4.1,
          4.1,
          4.3,
          3.7,
          4,
          4.2,
          4.1,
          4.3,
          4.4,
          4.3,
          4.3,
          3.5,
          3.9,
          4.5,
          3.4,
          4,
          4,
          4.4,
          4,
          4.3,
          4,
          4.2,
          3.8,
          4.4,
          3.9,
          4.2,
          3.9,
          4.7,
          3.6,
          3.7,
          4.2,
          4,
          3.6,
          4.3,
          4.2,
          4.3,
          4.2,
          4.2,
          4.4,
          4.2,
          4.4,
          3,
          4.5,
          4.3,
          4.2,
          4.4,
          4,
          3.8,
          4.3,
          4.2,
          4.1,
          4,
          4.2,
          3.3,
          4.3,
          3.8,
          4.2,
          3.7,
          4.3,
          3.9,
          4.3,
          3.5,
          3.9,
          4,
          4.3,
          3.8,
          4.3,
          3.3,
          4.5,
          4.1,
          4.2,
          4.1,
          4.4,
          4.2,
          3.9,
          4,
          4.5,
          3.7,
          4.2,
          4.2,
          4.2,
          4.3,
          4.4,
          4.2,
          4.3,
          3.7,
          4.3,
          4.2,
          4.4,
          3.5,
          4.1,
          4.3,
          4.2,
          4,
          3.9,
          3.3,
          3.8,
          4,
          4.3,
          3.9,
          4.2,
          4.1,
          3.9,
          4.2,
          4.3,
          3.8,
          4.3,
          4.4,
          4.3,
          4.3,
          4.2,
          4.3,
          3.8,
          4,
          4.3,
          4.3,
          4,
          4,
          4.4,
          4.1,
          3.9,
          4.2,
          3.9,
          4,
          4,
          4.4,
          4.2,
          4.3,
          3.9,
          4.4,
          4,
          4.2,
          4.1,
          4.4,
          4.1,
          4.2,
          4.2,
          4.1,
          4,
          4.2,
          4.2,
          4.2,
          4,
          4.3,
          4.3,
          4.1,
          4,
          4.1,
          3.9,
          4.2,
          4,
          4.4,
          4.2,
          3.8,
          4.3,
          4.2,
          3.9,
          4.4,
          4,
          4,
          3.8,
          4.2,
          4.2,
          4.4,
          4.2,
          4,
          4.1,
          4.1,
          4.1,
          4.4,
          3.9,
          4.3,
          4,
          4.3,
          4,
          3.6,
          4.1,
          4.2,
          4.1,
          4.1,
          4,
          3.5,
          4.1,
          4.1,
          4.1,
          4.1,
          3.8,
          4.3,
          4,
          4.2,
          4.1,
          4.1,
          4.1,
          4.3,
          3.9,
          4,
          4.5,
          4,
          4,
          4.1,
          4.1,
          3.9,
          4.1,
          4,
          4.1,
          4.2,
          4,
          4.1,
          4.2,
          4.6,
          4,
          4.3,
          4.3,
          4.2,
          4,
          4.2,
          4,
          4.1,
          3.9,
          3.8,
          4.7,
          4.3,
          4.2,
          4.1,
          3.3,
          4.4,
          4,
          4.2,
          4.5,
          4.6,
          4.2,
          4,
          3.7,
          4.1,
          4.2,
          4.2,
          4.5,
          3.8,
          4,
          3.8,
          4.1,
          3.8,
          4.2,
          4.2,
          4.2,
          4,
          3.5,
          4.3,
          4.1,
          3.9,
          3.9,
          3.3,
          4,
          4,
          4,
          3.9,
          4.3,
          4.1,
          4.1,
          4.3,
          4.1,
          4.1,
          4.3,
          4.4,
          4.2,
          3.3,
          4.4,
          4.3,
          4.1,
          4,
          4.1,
          4.3,
          3.8,
          3.9,
          3.7,
          4,
          4.2,
          4.4,
          3.9,
          4.5,
          4.2,
          3.9,
          4.2,
          4.1,
          4.1,
          4.3,
          4.1,
          4.3,
          3.6,
          4.1,
          4,
          4.1,
          4.3,
          3.9,
          4.1,
          4.1,
          4.4,
          3.8,
          4.3,
          4.3,
          3.5,
          4,
          3.9,
          4.3,
          2.8,
          3.8,
          4.5,
          4.3,
          4.1,
          3,
          4,
          3.9,
          4.1,
          4.1,
          4.3,
          4,
          4.4,
          4.3,
          4.2,
          3.8,
          4.3,
          4.3,
          4.3,
          4,
          3.9,
          3.7,
          4.2,
          4.1,
          4,
          4.6,
          3.9,
          4,
          4.3,
          4.4,
          4.1,
          4.1,
          4.1,
          4.4,
          4.5,
          4.1,
          4.2,
          4.5,
          4.3,
          3.8,
          4.4,
          3.8,
          3.5,
          4.4,
          4.1,
          4.3,
          3.5,
          3.9,
          3.9,
          4.1,
          4,
          4.2,
          4.3,
          4.1,
          4,
          4.2,
          3.9,
          4.3,
          4.2,
          4.5,
          4,
          4.2,
          4.5,
          4.3,
          3.9,
          4.1,
          4.3,
          4.2,
          4.2,
          4,
          3.9,
          4.1,
          4.5,
          3.7,
          3.5,
          4.2,
          3.5,
          4.3,
          3.9,
          4.2,
          4.3,
          4.2,
          4,
          4.5,
          4.2,
          3.9,
          3.9,
          4,
          4,
          3.5,
          4.3,
          3.8,
          4.4,
          3.7,
          4.4,
          4.4,
          4.4,
          4.2,
          4.5,
          3.8,
          4.1,
          4.1,
          4.4,
          3.8,
          4.2,
          4.1,
          4.4,
          4.1,
          3.5,
          3.6,
          4.3,
          3.8,
          4,
          3.9,
          4.1,
          4.3,
          4.4,
          4.3,
          4.3,
          4.1,
          4.4,
          4.4,
          3.8,
          3.8,
          4,
          4.4,
          4.5,
          4,
          4,
          4.3,
          4.2,
          3.8,
          4.3,
          4.1,
          4.3,
          4,
          4.3,
          4.2,
          4,
          4.4,
          4.4,
          4.5,
          4.1,
          4.5,
          4.2,
          4.3,
          3.9,
          4.5,
          4.1,
          4.2,
          3.8,
          4.3,
          3.9,
          4.3,
          4.3,
          3.9,
          3.7,
          4.2,
          4.2,
          3.9,
          4.3,
          3.7,
          4.3,
          4.3,
          3.9,
          4.4,
          4,
          4.5,
          3.9,
          4.3,
          4.2,
          4.1,
          4.2,
          4.5,
          4.2,
          4.3,
          4,
          4.5,
          3.8,
          3.9,
          4,
          4.1,
          3.4,
          4,
          3.4,
          4.3,
          3.9,
          4.1,
          4.3,
          4.5,
          4.2,
          4.1,
          4.4,
          4.3,
          4.3,
          4.3,
          4.2,
          4.1,
          4.5,
          4.4,
          4.3,
          4.3,
          4.3,
          4,
          4.3,
          4,
          4.4,
          4,
          4.3,
          3.3,
          3.7,
          4.1,
          5,
          4.5,
          3.9,
          4.4,
          4.1,
          3.6,
          3.8,
          3.6,
          4.2,
          4.4,
          3.8,
          4.2,
          4.3,
          4.4,
          4.1,
          4.4,
          4.4,
          4.4,
          4.4,
          4.3,
          4.3,
          4.3,
          4.2,
          4.3,
          4.2,
          3.8,
          4.3,
          4.5,
          4.1,
          4.2,
          4,
          4.1,
          4.1,
          4.3,
          4.5,
          4.5,
          4.1,
          4.3,
          3.6,
          4.4,
          4.5,
          3.9,
          4,
          4,
          4.4,
          4.6,
          4.4,
          4.4,
          4.3,
          4.3,
          4.4,
          4,
          4.2,
          3.8,
          4.1,
          4.2,
          4.2,
          4.4,
          4.3,
          4.1,
          4.4,
          3.9,
          3.9,
          3.6,
          4.4,
          4,
          3.5,
          4.1,
          4.1,
          4,
          4.1,
          4,
          3.8,
          4.3,
          4.2,
          4.1,
          4.2,
          4.6,
          4.3,
          4,
          4.2,
          3.3,
          4.3,
          3.7,
          3.9,
          4.3,
          4.1,
          4.2,
          4,
          4.5,
          3.5,
          4.5,
          4.3,
          3.3,
          4.1,
          3.8,
          3.5,
          4.1,
          4.5,
          4.4,
          4.1,
          4.3,
          3.6,
          4,
          4.1,
          4.5,
          4.2,
          4.3,
          4.2,
          4.6,
          4.5,
          4.3,
          4.1,
          4.5,
          3.5,
          4.4,
          4.2,
          4.4,
          4.4,
          4.2,
          4.5,
          4.3,
          3.8,
          3.9,
          4,
          4.1,
          4.4,
          4.4,
          4.4,
          3.5,
          4.5,
          4.1,
          4.4,
          4.1,
          4.2,
          4.2,
          4.3,
          4.3,
          3.7,
          3.9,
          4.5,
          4.1,
          4,
          3.8,
          3.4,
          4.3,
          4.3,
          4.3,
          4.2,
          4.1,
          4,
          4.3,
          4,
          4.1,
          4,
          3.8,
          4.2,
          4.3,
          4.4,
          4.1,
          4.5,
          4,
          4.2,
          3.9,
          4.3,
          4,
          4.2,
          4.3,
          4.2,
          4.2,
          4.1,
          4.3,
          4.3,
          4.2,
          4.5,
          4.4,
          4.2,
          4.1,
          4.3,
          4.4,
          4.1,
          3.6,
          4,
          4,
          4.4,
          3.9,
          4.3,
          4.6,
          4.4,
          4.5,
          3.9,
          4.1,
          4.3,
          4.5,
          4.5,
          3.6,
          4.1,
          4.3,
          3.8,
          4.6,
          4.1,
          4,
          4.5,
          4.3,
          4,
          4.5,
          4,
          4.5,
          4.1,
          4.3,
          4.1,
          4,
          4.1,
          4.1,
          4.4,
          4,
          4.1,
          4.4,
          4.3,
          4.2,
          3.6,
          4.2,
          4.2,
          3.9,
          4.2,
          4.5,
          4.3,
          4.2,
          4.1,
          4.1,
          4.6,
          3.8,
          4.3,
          4.2,
          4.2,
          4.4,
          3.9,
          4,
          4.2,
          3.7,
          4.5,
          4.5,
          3.6,
          4.3,
          4.1,
          3.6,
          4,
          4.1,
          3.7,
          3.9,
          3.9,
          3.9,
          3.9,
          3.8,
          3.8,
          4.1,
          4.1,
          3.3,
          4.2,
          4,
          4.3,
          4,
          4.5,
          4.1,
          4,
          4.2,
          3.8,
          4.2,
          4.2,
          3.6,
          3.8,
          4.1,
          4.1,
          4.1,
          4.1,
          4.2,
          4,
          4.3,
          4.2,
          4.2,
          3.7,
          4.1,
          4.4,
          3.8,
          4,
          4.2,
          3.8,
          4.2,
          4,
          3.9,
          4.3,
          3.8,
          4,
          4.2,
          4.2,
          3.6,
          4.3,
          4,
          4.2,
          4.1,
          4,
          4.3,
          4,
          3.9,
          4.2,
          4.1,
          4.4,
          4,
          3.8,
          4,
          3.1,
          4.3,
          4.2,
          4.4,
          4.1,
          4.2,
          4.1,
          4.1,
          4.1,
          3.9,
          3.9,
          3.8,
          4,
          4.2,
          4.1,
          4.3,
          3.7,
          4.2,
          4.3,
          4.3,
          4.4,
          3.8,
          4.5,
          3.8,
          3.8,
          4.1,
          4.1,
          3.8,
          3.3,
          4,
          4.6,
          3.9,
          3.7,
          4.2,
          4.1,
          4.1,
          3.8,
          4.1,
          4.6,
          4.1,
          4.2,
          3.9,
          4.1,
          4.1,
          4,
          3.7,
          4.1,
          4.1,
          4.1,
          3.3,
          4.1,
          4.1,
          4.4,
          4.3,
          4.1,
          3.7,
          4.8,
          4.5,
          4,
          4.1,
          3.9,
          4.1,
          4.2,
          4.1,
          3.5,
          4.3,
          3.9,
          4.2,
          3.8,
          4.5,
          3.8,
          4.1,
          4.2,
          4.1,
          4.2,
          4.5,
          4,
          4.4,
          4,
          4,
          3.9,
          4,
          3.8,
          4.2,
          4.3,
          4.2,
          4.3,
          4.2,
          4.4,
          3.8,
          4.1,
          3.9,
          4.3,
          4.4,
          3.6,
          3.8,
          4,
          4.1,
          4.3,
          4,
          3.9,
          4.4,
          3.7,
          3.6,
          3.7,
          4,
          4.2,
          3.8,
          4.2,
          3.9,
          4,
          4.1,
          4.8,
          4.2,
          4.1,
          4,
          3.9,
          4.1,
          4.3,
          4.1,
          4.2,
          3.9,
          3.7,
          4.1,
          4,
          3.8,
          4.2,
          4.6,
          4.1,
          3.3,
          4.2,
          4.3,
          4.3,
          4.3,
          4.7,
          4.4,
          3.9,
          4.7,
          4.1,
          3.8,
          4.4,
          4.3,
          3.4,
          4.2,
          3.7,
          4.3,
          4.3,
          4.4,
          4.1,
          4,
          4.4,
          3.8,
          4.3,
          3.8,
          2.3,
          4.5,
          4,
          3.7,
          4,
          4.4,
          4.1,
          4.4,
          3.1,
          4.3,
          4.4,
          4.4,
          4.1,
          4.1,
          4,
          3.6,
          3.9,
          3.9,
          3.8,
          4.1,
          4.1,
          4.1,
          3.8,
          4.3,
          4.5,
          4.2,
          3.9,
          3.5,
          4.3,
          3.9,
          3.9,
          4,
          4.7,
          4.1,
          3.8,
          4.1,
          4.1,
          3.9,
          3.8,
          4.1,
          4.3,
          3.9,
          2.8,
          4,
          4.5,
          4.6,
          4.1,
          4.1,
          3.4,
          4.6,
          4.2,
          3.9,
          4.2,
          4.2,
          4.1,
          4.8,
          4.4,
          4.3,
          4.3,
          4,
          4.3,
          4,
          4.4,
          4.1,
          3.6,
          2,
          4,
          3.7,
          3.8,
          3.9,
          3.1,
          3,
          4,
          4.4,
          4.1,
          3.6,
          4.4,
          4.2,
          4.3,
          3.8,
          4.1,
          4,
          4.2,
          3.6,
          4.2,
          4.1,
          4.2,
          3.9,
          4,
          4.2,
          4.2,
          4.1,
          4.4,
          4.1,
          4.2,
          4.1,
          3.9,
          3.9,
          4.2,
          4.2,
          3.7,
          3.7,
          3.4,
          4.2,
          4,
          4.1,
          3.9,
          4,
          3.9,
          4.2,
          4.3,
          4,
          2.6,
          3.8,
          4.5,
          3.5,
          3.9,
          4,
          4,
          3.5,
          4,
          3.4,
          4.2,
          3.8,
          4.1,
          4.2,
          4.3,
          4.2,
          4.1,
          3.9,
          3.3,
          4.3,
          3.9,
          4.3,
          3.6,
          3.8,
          3.9,
          4.6,
          3.8,
          3.9,
          4.1,
          3.6,
          4.4,
          4.3,
          4.7,
          4.3,
          3.9,
          3.9,
          3.7,
          3.5,
          4,
          4.1,
          3.9,
          4.4,
          4.3,
          4.5,
          4,
          3.9,
          4.2,
          4.1,
          3.7,
          4.1,
          4.2,
          4.3,
          3.6,
          4.1,
          4.5,
          4.2,
          4.3,
          4,
          4.2,
          4.2,
          4.5,
          3.8,
          4.4,
          4.1,
          4.2,
          4.3,
          4.1,
          4.2,
          4.1,
          3.9,
          3.9,
          3.8,
          4.6,
          3.6,
          4.1,
          4.2,
          4.3,
          3.9,
          3.9,
          4,
          4.4,
          4.2,
          4.5,
          4.1,
          4.1,
          4.2,
          4.2,
          4,
          4.3,
          3.6,
          3.5,
          4.3,
          3.6,
          2.9,
          4.2,
          4.4,
          4.1,
          3.8,
          3.5,
          4.1,
          3.2,
          4.4,
          3.6,
          3.1,
          4,
          4.1,
          3.6,
          4,
          4.3
         ],
         "y": [
          64,
          43,
          90,
          53,
          61,
          85,
          65,
          23,
          33,
          55,
          63,
          61,
          60,
          13,
          44,
          38,
          60,
          39,
          46,
          44,
          41,
          70,
          42,
          72,
          25,
          25,
          51,
          70,
          73,
          64,
          65,
          0,
          80,
          85,
          53,
          80,
          28,
          51,
          43,
          64,
          38,
          70,
          67,
          58,
          60,
          50,
          45,
          64,
          62,
          46,
          43,
          54,
          27,
          77,
          56,
          78,
          31,
          86,
          61,
          44,
          62,
          47,
          47,
          69,
          61,
          42,
          37,
          77,
          60,
          60,
          55,
          65,
          58,
          64,
          64,
          44,
          62,
          63,
          75,
          25,
          32,
          41,
          80,
          68,
          66,
          22,
          57,
          80,
          54,
          17,
          69,
          65,
          42,
          52,
          77,
          53,
          67,
          27,
          65,
          60,
          65,
          70,
          42,
          88,
          63,
          73,
          33,
          60,
          80,
          47,
          35,
          65,
          85,
          75,
          20,
          63,
          47,
          53,
          27,
          53,
          62,
          64,
          42,
          59,
          31,
          60,
          73,
          40,
          54,
          38,
          73,
          58,
          0,
          50,
          64,
          43,
          40,
          23,
          61,
          52,
          44,
          31,
          47,
          54,
          69,
          26,
          62,
          38,
          50,
          25,
          41,
          58,
          56,
          32,
          66,
          70,
          63,
          29,
          75,
          69,
          83,
          46,
          38,
          44,
          31,
          63,
          67,
          80,
          60,
          71,
          64,
          71,
          60,
          59,
          57,
          15,
          53,
          58,
          38,
          53,
          66,
          53,
          76,
          48,
          32,
          75,
          47,
          75,
          48,
          31,
          41,
          55,
          82,
          63,
          66,
          65,
          22,
          25,
          63,
          42,
          75,
          66,
          35,
          61,
          63,
          60,
          70,
          59,
          28,
          83,
          65,
          43,
          68,
          67,
          50,
          50,
          46,
          57,
          58,
          88,
          54,
          73,
          55,
          36,
          42,
          75,
          77,
          29,
          56,
          59,
          68,
          50,
          55,
          66,
          60,
          50,
          83,
          63,
          89,
          45,
          87,
          44,
          56,
          44,
          63,
          70,
          76,
          35,
          42,
          70,
          63,
          61,
          57,
          70,
          35,
          60,
          0,
          24,
          80,
          59,
          36,
          43,
          28,
          65,
          52,
          53,
          60,
          60,
          34,
          60,
          27,
          50,
          37,
          38,
          40,
          57,
          88,
          46,
          75,
          50,
          59,
          48,
          59,
          40,
          70,
          61,
          41,
          50,
          50,
          59,
          52,
          71,
          62,
          63,
          78,
          80,
          45,
          37,
          15,
          45,
          66,
          35,
          63,
          23,
          78,
          61,
          59,
          63,
          38,
          54,
          60,
          50,
          0,
          57,
          52,
          11,
          51,
          46,
          65,
          61,
          48,
          20,
          33,
          63,
          91,
          80,
          75,
          28,
          0,
          0,
          28,
          28,
          43,
          62,
          79,
          21,
          76,
          25,
          73,
          47,
          21,
          40,
          65,
          28,
          60,
          81,
          29,
          47,
          28,
          91,
          78,
          32,
          21,
          91,
          64,
          91,
          25,
          72,
          76,
          50,
          43,
          18,
          80,
          91,
          25,
          49,
          19,
          66,
          80,
          26,
          20,
          37,
          43,
          50,
          75,
          53,
          61,
          17,
          71,
          80,
          65,
          28,
          30,
          60,
          85,
          80,
          70,
          0,
          90,
          84,
          27,
          10,
          32,
          60,
          38,
          67,
          28,
          65,
          27,
          62,
          75,
          23,
          33,
          35,
          28,
          60,
          28,
          55,
          22,
          62,
          42,
          76,
          77,
          26,
          18,
          21,
          81,
          6,
          30,
          63,
          38,
          28,
          26,
          66,
          68,
          30,
          50,
          22,
          18,
          61,
          14,
          60,
          79,
          75,
          66,
          65,
          52,
          62,
          78,
          13,
          21,
          0,
          46,
          66,
          22,
          38,
          75,
          60,
          70,
          81,
          82,
          33,
          70,
          65,
          28,
          65,
          17,
          78,
          81,
          44,
          44,
          85,
          26,
          13,
          60,
          77,
          40,
          82,
          74,
          79,
          30,
          4,
          19,
          29,
          32,
          50,
          70,
          51,
          67,
          78,
          43,
          80,
          32,
          70,
          19,
          76,
          29,
          85,
          58,
          14,
          85,
          53,
          58,
          75,
          84,
          13,
          5,
          80,
          69,
          66,
          74,
          70,
          58,
          35,
          46,
          19,
          10,
          13,
          57,
          53,
          73,
          80,
          0,
          62,
          28,
          90,
          27,
          25,
          86,
          33,
          75,
          50,
          74,
          74,
          54,
          88,
          43,
          32,
          38,
          42,
          90,
          21,
          81,
          16,
          75,
          69,
          74,
          77,
          60,
          73,
          49,
          60,
          55,
          55,
          29,
          50,
          78,
          56,
          57,
          17,
          82,
          75,
          79,
          28,
          72,
          63,
          80,
          77,
          33,
          8,
          62,
          43,
          60,
          77,
          63,
          79,
          50,
          90,
          73,
          68,
          59,
          50,
          60,
          81,
          67,
          69,
          78,
          54,
          60,
          64,
          16,
          0,
          21,
          65,
          76,
          69,
          44,
          43,
          80,
          50,
          18,
          75,
          33,
          53,
          30,
          80,
          75,
          61,
          62,
          71,
          80,
          0,
          66,
          60,
          85,
          6,
          90,
          87,
          64,
          76,
          56,
          83,
          17,
          27,
          15,
          87,
          67,
          78,
          28,
          65,
          5,
          60,
          43,
          66,
          50,
          64,
          80,
          18,
          23,
          54,
          52,
          54,
          60,
          55,
          10,
          56,
          60,
          62,
          43,
          24,
          57,
          50,
          55,
          38,
          2,
          77,
          33,
          20,
          61,
          47,
          33,
          60,
          57,
          68,
          94,
          4,
          6,
          38,
          13,
          46,
          75,
          0,
          70,
          60,
          63,
          15,
          47,
          54,
          0,
          43,
          45,
          65,
          39,
          36,
          50,
          40,
          24,
          80,
          20,
          44,
          41,
          26,
          50,
          14,
          70,
          40,
          55,
          33,
          72,
          73,
          58,
          30,
          81,
          25,
          83,
          0,
          65,
          85,
          63,
          71,
          64,
          70,
          43,
          25,
          53,
          75,
          12,
          54,
          43,
          55,
          55,
          45,
          36,
          0,
          80,
          28,
          20,
          14,
          19,
          56,
          20,
          74,
          60,
          25,
          66,
          39,
          70,
          60,
          80,
          80,
          50,
          49,
          20,
          31,
          66,
          85,
          85,
          73,
          10,
          51,
          57,
          77,
          76,
          44,
          51,
          22,
          51,
          70,
          24,
          23,
          38,
          55,
          50,
          77,
          40,
          32,
          44,
          73,
          70,
          64,
          57,
          60,
          62,
          0,
          50,
          41,
          11,
          30,
          67,
          50,
          28,
          38,
          59,
          64,
          22,
          46,
          55,
          21,
          65,
          38,
          49,
          0,
          75,
          35,
          64,
          41,
          65,
          42,
          0,
          22,
          21,
          80,
          0,
          60,
          53,
          80,
          85,
          69,
          38,
          43,
          18,
          62,
          25,
          63,
          5,
          0,
          51,
          35,
          0,
          40,
          79,
          67,
          15,
          54,
          62,
          60,
          58,
          80,
          75,
          50,
          82,
          2,
          38,
          88,
          65,
          57,
          8,
          50,
          70,
          30,
          66,
          10,
          43,
          40,
          58,
          53,
          63,
          78,
          50,
          21,
          0,
          0,
          23,
          62,
          76,
          57,
          0,
          45,
          10,
          66,
          25,
          62,
          25,
          65,
          64,
          38,
          42,
          13,
          55,
          35,
          24,
          43,
          18,
          58,
          60,
          69,
          42,
          25,
          34,
          74,
          23,
          53,
          15,
          90,
          10,
          47,
          55,
          0,
          77,
          60,
          56,
          56,
          53,
          16,
          76,
          78,
          75,
          36,
          68,
          50,
          40,
          86,
          56,
          36,
          73,
          58,
          61,
          66,
          25,
          80,
          75,
          53,
          46,
          0,
          50,
          0,
          44,
          76,
          24,
          38,
          42,
          16,
          42,
          48,
          59,
          88,
          34,
          31,
          0,
          17,
          17,
          62,
          34,
          14,
          0,
          51,
          69,
          69,
          0,
          29,
          25,
          80,
          61,
          50,
          79,
          58,
          77,
          0,
          60,
          14,
          48,
          73,
          62,
          60,
          47,
          55,
          10,
          55,
          36,
          50,
          0,
          56,
          70,
          58,
          27,
          0,
          57,
          0,
          0,
          75,
          55,
          13,
          46,
          75,
          65,
          5,
          64,
          38,
          66,
          60,
          63,
          80,
          66,
          70,
          50,
          29,
          40,
          54,
          90,
          41,
          40,
          10,
          48,
          47,
          22,
          50,
          11,
          50,
          55,
          48,
          42,
          53,
          46,
          56,
          40,
          58,
          63,
          24,
          38,
          45,
          50,
          80,
          25,
          56,
          41,
          55,
          65,
          8,
          44,
          55,
          48,
          61,
          12,
          37,
          21,
          39,
          50,
          26,
          34,
          40,
          62,
          54,
          42,
          0,
          50,
          55,
          14,
          45,
          11,
          59,
          24,
          60,
          46,
          39,
          33,
          40,
          27,
          37,
          48,
          65,
          38,
          47,
          48,
          34,
          60,
          0,
          44,
          61,
          34,
          26,
          28,
          50,
          51,
          20,
          36,
          47,
          14,
          16,
          71,
          42,
          24,
          23,
          0,
          35,
          26,
          14,
          11,
          54,
          51,
          18,
          57,
          16,
          71,
          39,
          40,
          33,
          35,
          41,
          46,
          0,
          0,
          48,
          62,
          47,
          36,
          45,
          20,
          48,
          29,
          60,
          26,
          33,
          10,
          55,
          59,
          31,
          28,
          20,
          62,
          48,
          38,
          41,
          52,
          18,
          78,
          31,
          48,
          48,
          42,
          51,
          45,
          55,
          0,
          47,
          43,
          52,
          0,
          51,
          32,
          47,
          39,
          49,
          49,
          40,
          23,
          0,
          31,
          60,
          40,
          20,
          47,
          79,
          0,
          76,
          11,
          35,
          49,
          60,
          42,
          55,
          26,
          24,
          41,
          36,
          49,
          74,
          58,
          29,
          37,
          38,
          60,
          64,
          44,
          58,
          35,
          53,
          29,
          15,
          12,
          37,
          43,
          49,
          77,
          53,
          11,
          46,
          61,
          50,
          27,
          49,
          29,
          41,
          28,
          0,
          56,
          39,
          46,
          62,
          20,
          50,
          43,
          66,
          62,
          39,
          70,
          38,
          41,
          28,
          4,
          13,
          20,
          47,
          19,
          34,
          55,
          22,
          49,
          68,
          53,
          27,
          38,
          31,
          52,
          12,
          39,
          39,
          33,
          7,
          55,
          58,
          51,
          17,
          50,
          55,
          41,
          15,
          6,
          17,
          73,
          0,
          61,
          54,
          16,
          52,
          40,
          37,
          56,
          18,
          55,
          41,
          14,
          37,
          46,
          57,
          55,
          63,
          77,
          24,
          26,
          80,
          50,
          38,
          44,
          67,
          22,
          45,
          40,
          25,
          52,
          75,
          44,
          48,
          3,
          21,
          0,
          48,
          53,
          3,
          52,
          48,
          28,
          58,
          43,
          49,
          77,
          57,
          50,
          73,
          45,
          40,
          58,
          33,
          28,
          45,
          68,
          35,
          40,
          62,
          25,
          27,
          62,
          41,
          53,
          21,
          33,
          55,
          47,
          18,
          37,
          37,
          51,
          28,
          9,
          30,
          58,
          14,
          53,
          50,
          38,
          60,
          43,
          41,
          43,
          49,
          43,
          0,
          46,
          54,
          8,
          45,
          43,
          29,
          55,
          64,
          51,
          76,
          39,
          34,
          41,
          54,
          50,
          29,
          38,
          69,
          22,
          60,
          86,
          31,
          71,
          53,
          8,
          28,
          45,
          44,
          33,
          35,
          4,
          31,
          57,
          62,
          17,
          29,
          50,
          53,
          45,
          57,
          62,
          25,
          45,
          27,
          26,
          48,
          33,
          54,
          30,
          46,
          37,
          43,
          78,
          50,
          24,
          3,
          33,
          49,
          27,
          40,
          80,
          51,
          33,
          35,
          59,
          55,
          59,
          59,
          11,
          38,
          59,
          60,
          24,
          31,
          37,
          15,
          48,
          46,
          50,
          12,
          33,
          44,
          38,
          40,
          50,
          18,
          28,
          17,
          49,
          38,
          39,
          43,
          43,
          72,
          55,
          32,
          57,
          29,
          50,
          30,
          59,
          0,
          59,
          80,
          59,
          25,
          28,
          26,
          22
         ]
        }
       ],
       "layout": {
        "template": {
         "data": {
          "bar": [
           {
            "error_x": {
             "color": "#2a3f5f"
            },
            "error_y": {
             "color": "#2a3f5f"
            },
            "marker": {
             "line": {
              "color": "#E5ECF6",
              "width": 0.5
             },
             "pattern": {
              "fillmode": "overlay",
              "size": 10,
              "solidity": 0.2
             }
            },
            "type": "bar"
           }
          ],
          "barpolar": [
           {
            "marker": {
             "line": {
              "color": "#E5ECF6",
              "width": 0.5
             },
             "pattern": {
              "fillmode": "overlay",
              "size": 10,
              "solidity": 0.2
             }
            },
            "type": "barpolar"
           }
          ],
          "carpet": [
           {
            "aaxis": {
             "endlinecolor": "#2a3f5f",
             "gridcolor": "white",
             "linecolor": "white",
             "minorgridcolor": "white",
             "startlinecolor": "#2a3f5f"
            },
            "baxis": {
             "endlinecolor": "#2a3f5f",
             "gridcolor": "white",
             "linecolor": "white",
             "minorgridcolor": "white",
             "startlinecolor": "#2a3f5f"
            },
            "type": "carpet"
           }
          ],
          "choropleth": [
           {
            "colorbar": {
             "outlinewidth": 0,
             "ticks": ""
            },
            "type": "choropleth"
           }
          ],
          "contour": [
           {
            "colorbar": {
             "outlinewidth": 0,
             "ticks": ""
            },
            "colorscale": [
             [
              0,
              "#0d0887"
             ],
             [
              0.1111111111111111,
              "#46039f"
             ],
             [
              0.2222222222222222,
              "#7201a8"
             ],
             [
              0.3333333333333333,
              "#9c179e"
             ],
             [
              0.4444444444444444,
              "#bd3786"
             ],
             [
              0.5555555555555556,
              "#d8576b"
             ],
             [
              0.6666666666666666,
              "#ed7953"
             ],
             [
              0.7777777777777778,
              "#fb9f3a"
             ],
             [
              0.8888888888888888,
              "#fdca26"
             ],
             [
              1,
              "#f0f921"
             ]
            ],
            "type": "contour"
           }
          ],
          "contourcarpet": [
           {
            "colorbar": {
             "outlinewidth": 0,
             "ticks": ""
            },
            "type": "contourcarpet"
           }
          ],
          "heatmap": [
           {
            "colorbar": {
             "outlinewidth": 0,
             "ticks": ""
            },
            "colorscale": [
             [
              0,
              "#0d0887"
             ],
             [
              0.1111111111111111,
              "#46039f"
             ],
             [
              0.2222222222222222,
              "#7201a8"
             ],
             [
              0.3333333333333333,
              "#9c179e"
             ],
             [
              0.4444444444444444,
              "#bd3786"
             ],
             [
              0.5555555555555556,
              "#d8576b"
             ],
             [
              0.6666666666666666,
              "#ed7953"
             ],
             [
              0.7777777777777778,
              "#fb9f3a"
             ],
             [
              0.8888888888888888,
              "#fdca26"
             ],
             [
              1,
              "#f0f921"
             ]
            ],
            "type": "heatmap"
           }
          ],
          "heatmapgl": [
           {
            "colorbar": {
             "outlinewidth": 0,
             "ticks": ""
            },
            "colorscale": [
             [
              0,
              "#0d0887"
             ],
             [
              0.1111111111111111,
              "#46039f"
             ],
             [
              0.2222222222222222,
              "#7201a8"
             ],
             [
              0.3333333333333333,
              "#9c179e"
             ],
             [
              0.4444444444444444,
              "#bd3786"
             ],
             [
              0.5555555555555556,
              "#d8576b"
             ],
             [
              0.6666666666666666,
              "#ed7953"
             ],
             [
              0.7777777777777778,
              "#fb9f3a"
             ],
             [
              0.8888888888888888,
              "#fdca26"
             ],
             [
              1,
              "#f0f921"
             ]
            ],
            "type": "heatmapgl"
           }
          ],
          "histogram": [
           {
            "marker": {
             "pattern": {
              "fillmode": "overlay",
              "size": 10,
              "solidity": 0.2
             }
            },
            "type": "histogram"
           }
          ],
          "histogram2d": [
           {
            "colorbar": {
             "outlinewidth": 0,
             "ticks": ""
            },
            "colorscale": [
             [
              0,
              "#0d0887"
             ],
             [
              0.1111111111111111,
              "#46039f"
             ],
             [
              0.2222222222222222,
              "#7201a8"
             ],
             [
              0.3333333333333333,
              "#9c179e"
             ],
             [
              0.4444444444444444,
              "#bd3786"
             ],
             [
              0.5555555555555556,
              "#d8576b"
             ],
             [
              0.6666666666666666,
              "#ed7953"
             ],
             [
              0.7777777777777778,
              "#fb9f3a"
             ],
             [
              0.8888888888888888,
              "#fdca26"
             ],
             [
              1,
              "#f0f921"
             ]
            ],
            "type": "histogram2d"
           }
          ],
          "histogram2dcontour": [
           {
            "colorbar": {
             "outlinewidth": 0,
             "ticks": ""
            },
            "colorscale": [
             [
              0,
              "#0d0887"
             ],
             [
              0.1111111111111111,
              "#46039f"
             ],
             [
              0.2222222222222222,
              "#7201a8"
             ],
             [
              0.3333333333333333,
              "#9c179e"
             ],
             [
              0.4444444444444444,
              "#bd3786"
             ],
             [
              0.5555555555555556,
              "#d8576b"
             ],
             [
              0.6666666666666666,
              "#ed7953"
             ],
             [
              0.7777777777777778,
              "#fb9f3a"
             ],
             [
              0.8888888888888888,
              "#fdca26"
             ],
             [
              1,
              "#f0f921"
             ]
            ],
            "type": "histogram2dcontour"
           }
          ],
          "mesh3d": [
           {
            "colorbar": {
             "outlinewidth": 0,
             "ticks": ""
            },
            "type": "mesh3d"
           }
          ],
          "parcoords": [
           {
            "line": {
             "colorbar": {
              "outlinewidth": 0,
              "ticks": ""
             }
            },
            "type": "parcoords"
           }
          ],
          "pie": [
           {
            "automargin": true,
            "type": "pie"
           }
          ],
          "scatter": [
           {
            "fillpattern": {
             "fillmode": "overlay",
             "size": 10,
             "solidity": 0.2
            },
            "type": "scatter"
           }
          ],
          "scatter3d": [
           {
            "line": {
             "colorbar": {
              "outlinewidth": 0,
              "ticks": ""
             }
            },
            "marker": {
             "colorbar": {
              "outlinewidth": 0,
              "ticks": ""
             }
            },
            "type": "scatter3d"
           }
          ],
          "scattercarpet": [
           {
            "marker": {
             "colorbar": {
              "outlinewidth": 0,
              "ticks": ""
             }
            },
            "type": "scattercarpet"
           }
          ],
          "scattergeo": [
           {
            "marker": {
             "colorbar": {
              "outlinewidth": 0,
              "ticks": ""
             }
            },
            "type": "scattergeo"
           }
          ],
          "scattergl": [
           {
            "marker": {
             "colorbar": {
              "outlinewidth": 0,
              "ticks": ""
             }
            },
            "type": "scattergl"
           }
          ],
          "scattermapbox": [
           {
            "marker": {
             "colorbar": {
              "outlinewidth": 0,
              "ticks": ""
             }
            },
            "type": "scattermapbox"
           }
          ],
          "scatterpolar": [
           {
            "marker": {
             "colorbar": {
              "outlinewidth": 0,
              "ticks": ""
             }
            },
            "type": "scatterpolar"
           }
          ],
          "scatterpolargl": [
           {
            "marker": {
             "colorbar": {
              "outlinewidth": 0,
              "ticks": ""
             }
            },
            "type": "scatterpolargl"
           }
          ],
          "scatterternary": [
           {
            "marker": {
             "colorbar": {
              "outlinewidth": 0,
              "ticks": ""
             }
            },
            "type": "scatterternary"
           }
          ],
          "surface": [
           {
            "colorbar": {
             "outlinewidth": 0,
             "ticks": ""
            },
            "colorscale": [
             [
              0,
              "#0d0887"
             ],
             [
              0.1111111111111111,
              "#46039f"
             ],
             [
              0.2222222222222222,
              "#7201a8"
             ],
             [
              0.3333333333333333,
              "#9c179e"
             ],
             [
              0.4444444444444444,
              "#bd3786"
             ],
             [
              0.5555555555555556,
              "#d8576b"
             ],
             [
              0.6666666666666666,
              "#ed7953"
             ],
             [
              0.7777777777777778,
              "#fb9f3a"
             ],
             [
              0.8888888888888888,
              "#fdca26"
             ],
             [
              1,
              "#f0f921"
             ]
            ],
            "type": "surface"
           }
          ],
          "table": [
           {
            "cells": {
             "fill": {
              "color": "#EBF0F8"
             },
             "line": {
              "color": "white"
             }
            },
            "header": {
             "fill": {
              "color": "#C8D4E3"
             },
             "line": {
              "color": "white"
             }
            },
            "type": "table"
           }
          ]
         },
         "layout": {
          "annotationdefaults": {
           "arrowcolor": "#2a3f5f",
           "arrowhead": 0,
           "arrowwidth": 1
          },
          "autotypenumbers": "strict",
          "coloraxis": {
           "colorbar": {
            "outlinewidth": 0,
            "ticks": ""
           }
          },
          "colorscale": {
           "diverging": [
            [
             0,
             "#8e0152"
            ],
            [
             0.1,
             "#c51b7d"
            ],
            [
             0.2,
             "#de77ae"
            ],
            [
             0.3,
             "#f1b6da"
            ],
            [
             0.4,
             "#fde0ef"
            ],
            [
             0.5,
             "#f7f7f7"
            ],
            [
             0.6,
             "#e6f5d0"
            ],
            [
             0.7,
             "#b8e186"
            ],
            [
             0.8,
             "#7fbc41"
            ],
            [
             0.9,
             "#4d9221"
            ],
            [
             1,
             "#276419"
            ]
           ],
           "sequential": [
            [
             0,
             "#0d0887"
            ],
            [
             0.1111111111111111,
             "#46039f"
            ],
            [
             0.2222222222222222,
             "#7201a8"
            ],
            [
             0.3333333333333333,
             "#9c179e"
            ],
            [
             0.4444444444444444,
             "#bd3786"
            ],
            [
             0.5555555555555556,
             "#d8576b"
            ],
            [
             0.6666666666666666,
             "#ed7953"
            ],
            [
             0.7777777777777778,
             "#fb9f3a"
            ],
            [
             0.8888888888888888,
             "#fdca26"
            ],
            [
             1,
             "#f0f921"
            ]
           ],
           "sequentialminus": [
            [
             0,
             "#0d0887"
            ],
            [
             0.1111111111111111,
             "#46039f"
            ],
            [
             0.2222222222222222,
             "#7201a8"
            ],
            [
             0.3333333333333333,
             "#9c179e"
            ],
            [
             0.4444444444444444,
             "#bd3786"
            ],
            [
             0.5555555555555556,
             "#d8576b"
            ],
            [
             0.6666666666666666,
             "#ed7953"
            ],
            [
             0.7777777777777778,
             "#fb9f3a"
            ],
            [
             0.8888888888888888,
             "#fdca26"
            ],
            [
             1,
             "#f0f921"
            ]
           ]
          },
          "colorway": [
           "#636efa",
           "#EF553B",
           "#00cc96",
           "#ab63fa",
           "#FFA15A",
           "#19d3f3",
           "#FF6692",
           "#B6E880",
           "#FF97FF",
           "#FECB52"
          ],
          "font": {
           "color": "#2a3f5f"
          },
          "geo": {
           "bgcolor": "white",
           "lakecolor": "white",
           "landcolor": "#E5ECF6",
           "showlakes": true,
           "showland": true,
           "subunitcolor": "white"
          },
          "hoverlabel": {
           "align": "left"
          },
          "hovermode": "closest",
          "mapbox": {
           "style": "light"
          },
          "paper_bgcolor": "white",
          "plot_bgcolor": "#E5ECF6",
          "polar": {
           "angularaxis": {
            "gridcolor": "white",
            "linecolor": "white",
            "ticks": ""
           },
           "bgcolor": "#E5ECF6",
           "radialaxis": {
            "gridcolor": "white",
            "linecolor": "white",
            "ticks": ""
           }
          },
          "scene": {
           "xaxis": {
            "backgroundcolor": "#E5ECF6",
            "gridcolor": "white",
            "gridwidth": 2,
            "linecolor": "white",
            "showbackground": true,
            "ticks": "",
            "zerolinecolor": "white"
           },
           "yaxis": {
            "backgroundcolor": "#E5ECF6",
            "gridcolor": "white",
            "gridwidth": 2,
            "linecolor": "white",
            "showbackground": true,
            "ticks": "",
            "zerolinecolor": "white"
           },
           "zaxis": {
            "backgroundcolor": "#E5ECF6",
            "gridcolor": "white",
            "gridwidth": 2,
            "linecolor": "white",
            "showbackground": true,
            "ticks": "",
            "zerolinecolor": "white"
           }
          },
          "shapedefaults": {
           "line": {
            "color": "#2a3f5f"
           }
          },
          "ternary": {
           "aaxis": {
            "gridcolor": "white",
            "linecolor": "white",
            "ticks": ""
           },
           "baxis": {
            "gridcolor": "white",
            "linecolor": "white",
            "ticks": ""
           },
           "bgcolor": "#E5ECF6",
           "caxis": {
            "gridcolor": "white",
            "linecolor": "white",
            "ticks": ""
           }
          },
          "title": {
           "x": 0.05
          },
          "xaxis": {
           "automargin": true,
           "gridcolor": "white",
           "linecolor": "white",
           "ticks": "",
           "title": {
            "standoff": 15
           },
           "zerolinecolor": "white",
           "zerolinewidth": 2
          },
          "yaxis": {
           "automargin": true,
           "gridcolor": "white",
           "linecolor": "white",
           "ticks": "",
           "title": {
            "standoff": 15
           },
           "zerolinecolor": "white",
           "zerolinewidth": 2
          }
         }
        },
        "title": {
         "text": "Avaliação x Porcentagem de Desconto"
        },
        "xaxis": {
         "title": {
          "text": "Avaliação"
         }
        },
        "yaxis": {
         "title": {
          "text": "Porcentagem de Desconto"
         }
        }
       }
      }
     },
     "metadata": {},
     "output_type": "display_data"
    }
   ],
   "source": [
    "# Scatter plot of the rating and discount_percentage\n",
    "fig = go.Figure()\n",
    "fig.add_trace(\n",
    "    go.Scatter(x=df[\"rating\"], y=df[\"discount_percentage\"], mode=\"markers\"))\n",
    "fig.update_layout(title=\"Avaliação x Porcentagem de Desconto\",\n",
    "                  xaxis_title=\"Avaliação\",\n",
    "                  yaxis_title=\"Porcentagem de Desconto\")\n",
    "fig.show()"
   ]
  },
  {
   "cell_type": "code",
   "execution_count": 598,
   "metadata": {},
   "outputs": [
    {
     "data": {
      "application/vnd.plotly.v1+json": {
       "config": {
        "plotlyServerURL": "https://plot.ly"
       },
       "data": [
        {
         "mode": "markers",
         "type": "scatter",
         "x": [
          4.2,
          4,
          3.9,
          4.2,
          4.2,
          3.9,
          4.1,
          4.3,
          4,
          4.3,
          4.2,
          4.2,
          4.1,
          4.4,
          4.2,
          4,
          4.1,
          4.3,
          4.5,
          3.7,
          4.3,
          4,
          4.3,
          4.2,
          4.2,
          4,
          4.4,
          4.3,
          4.5,
          4,
          4.3,
          4.3,
          3.9,
          3.9,
          4.4,
          4,
          4.2,
          4.2,
          4.3,
          4.2,
          4.3,
          4,
          3.3,
          4.1,
          3.6,
          4.2,
          4.4,
          4.2,
          4.3,
          4.2,
          4.1,
          3.7,
          4.2,
          4.2,
          4.3,
          3.7,
          4.3,
          4,
          4.2,
          4.2,
          4.1,
          4.3,
          4.2,
          4.3,
          4.5,
          4.1,
          4.2,
          4,
          4.1,
          4.1,
          4,
          4.1,
          3.9,
          4,
          4.2,
          4,
          3.4,
          4.4,
          4.2,
          4.2,
          4.3,
          4.3,
          4.5,
          4.2,
          3.6,
          4.2,
          4.2,
          4.1,
          4.2,
          3.7,
          3.8,
          3.7,
          4.5,
          4.1,
          4.3,
          4.3,
          4,
          4.2,
          4.2,
          4.3,
          4.2,
          4.3,
          4.3,
          3.9,
          4.1,
          4.3,
          4.3,
          4.1,
          4.5,
          4.1,
          3.6,
          3.5,
          4,
          3.8,
          4.4,
          3.7,
          4.3,
          4.1,
          4.2,
          4.1,
          4.3,
          4.2,
          4.2,
          4.4,
          4.3,
          4.3,
          4,
          3.9,
          4.2,
          4.3,
          3.9,
          4.6,
          3.9,
          4.3,
          4.1,
          4.4,
          3.2,
          4.2,
          3.7,
          4.5,
          4.2,
          4.2,
          4.2,
          4.1,
          4.3,
          4.3,
          4.3,
          3.4,
          4.3,
          4.4,
          3.9,
          4.1,
          3.9,
          4,
          4.3,
          4,
          3.9,
          4.5,
          3.9,
          4.2,
          4,
          4.3,
          4,
          4.4,
          4.3,
          4,
          4.3,
          5,
          3.7,
          4,
          4.1,
          4,
          3.3,
          3.8,
          4.1,
          4.1,
          4.4,
          4.3,
          4.3,
          4.4,
          4.3,
          3.9,
          4.2,
          4.2,
          4.3,
          3.7,
          4.1,
          3.9,
          4,
          4.2,
          4.4,
          4.1,
          4.3,
          3.8,
          4.4,
          4,
          4.4,
          4,
          4.2,
          3.9,
          3.7,
          3.6,
          4,
          3.5,
          4.5,
          4.2,
          3.8,
          3.8,
          4.1,
          4.3,
          4.4,
          3.9,
          4.2,
          3.8,
          4.1,
          4.1,
          4.3,
          3.7,
          4,
          4.2,
          4.1,
          4.3,
          4.4,
          4.3,
          4.3,
          3.5,
          3.9,
          4.5,
          3.4,
          4,
          4,
          4.4,
          4,
          4.3,
          4,
          4.2,
          3.8,
          4.4,
          3.9,
          4.2,
          3.9,
          4.7,
          3.6,
          3.7,
          4.2,
          4,
          3.6,
          4.3,
          4.2,
          4.3,
          4.2,
          4.2,
          4.4,
          4.2,
          4.4,
          3,
          4.5,
          4.3,
          4.2,
          4.4,
          4,
          3.8,
          4.3,
          4.2,
          4.1,
          4,
          4.2,
          3.3,
          4.3,
          3.8,
          4.2,
          3.7,
          4.3,
          3.9,
          4.3,
          3.5,
          3.9,
          4,
          4.3,
          3.8,
          4.3,
          3.3,
          4.5,
          4.1,
          4.2,
          4.1,
          4.4,
          4.2,
          3.9,
          4,
          4.5,
          3.7,
          4.2,
          4.2,
          4.2,
          4.3,
          4.4,
          4.2,
          4.3,
          3.7,
          4.3,
          4.2,
          4.4,
          3.5,
          4.1,
          4.3,
          4.2,
          4,
          3.9,
          3.3,
          3.8,
          4,
          4.3,
          3.9,
          4.2,
          4.1,
          3.9,
          4.2,
          4.3,
          3.8,
          4.3,
          4.4,
          4.3,
          4.3,
          4.2,
          4.3,
          3.8,
          4,
          4.3,
          4.3,
          4,
          4,
          4.4,
          4.1,
          3.9,
          4.2,
          3.9,
          4,
          4,
          4.4,
          4.2,
          4.3,
          3.9,
          4.4,
          4,
          4.2,
          4.1,
          4.4,
          4.1,
          4.2,
          4.2,
          4.1,
          4,
          4.2,
          4.2,
          4.2,
          4,
          4.3,
          4.3,
          4.1,
          4,
          4.1,
          3.9,
          4.2,
          4,
          4.4,
          4.2,
          3.8,
          4.3,
          4.2,
          3.9,
          4.4,
          4,
          4,
          3.8,
          4.2,
          4.2,
          4.4,
          4.2,
          4,
          4.1,
          4.1,
          4.1,
          4.4,
          3.9,
          4.3,
          4,
          4.3,
          4,
          3.6,
          4.1,
          4.2,
          4.1,
          4.1,
          4,
          3.5,
          4.1,
          4.1,
          4.1,
          4.1,
          3.8,
          4.3,
          4,
          4.2,
          4.1,
          4.1,
          4.1,
          4.3,
          3.9,
          4,
          4.5,
          4,
          4,
          4.1,
          4.1,
          3.9,
          4.1,
          4,
          4.1,
          4.2,
          4,
          4.1,
          4.2,
          4.6,
          4,
          4.3,
          4.3,
          4.2,
          4,
          4.2,
          4,
          4.1,
          3.9,
          3.8,
          4.7,
          4.3,
          4.2,
          4.1,
          3.3,
          4.4,
          4,
          4.2,
          4.5,
          4.6,
          4.2,
          4,
          3.7,
          4.1,
          4.2,
          4.2,
          4.5,
          3.8,
          4,
          3.8,
          4.1,
          3.8,
          4.2,
          4.2,
          4.2,
          4,
          3.5,
          4.3,
          4.1,
          3.9,
          3.9,
          3.3,
          4,
          4,
          4,
          3.9,
          4.3,
          4.1,
          4.1,
          4.3,
          4.1,
          4.1,
          4.3,
          4.4,
          4.2,
          3.3,
          4.4,
          4.3,
          4.1,
          4,
          4.1,
          4.3,
          3.8,
          3.9,
          3.7,
          4,
          4.2,
          4.4,
          3.9,
          4.5,
          4.2,
          3.9,
          4.2,
          4.1,
          4.1,
          4.3,
          4.1,
          4.3,
          3.6,
          4.1,
          4,
          4.1,
          4.3,
          3.9,
          4.1,
          4.1,
          4.4,
          3.8,
          4.3,
          4.3,
          3.5,
          4,
          3.9,
          4.3,
          2.8,
          3.8,
          4.5,
          4.3,
          4.1,
          3,
          4,
          3.9,
          4.1,
          4.1,
          4.3,
          4,
          4.4,
          4.3,
          4.2,
          3.8,
          4.3,
          4.3,
          4.3,
          4,
          3.9,
          3.7,
          4.2,
          4.1,
          4,
          4.6,
          3.9,
          4,
          4.3,
          4.4,
          4.1,
          4.1,
          4.1,
          4.4,
          4.5,
          4.1,
          4.2,
          4.5,
          4.3,
          3.8,
          4.4,
          3.8,
          3.5,
          4.4,
          4.1,
          4.3,
          3.5,
          3.9,
          3.9,
          4.1,
          4,
          4.2,
          4.3,
          4.1,
          4,
          4.2,
          3.9,
          4.3,
          4.2,
          4.5,
          4,
          4.2,
          4.5,
          4.3,
          3.9,
          4.1,
          4.3,
          4.2,
          4.2,
          4,
          3.9,
          4.1,
          4.5,
          3.7,
          3.5,
          4.2,
          3.5,
          4.3,
          3.9,
          4.2,
          4.3,
          4.2,
          4,
          4.5,
          4.2,
          3.9,
          3.9,
          4,
          4,
          3.5,
          4.3,
          3.8,
          4.4,
          3.7,
          4.4,
          4.4,
          4.4,
          4.2,
          4.5,
          3.8,
          4.1,
          4.1,
          4.4,
          3.8,
          4.2,
          4.1,
          4.4,
          4.1,
          3.5,
          3.6,
          4.3,
          3.8,
          4,
          3.9,
          4.1,
          4.3,
          4.4,
          4.3,
          4.3,
          4.1,
          4.4,
          4.4,
          3.8,
          3.8,
          4,
          4.4,
          4.5,
          4,
          4,
          4.3,
          4.2,
          3.8,
          4.3,
          4.1,
          4.3,
          4,
          4.3,
          4.2,
          4,
          4.4,
          4.4,
          4.5,
          4.1,
          4.5,
          4.2,
          4.3,
          3.9,
          4.5,
          4.1,
          4.2,
          3.8,
          4.3,
          3.9,
          4.3,
          4.3,
          3.9,
          3.7,
          4.2,
          4.2,
          3.9,
          4.3,
          3.7,
          4.3,
          4.3,
          3.9,
          4.4,
          4,
          4.5,
          3.9,
          4.3,
          4.2,
          4.1,
          4.2,
          4.5,
          4.2,
          4.3,
          4,
          4.5,
          3.8,
          3.9,
          4,
          4.1,
          3.4,
          4,
          3.4,
          4.3,
          3.9,
          4.1,
          4.3,
          4.5,
          4.2,
          4.1,
          4.4,
          4.3,
          4.3,
          4.3,
          4.2,
          4.1,
          4.5,
          4.4,
          4.3,
          4.3,
          4.3,
          4,
          4.3,
          4,
          4.4,
          4,
          4.3,
          3.3,
          3.7,
          4.1,
          5,
          4.5,
          3.9,
          4.4,
          4.1,
          3.6,
          3.8,
          3.6,
          4.2,
          4.4,
          3.8,
          4.2,
          4.3,
          4.4,
          4.1,
          4.4,
          4.4,
          4.4,
          4.4,
          4.3,
          4.3,
          4.3,
          4.2,
          4.3,
          4.2,
          3.8,
          4.3,
          4.5,
          4.1,
          4.2,
          4,
          4.1,
          4.1,
          4.3,
          4.5,
          4.5,
          4.1,
          4.3,
          3.6,
          4.4,
          4.5,
          3.9,
          4,
          4,
          4.4,
          4.6,
          4.4,
          4.4,
          4.3,
          4.3,
          4.4,
          4,
          4.2,
          3.8,
          4.1,
          4.2,
          4.2,
          4.4,
          4.3,
          4.1,
          4.4,
          3.9,
          3.9,
          3.6,
          4.4,
          4,
          3.5,
          4.1,
          4.1,
          4,
          4.1,
          4,
          3.8,
          4.3,
          4.2,
          4.1,
          4.2,
          4.6,
          4.3,
          4,
          4.2,
          3.3,
          4.3,
          3.7,
          3.9,
          4.3,
          4.1,
          4.2,
          4,
          4.5,
          3.5,
          4.5,
          4.3,
          3.3,
          4.1,
          3.8,
          3.5,
          4.1,
          4.5,
          4.4,
          4.1,
          4.3,
          3.6,
          4,
          4.1,
          4.5,
          4.2,
          4.3,
          4.2,
          4.6,
          4.5,
          4.3,
          4.1,
          4.5,
          3.5,
          4.4,
          4.2,
          4.4,
          4.4,
          4.2,
          4.5,
          4.3,
          3.8,
          3.9,
          4,
          4.1,
          4.4,
          4.4,
          4.4,
          3.5,
          4.5,
          4.1,
          4.4,
          4.1,
          4.2,
          4.2,
          4.3,
          4.3,
          3.7,
          3.9,
          4.5,
          4.1,
          4,
          3.8,
          3.4,
          4.3,
          4.3,
          4.3,
          4.2,
          4.1,
          4,
          4.3,
          4,
          4.1,
          4,
          3.8,
          4.2,
          4.3,
          4.4,
          4.1,
          4.5,
          4,
          4.2,
          3.9,
          4.3,
          4,
          4.2,
          4.3,
          4.2,
          4.2,
          4.1,
          4.3,
          4.3,
          4.2,
          4.5,
          4.4,
          4.2,
          4.1,
          4.3,
          4.4,
          4.1,
          3.6,
          4,
          4,
          4.4,
          3.9,
          4.3,
          4.6,
          4.4,
          4.5,
          3.9,
          4.1,
          4.3,
          4.5,
          4.5,
          3.6,
          4.1,
          4.3,
          3.8,
          4.6,
          4.1,
          4,
          4.5,
          4.3,
          4,
          4.5,
          4,
          4.5,
          4.1,
          4.3,
          4.1,
          4,
          4.1,
          4.1,
          4.4,
          4,
          4.1,
          4.4,
          4.3,
          4.2,
          3.6,
          4.2,
          4.2,
          3.9,
          4.2,
          4.5,
          4.3,
          4.2,
          4.1,
          4.1,
          4.6,
          3.8,
          4.3,
          4.2,
          4.2,
          4.4,
          3.9,
          4,
          4.2,
          3.7,
          4.5,
          4.5,
          3.6,
          4.3,
          4.1,
          3.6,
          4,
          4.1,
          3.7,
          3.9,
          3.9,
          3.9,
          3.9,
          3.8,
          3.8,
          4.1,
          4.1,
          3.3,
          4.2,
          4,
          4.3,
          4,
          4.5,
          4.1,
          4,
          4.2,
          3.8,
          4.2,
          4.2,
          3.6,
          3.8,
          4.1,
          4.1,
          4.1,
          4.1,
          4.2,
          4,
          4.3,
          4.2,
          4.2,
          3.7,
          4.1,
          4.4,
          3.8,
          4,
          4.2,
          3.8,
          4.2,
          4,
          3.9,
          4.3,
          3.8,
          4,
          4.2,
          4.2,
          3.6,
          4.3,
          4,
          4.2,
          4.1,
          4,
          4.3,
          4,
          3.9,
          4.2,
          4.1,
          4.4,
          4,
          3.8,
          4,
          3.1,
          4.3,
          4.2,
          4.4,
          4.1,
          4.2,
          4.1,
          4.1,
          4.1,
          3.9,
          3.9,
          3.8,
          4,
          4.2,
          4.1,
          4.3,
          3.7,
          4.2,
          4.3,
          4.3,
          4.4,
          3.8,
          4.5,
          3.8,
          3.8,
          4.1,
          4.1,
          3.8,
          3.3,
          4,
          4.6,
          3.9,
          3.7,
          4.2,
          4.1,
          4.1,
          3.8,
          4.1,
          4.6,
          4.1,
          4.2,
          3.9,
          4.1,
          4.1,
          4,
          3.7,
          4.1,
          4.1,
          4.1,
          3.3,
          4.1,
          4.1,
          4.4,
          4.3,
          4.1,
          3.7,
          4.8,
          4.5,
          4,
          4.1,
          3.9,
          4.1,
          4.2,
          4.1,
          3.5,
          4.3,
          3.9,
          4.2,
          3.8,
          4.5,
          3.8,
          4.1,
          4.2,
          4.1,
          4.2,
          4.5,
          4,
          4.4,
          4,
          4,
          3.9,
          4,
          3.8,
          4.2,
          4.3,
          4.2,
          4.3,
          4.2,
          4.4,
          3.8,
          4.1,
          3.9,
          4.3,
          4.4,
          3.6,
          3.8,
          4,
          4.1,
          4.3,
          4,
          3.9,
          4.4,
          3.7,
          3.6,
          3.7,
          4,
          4.2,
          3.8,
          4.2,
          3.9,
          4,
          4.1,
          4.8,
          4.2,
          4.1,
          4,
          3.9,
          4.1,
          4.3,
          4.1,
          4.2,
          3.9,
          3.7,
          4.1,
          4,
          3.8,
          4.2,
          4.6,
          4.1,
          3.3,
          4.2,
          4.3,
          4.3,
          4.3,
          4.7,
          4.4,
          3.9,
          4.7,
          4.1,
          3.8,
          4.4,
          4.3,
          3.4,
          4.2,
          3.7,
          4.3,
          4.3,
          4.4,
          4.1,
          4,
          4.4,
          3.8,
          4.3,
          3.8,
          2.3,
          4.5,
          4,
          3.7,
          4,
          4.4,
          4.1,
          4.4,
          3.1,
          4.3,
          4.4,
          4.4,
          4.1,
          4.1,
          4,
          3.6,
          3.9,
          3.9,
          3.8,
          4.1,
          4.1,
          4.1,
          3.8,
          4.3,
          4.5,
          4.2,
          3.9,
          3.5,
          4.3,
          3.9,
          3.9,
          4,
          4.7,
          4.1,
          3.8,
          4.1,
          4.1,
          3.9,
          3.8,
          4.1,
          4.3,
          3.9,
          2.8,
          4,
          4.5,
          4.6,
          4.1,
          4.1,
          3.4,
          4.6,
          4.2,
          3.9,
          4.2,
          4.2,
          4.1,
          4.8,
          4.4,
          4.3,
          4.3,
          4,
          4.3,
          4,
          4.4,
          4.1,
          3.6,
          2,
          4,
          3.7,
          3.8,
          3.9,
          3.1,
          3,
          4,
          4.4,
          4.1,
          3.6,
          4.4,
          4.2,
          4.3,
          3.8,
          4.1,
          4,
          4.2,
          3.6,
          4.2,
          4.1,
          4.2,
          3.9,
          4,
          4.2,
          4.2,
          4.1,
          4.4,
          4.1,
          4.2,
          4.1,
          3.9,
          3.9,
          4.2,
          4.2,
          3.7,
          3.7,
          3.4,
          4.2,
          4,
          4.1,
          3.9,
          4,
          3.9,
          4.2,
          4.3,
          4,
          2.6,
          3.8,
          4.5,
          3.5,
          3.9,
          4,
          4,
          3.5,
          4,
          3.4,
          4.2,
          3.8,
          4.1,
          4.2,
          4.3,
          4.2,
          4.1,
          3.9,
          3.3,
          4.3,
          3.9,
          4.3,
          3.6,
          3.8,
          3.9,
          4.6,
          3.8,
          3.9,
          4.1,
          3.6,
          4.4,
          4.3,
          4.7,
          4.3,
          3.9,
          3.9,
          3.7,
          3.5,
          4,
          4.1,
          3.9,
          4.4,
          4.3,
          4.5,
          4,
          3.9,
          4.2,
          4.1,
          3.7,
          4.1,
          4.2,
          4.3,
          3.6,
          4.1,
          4.5,
          4.2,
          4.3,
          4,
          4.2,
          4.2,
          4.5,
          3.8,
          4.4,
          4.1,
          4.2,
          4.3,
          4.1,
          4.2,
          4.1,
          3.9,
          3.9,
          3.8,
          4.6,
          3.6,
          4.1,
          4.2,
          4.3,
          3.9,
          3.9,
          4,
          4.4,
          4.2,
          4.5,
          4.1,
          4.1,
          4.2,
          4.2,
          4,
          4.3,
          3.6,
          3.5,
          4.3,
          3.6,
          2.9,
          4.2,
          4.4,
          4.1,
          3.8,
          3.5,
          4.1,
          3.2,
          4.4,
          3.6,
          3.1,
          4,
          4.1,
          3.6,
          4,
          4.3
         ],
         "y": [
          13.188,
          4.188,
          22.788,
          8.388,
          4.788,
          12,
          5.988,
          3.588,
          3.588,
          4.0680000000000005,
          9.588000000000001,
          10.788,
          4.788,
          4.788,
          299.988,
          4.788,
          5.988,
          263.88,
          21.588,
          5.988,
          274.8,
          2.388,
          239.88,
          8.388,
          239.988,
          4.788,
          23.988,
          11.988,
          9,
          5.988,
          13.188,
          7.188,
          11.988,
          7.9999199999999995,
          22.8,
          11.988,
          551.988,
          23.988,
          419.988,
          13.188,
          19.188,
          2.388,
          11.988,
          14.496,
          11.988,
          4.74,
          26.388,
          6,
          25.2,
          155.988,
          4.188,
          5.988,
          263.988,
          17.988,
          4.188,
          9.588000000000001,
          574.8000000000001,
          11.988,
          10.14,
          299.988,
          8.388,
          179.88,
          35.988,
          8.4,
          10.788,
          7.188,
          515.988,
          5.988,
          11.988,
          5.988,
          4.788,
          371.88,
          5.988,
          47.988,
          13.188,
          2.988,
          229.5,
          9.588000000000001,
          15.588000000000001,
          479.988,
          491.88,
          634.8000000000001,
          11.988,
          23.988,
          9.6,
          383.988,
          8.388,
          11.988,
          491.88,
          4.188,
          9.588000000000001,
          11.988,
          22.788,
          17.988,
          17.988,
          21.708000000000002,
          10.788,
          359.988,
          11.988,
          11.988,
          15.588000000000001,
          11.988,
          780,
          9.6,
          240,
          11.988,
          287.88,
          11.988,
          23.988,
          4.788,
          23.988,
          11.988,
          11.988,
          10.788,
          23.988,
          47.988,
          191.988,
          539.88,
          539.988,
          20.400000000000002,
          7.140000000000001,
          335.88,
          7.188,
          14.4,
          419.88,
          11.988,
          15.588000000000001,
          3.588,
          18,
          599.88,
          11.172,
          28.788,
          4.788,
          8.388,
          13.188,
          35.988,
          13.188,
          155.988,
          5.988,
          25.2,
          10.788,
          7.188,
          8.388,
          780,
          13.188,
          250.8,
          15.588000000000001,
          4.788,
          9.588000000000001,
          23.988,
          191.88,
          17.988,
          10.788,
          19.2,
          11.988,
          5.988,
          4.788,
          10.188,
          14.388,
          15.588000000000001,
          23.988,
          275.88,
          4.788,
          29.988,
          575.88,
          4.788,
          11.988,
          23.988,
          5.988,
          3.588,
          13.188,
          2.388,
          23.988,
          5.988,
          8.388,
          11.988,
          23.988,
          14.4,
          5.82,
          23.988,
          13.188,
          227.88,
          23.988,
          132,
          850.8000000000001,
          14.388,
          7.188,
          6.588,
          2.988,
          431.988,
          20.388,
          5.988,
          35.988,
          8.388,
          8.388,
          11.988,
          7.188,
          7.188,
          383.88,
          7.188,
          11.988,
          7.188,
          119.88,
          7.188,
          9.6,
          23.988,
          11.988,
          203.88,
          719.988,
          11.988,
          7.2,
          17.88,
          23.988,
          10.788,
          9.588000000000001,
          5.988,
          27.588,
          5.988,
          5.988,
          59.988,
          20.988,
          7.140000000000001,
          13.200000000000001,
          599.988,
          681.48,
          14.388,
          6.588,
          10.188,
          10.788,
          13.188,
          9.588000000000001,
          9.540000000000001,
          4.788,
          11.988,
          11.988,
          4.788,
          23.988,
          9.576,
          9.6,
          11.94,
          12,
          1678.8,
          9.588000000000001,
          10.788,
          9.588000000000001,
          7.188,
          4.788,
          1020,
          9.096,
          11.988,
          9.588000000000001,
          23.988,
          8.4,
          13.188,
          23.988,
          23.988,
          56.388,
          299.88,
          11.988,
          7.8,
          37.2,
          47.988,
          599.88,
          11.988,
          17.988,
          227.988,
          27.588,
          11.988,
          838.8000000000001,
          3.588,
          359.988,
          7.188,
          419.88,
          8.040000000000001,
          959.88,
          5.988,
          9.6,
          420,
          11.988,
          191.988,
          19.2,
          29.988,
          18,
          659.88,
          23.988,
          10.788,
          611.988,
          4.788,
          8.388,
          54,
          346.8,
          5.388,
          11.988,
          5.988,
          11.988,
          11.988,
          10.8,
          515.988,
          12.624,
          239.88,
          13.188,
          311.988,
          22.788,
          42,
          7.188,
          11.988,
          7.2,
          9.588000000000001,
          4.788,
          35.988,
          5.988,
          7.188,
          179.988,
          8.388,
          623.88,
          839.988,
          600,
          233.988,
          11.988,
          5.988,
          29.988,
          22.788,
          839.988,
          9.588000000000001,
          239.988,
          119.988,
          95.88,
          107.988,
          347.988,
          347.988,
          107.988,
          107.988,
          12,
          59.988,
          83.88,
          143.988,
          29.988,
          143.988,
          15.588000000000001,
          21.6,
          143.988,
          29.988,
          11.988,
          20.388,
          47.988,
          95.988,
          311.988,
          8.4,
          215.988,
          239.988,
          119.988,
          299.988,
          251.988,
          239.988,
          13.188,
          239.988,
          143.988,
          5.94,
          203.988,
          71.988,
          4.188,
          227.988,
          11.988,
          239.988,
          143.988,
          20.388,
          191.988,
          19.188,
          119.988,
          251.88,
          299.988,
          20.388,
          8.388,
          47.88,
          95.88,
          8.388,
          4.788,
          419.988,
          95.88,
          23.988,
          17.988,
          233.988,
          239.988,
          119.988,
          12,
          5.988,
          191.88,
          407.988,
          11.988,
          22.8,
          179.988,
          467.988,
          299.988,
          5.988,
          19.188,
          21.6,
          29.988,
          5.988,
          179.988,
          95.88,
          95.88,
          3.588,
          3.588,
          11.988,
          233.988,
          3.588,
          215.988,
          4.0680000000000005,
          323.988,
          7.788,
          2.052,
          23.988,
          19.2,
          251.988,
          227.988,
          347.988,
          8.388,
          95.988,
          239.988,
          9.588000000000001,
          19.188,
          215.988,
          251.88,
          34.788000000000004,
          59.988,
          359.88,
          23.988,
          191.88,
          263.88,
          10.788,
          19.56,
          4.788,
          83.88,
          95.88,
          34.788000000000004,
          71.988,
          8.388,
          95.88,
          71.988,
          4.788,
          251.88,
          5.988,
          21.588,
          34.788000000000004,
          161.988,
          4.788,
          11.988,
          5.988,
          119.988,
          17.988,
          17.988,
          161.988,
          2.388,
          11.988,
          233.988,
          11.988,
          7.188,
          119.988,
          5.988,
          2.988,
          95.988,
          7.188,
          251.988,
          191.988,
          59.988,
          71.988,
          11.988,
          13.188,
          83.88,
          83.88,
          359.88,
          161.988,
          251.988,
          335.88,
          227.988,
          71.988,
          11.988,
          23.988,
          11.988,
          71.988,
          42,
          119.988,
          227.988,
          59.988,
          251.988,
          101.988,
          83.988,
          7.9999199999999995,
          71.988,
          19.56,
          119.988,
          22.8,
          7.188,
          14.388,
          5.988,
          191.988,
          11.988,
          5.988,
          95.88,
          23.988,
          22.788,
          11.988,
          5.988,
          155.988,
          47.988,
          251.988,
          599.988,
          35.988,
          77.988,
          35.88,
          28.8,
          47.88,
          1.788,
          25.2,
          63.588,
          22.788,
          395.988,
          479.88,
          23.988,
          143.988,
          11.988,
          7.188,
          22.788,
          41.988,
          41.988,
          11.988,
          83.988,
          227.988,
          31.188000000000002,
          14.388,
          11.988,
          119.988,
          95.988,
          14.988,
          7.188,
          8.4,
          21.588,
          5.988,
          7.188,
          11.988,
          899.988,
          5.988,
          4.788,
          47.988,
          143.988,
          47.988,
          215.988,
          5.988,
          16.788,
          35.988,
          5.988,
          143.988,
          17.988,
          233.988,
          5.988,
          83.988,
          119.988,
          95.88,
          10.74,
          2.844,
          8.388,
          12,
          59.988,
          17.988,
          4.788,
          83.88,
          11.988,
          11.988,
          15.588000000000001,
          18,
          7.788,
          7.188,
          47.988,
          95.988,
          11.988,
          21.588,
          119.988,
          7.8,
          23.94,
          13.188,
          3.7800000000000002,
          0.6,
          1.98,
          15.48,
          203.988,
          15.48,
          29.976,
          4.188,
          11.988,
          71.988,
          59.988,
          23.988,
          5.388,
          8.388,
          11.988,
          47.88,
          65.988,
          4.788,
          16.2,
          95.88,
          23.988,
          15.540000000000001,
          65.988,
          11.94,
          12,
          9.132,
          11.988,
          3.588,
          30,
          59.988,
          15.588000000000001,
          107.988,
          2.16,
          6.588,
          2.7,
          11.988,
          7.188,
          53.988,
          29.988,
          5.988,
          6.6000000000000005,
          23.988,
          14.388,
          41.88,
          59.988,
          59.988,
          5.988,
          4.788,
          3.588,
          3.588,
          29.988,
          27.588,
          3.588,
          4.0680000000000005,
          3,
          17.988,
          33.6,
          95.88,
          3.588,
          4.848,
          16.788,
          7.188,
          11.988,
          15.540000000000001,
          1.92,
          19.2,
          10.788,
          7.188,
          10.788,
          35.88,
          10.788,
          4.788,
          36,
          59.988,
          59.988,
          10.332,
          9.540000000000001,
          29.94,
          4.788,
          21.588,
          9.6,
          6.588,
          119.988,
          359.988,
          41.988,
          3.7800000000000002,
          17.988,
          165,
          0.708,
          11.988,
          11.988,
          71.988,
          263.88,
          8.388,
          35.988,
          5.988,
          39.588,
          71.988,
          5.988,
          5.988,
          274.8,
          4.5,
          59.988,
          1.92,
          2.388,
          5.988,
          47.988,
          35.988,
          8.388,
          17.988,
          47.988,
          11.94,
          5.988,
          23.94,
          59.988,
          5.28,
          11.988,
          47.988,
          4.788,
          11.988,
          5.988,
          59.988,
          8.388,
          9.588000000000001,
          24,
          119.988,
          2.16,
          34.800000000000004,
          11.988,
          23.988,
          11.988,
          11.988,
          28.788,
          1.2,
          17.988,
          21.54,
          3.7800000000000002,
          2.64,
          19.188,
          19.8,
          7.2,
          83.88,
          29.988,
          4.788,
          8.388,
          26.376,
          11.988,
          5.988,
          119.988,
          5.988,
          12,
          42,
          49.2,
          2.16,
          14.280000000000001,
          95.988,
          19.188,
          23.988,
          1.188,
          23.988,
          35.988,
          11.988,
          5.988,
          9.6,
          41.94,
          8.64,
          7.08,
          23.988,
          88.2,
          31.14,
          9.588000000000001,
          11.988,
          23.988,
          3.588,
          17.988,
          8.388,
          29.88,
          9,
          5.988,
          59.88,
          11.988,
          29.88,
          11.988,
          1.188,
          35.988,
          37.2,
          0.9,
          32.388,
          17.988,
          11.988,
          95.988,
          9.588000000000001,
          7.2,
          5.988,
          68.808,
          6.6000000000000005,
          16.68,
          39.54,
          13.188,
          34.932,
          2.1,
          7.188,
          95.988,
          39,
          5.988,
          27.54,
          11.94,
          5.988,
          7.188,
          5.4,
          13.308,
          11.988,
          3,
          5.988,
          22.8,
          11.988,
          11.988,
          17.988,
          23.148,
          17.988,
          4.788,
          8.388,
          4.8,
          17.988,
          1.44,
          1.44,
          23.988,
          27.54,
          1.188,
          2.988,
          33.588,
          11.988,
          2.52,
          41.88,
          15.588000000000001,
          5.988,
          71.988,
          11.988,
          119.988,
          34.68,
          71.988,
          1.92,
          19.188,
          11.988,
          5.988,
          56.4,
          51.99552,
          21.6,
          11.88,
          56.388,
          65.88,
          1.2,
          33.480000000000004,
          11.988,
          14.496,
          10.788,
          47.988,
          29.988,
          4.74,
          19.740000000000002,
          3.72,
          1.788,
          17.988,
          15.588000000000001,
          50.388,
          48,
          3,
          26.388,
          1.2,
          71.988,
          23.94,
          25.2,
          14.388,
          11.988,
          29.988,
          47.88,
          2.4,
          2.7600000000000002,
          33.552,
          11.988,
          41.988,
          4.188,
          8.676,
          71.988,
          149.988,
          15.48,
          2.4,
          71.988,
          5.988,
          29.988,
          19.188,
          35.88,
          3.84,
          11.988,
          46.5,
          229.32,
          11.988,
          1.8,
          17.988,
          35.988,
          10.788,
          4.188,
          17.88,
          23.988,
          18,
          65.988,
          17.988,
          9.3,
          384,
          15.6,
          23.988,
          11.988,
          23.988,
          26.388,
          23.988,
          21.588,
          10.14,
          13.188,
          95.988,
          17.988,
          17.988,
          35.988,
          15.588000000000001,
          3.6,
          23.94,
          6.42,
          299.988,
          13.188,
          5.4,
          47.988,
          7.188,
          84.06,
          14.388,
          35.988,
          9.588000000000001,
          11.988,
          11.988,
          34.74,
          18,
          38.34,
          76.26,
          8.388,
          35.988,
          17.988,
          1.98,
          41.988,
          90,
          8.4,
          0.468,
          455.988,
          23.88,
          23.388,
          10.788,
          18.564,
          15.588000000000001,
          7.188,
          5.988,
          2.7600000000000002,
          11.988,
          8.4,
          13.8,
          17.988,
          15.588000000000001,
          5.988,
          13.08,
          4.788,
          1.2,
          23.988,
          21.6,
          5.988,
          0.468,
          43.188,
          47.88,
          5.988,
          17.988,
          1.44,
          41.988,
          5.04,
          2.7,
          9.588000000000001,
          47.988,
          115.5,
          73.2,
          15.588000000000001,
          15.6,
          4.8,
          16.788,
          718.6800000000001,
          29.88,
          23.988,
          83.988,
          11.988,
          9.6,
          11.988,
          35.988,
          20.34,
          24,
          11.988,
          23.988,
          5.988,
          14.94,
          18.588,
          17.34,
          38.316,
          16.14,
          11.988,
          19.8,
          5.988,
          16.8,
          30,
          74.28,
          167.988,
          35.94,
          70.68,
          24,
          157.8,
          42,
          9.42,
          38.52,
          12,
          24,
          23.988,
          8.64,
          19.14,
          43.74,
          95.4,
          11.988,
          20.94,
          15.540000000000001,
          17.988,
          18.54,
          60,
          20.34,
          47.34,
          25.188,
          63.54,
          43.14,
          20.388,
          13.548,
          69.54,
          11.988,
          28.8,
          15.588000000000001,
          15.588000000000001,
          13.08,
          24,
          18.54,
          23.988,
          10.5,
          183.24,
          50.34,
          23.868000000000002,
          60,
          11.88,
          13.332,
          124.8,
          29.88,
          22.8,
          75.54,
          11.988,
          20.388,
          18,
          115.8,
          127.08,
          23.988,
          1.068,
          29.82,
          10.788,
          39.348,
          45.588,
          14.988,
          60,
          87.58800000000001,
          7.5,
          12.24,
          107.88,
          19.668,
          10.788,
          14.388,
          22.788,
          139.14000000000001,
          21,
          25.14,
          27.6,
          35.88,
          51.54,
          2.388,
          29.988,
          5.988,
          28.8,
          8.988,
          21.3,
          19.188,
          21.54,
          191.988,
          17.88,
          23.988,
          5.988,
          3.588,
          7.2,
          13.56,
          75.54,
          113.46000000000001,
          8.388,
          59.988,
          34.800000000000004,
          29.988,
          14.280000000000001,
          25.2,
          5.988,
          9.9,
          17.988,
          119.94,
          11.988,
          72,
          47.34,
          23.988,
          41.988,
          66.6,
          55.08,
          5.988,
          52.800000000000004,
          12,
          3.588,
          9.588000000000001,
          62.28,
          16.14,
          48,
          48,
          19.188,
          119.988,
          23.88,
          20.34,
          11.28,
          56.4,
          35.988,
          0.9480000000000001,
          171.48,
          47.34,
          71.988,
          23.400000000000002,
          33.588,
          23.400000000000002,
          119.988,
          155.988,
          8.388,
          38.28,
          9.588000000000001,
          5.988,
          17.988,
          31.92,
          33.588,
          17.988,
          718.8000000000001,
          22.8,
          11.988,
          76.5,
          5.988,
          22.788,
          17.88,
          4.2,
          102,
          29.988,
          18.72,
          78,
          11.988,
          93.54,
          71.94,
          3.588,
          28.188,
          5.988,
          15.588000000000001,
          5.988,
          57.300000000000004,
          14.76,
          23.988,
          61.872,
          23.988,
          25.14,
          237.9,
          23.04,
          192,
          26.388,
          179.988,
          21.588,
          23.400000000000002,
          35.94,
          11.988,
          143.94,
          35.988,
          20.28,
          21.48,
          107.94,
          2.868,
          19.188,
          51.480000000000004,
          34.68,
          15.588000000000001,
          7.68,
          45.480000000000004,
          54.72,
          42,
          31.2,
          39.6,
          8.388,
          282.708,
          19.188,
          119.94,
          30.54,
          107.94,
          23.988,
          66,
          145.8,
          59.94,
          17.988,
          90.072,
          216,
          13.188,
          22.8,
          22.2,
          119.988,
          47.94,
          17.988,
          39.54,
          32.34,
          27.48,
          37.188,
          12.9,
          83.988,
          29.988,
          87.48,
          69.54,
          40.776,
          17.88,
          19.44,
          12,
          7.68,
          53.94,
          35.988,
          11.76,
          10.788,
          5.988,
          47.94,
          138,
          5.988,
          42.6,
          19.188,
          17.988,
          35.988,
          138,
          23.7,
          20.388,
          29.94,
          42,
          55.2,
          123.54,
          26.388,
          28.560000000000002,
          105.84,
          299.988,
          28.8,
          50.4,
          19.188,
          35.988,
          15.384,
          23.88,
          119.988,
          142.20000000000002,
          11.988,
          240.588,
          298.2,
          197.88,
          11.700000000000001,
          5.988,
          7.62,
          16.68,
          718.8000000000001,
          8.040000000000001,
          4.788,
          29.94,
          40.68,
          29.988,
          50.4,
          53.94,
          26.388,
          11.988,
          7.140000000000001,
          239.88,
          12.120000000000001,
          13.200000000000001,
          11.988,
          130.8,
          48.06,
          39.54,
          55.800000000000004,
          294,
          72.84,
          11.988,
          47.34,
          17.988,
          80.4,
          33.6,
          20.388,
          11.64,
          18,
          15.540000000000001,
          287.988,
          10.200000000000001,
          72,
          12.24,
          23.988,
          89.34,
          42,
          16.740000000000002,
          26.388,
          51.96,
          51.54,
          227.88,
          150,
          28.62,
          58.68,
          13.200000000000001,
          46.788000000000004,
          202.788,
          911.88,
          9.9,
          3.6,
          17.988,
          8.964,
          47.988,
          143.88,
          45.588,
          23.988,
          35.988,
          7.188,
          23.988,
          58.188,
          6.12,
          5.988,
          15.588000000000001,
          11.988,
          14.280000000000001,
          4.8,
          7.188,
          11.988,
          8.388,
          17.988,
          15.540000000000001,
          59.988,
          30.6,
          23.400000000000002,
          101.736,
          39.588,
          46.74,
          65.94,
          11.988,
          107.94,
          19.188,
          42,
          23.988,
          38.388,
          15.6,
          4.788,
          7.188,
          11.988,
          2.388,
          15.588000000000001,
          93.312,
          27.588,
          18,
          31.080000000000002,
          75.58800000000001,
          21.54,
          38.28,
          57.588,
          107.988,
          22.788,
          69.58800000000001,
          9.588000000000001,
          3.6,
          86.4,
          4.668,
          156.588,
          71.988,
          28.8,
          63.54,
          299.988,
          9.588000000000001,
          35.988,
          29.94,
          5.4,
          11.988,
          20.28,
          46.68,
          3.12,
          7.188,
          23.400000000000002,
          35.88,
          96.876,
          31.188000000000002,
          359.988,
          28.32,
          137.94,
          57.36,
          28.8,
          2.988,
          14.388,
          131.988,
          131.94,
          39.6,
          4.8,
          17.28,
          36.54,
          43.14,
          6,
          9.588000000000001,
          22.788,
          9.588000000000001,
          4.788,
          8.388,
          23.988,
          26.388,
          11.988,
          39.480000000000004,
          37.176,
          59.88,
          14.4,
          32.34,
          27.588,
          11.988,
          11.028,
          36.54,
          36.96,
          22.68,
          44.28
         ]
        }
       ],
       "layout": {
        "template": {
         "data": {
          "bar": [
           {
            "error_x": {
             "color": "#2a3f5f"
            },
            "error_y": {
             "color": "#2a3f5f"
            },
            "marker": {
             "line": {
              "color": "#E5ECF6",
              "width": 0.5
             },
             "pattern": {
              "fillmode": "overlay",
              "size": 10,
              "solidity": 0.2
             }
            },
            "type": "bar"
           }
          ],
          "barpolar": [
           {
            "marker": {
             "line": {
              "color": "#E5ECF6",
              "width": 0.5
             },
             "pattern": {
              "fillmode": "overlay",
              "size": 10,
              "solidity": 0.2
             }
            },
            "type": "barpolar"
           }
          ],
          "carpet": [
           {
            "aaxis": {
             "endlinecolor": "#2a3f5f",
             "gridcolor": "white",
             "linecolor": "white",
             "minorgridcolor": "white",
             "startlinecolor": "#2a3f5f"
            },
            "baxis": {
             "endlinecolor": "#2a3f5f",
             "gridcolor": "white",
             "linecolor": "white",
             "minorgridcolor": "white",
             "startlinecolor": "#2a3f5f"
            },
            "type": "carpet"
           }
          ],
          "choropleth": [
           {
            "colorbar": {
             "outlinewidth": 0,
             "ticks": ""
            },
            "type": "choropleth"
           }
          ],
          "contour": [
           {
            "colorbar": {
             "outlinewidth": 0,
             "ticks": ""
            },
            "colorscale": [
             [
              0,
              "#0d0887"
             ],
             [
              0.1111111111111111,
              "#46039f"
             ],
             [
              0.2222222222222222,
              "#7201a8"
             ],
             [
              0.3333333333333333,
              "#9c179e"
             ],
             [
              0.4444444444444444,
              "#bd3786"
             ],
             [
              0.5555555555555556,
              "#d8576b"
             ],
             [
              0.6666666666666666,
              "#ed7953"
             ],
             [
              0.7777777777777778,
              "#fb9f3a"
             ],
             [
              0.8888888888888888,
              "#fdca26"
             ],
             [
              1,
              "#f0f921"
             ]
            ],
            "type": "contour"
           }
          ],
          "contourcarpet": [
           {
            "colorbar": {
             "outlinewidth": 0,
             "ticks": ""
            },
            "type": "contourcarpet"
           }
          ],
          "heatmap": [
           {
            "colorbar": {
             "outlinewidth": 0,
             "ticks": ""
            },
            "colorscale": [
             [
              0,
              "#0d0887"
             ],
             [
              0.1111111111111111,
              "#46039f"
             ],
             [
              0.2222222222222222,
              "#7201a8"
             ],
             [
              0.3333333333333333,
              "#9c179e"
             ],
             [
              0.4444444444444444,
              "#bd3786"
             ],
             [
              0.5555555555555556,
              "#d8576b"
             ],
             [
              0.6666666666666666,
              "#ed7953"
             ],
             [
              0.7777777777777778,
              "#fb9f3a"
             ],
             [
              0.8888888888888888,
              "#fdca26"
             ],
             [
              1,
              "#f0f921"
             ]
            ],
            "type": "heatmap"
           }
          ],
          "heatmapgl": [
           {
            "colorbar": {
             "outlinewidth": 0,
             "ticks": ""
            },
            "colorscale": [
             [
              0,
              "#0d0887"
             ],
             [
              0.1111111111111111,
              "#46039f"
             ],
             [
              0.2222222222222222,
              "#7201a8"
             ],
             [
              0.3333333333333333,
              "#9c179e"
             ],
             [
              0.4444444444444444,
              "#bd3786"
             ],
             [
              0.5555555555555556,
              "#d8576b"
             ],
             [
              0.6666666666666666,
              "#ed7953"
             ],
             [
              0.7777777777777778,
              "#fb9f3a"
             ],
             [
              0.8888888888888888,
              "#fdca26"
             ],
             [
              1,
              "#f0f921"
             ]
            ],
            "type": "heatmapgl"
           }
          ],
          "histogram": [
           {
            "marker": {
             "pattern": {
              "fillmode": "overlay",
              "size": 10,
              "solidity": 0.2
             }
            },
            "type": "histogram"
           }
          ],
          "histogram2d": [
           {
            "colorbar": {
             "outlinewidth": 0,
             "ticks": ""
            },
            "colorscale": [
             [
              0,
              "#0d0887"
             ],
             [
              0.1111111111111111,
              "#46039f"
             ],
             [
              0.2222222222222222,
              "#7201a8"
             ],
             [
              0.3333333333333333,
              "#9c179e"
             ],
             [
              0.4444444444444444,
              "#bd3786"
             ],
             [
              0.5555555555555556,
              "#d8576b"
             ],
             [
              0.6666666666666666,
              "#ed7953"
             ],
             [
              0.7777777777777778,
              "#fb9f3a"
             ],
             [
              0.8888888888888888,
              "#fdca26"
             ],
             [
              1,
              "#f0f921"
             ]
            ],
            "type": "histogram2d"
           }
          ],
          "histogram2dcontour": [
           {
            "colorbar": {
             "outlinewidth": 0,
             "ticks": ""
            },
            "colorscale": [
             [
              0,
              "#0d0887"
             ],
             [
              0.1111111111111111,
              "#46039f"
             ],
             [
              0.2222222222222222,
              "#7201a8"
             ],
             [
              0.3333333333333333,
              "#9c179e"
             ],
             [
              0.4444444444444444,
              "#bd3786"
             ],
             [
              0.5555555555555556,
              "#d8576b"
             ],
             [
              0.6666666666666666,
              "#ed7953"
             ],
             [
              0.7777777777777778,
              "#fb9f3a"
             ],
             [
              0.8888888888888888,
              "#fdca26"
             ],
             [
              1,
              "#f0f921"
             ]
            ],
            "type": "histogram2dcontour"
           }
          ],
          "mesh3d": [
           {
            "colorbar": {
             "outlinewidth": 0,
             "ticks": ""
            },
            "type": "mesh3d"
           }
          ],
          "parcoords": [
           {
            "line": {
             "colorbar": {
              "outlinewidth": 0,
              "ticks": ""
             }
            },
            "type": "parcoords"
           }
          ],
          "pie": [
           {
            "automargin": true,
            "type": "pie"
           }
          ],
          "scatter": [
           {
            "fillpattern": {
             "fillmode": "overlay",
             "size": 10,
             "solidity": 0.2
            },
            "type": "scatter"
           }
          ],
          "scatter3d": [
           {
            "line": {
             "colorbar": {
              "outlinewidth": 0,
              "ticks": ""
             }
            },
            "marker": {
             "colorbar": {
              "outlinewidth": 0,
              "ticks": ""
             }
            },
            "type": "scatter3d"
           }
          ],
          "scattercarpet": [
           {
            "marker": {
             "colorbar": {
              "outlinewidth": 0,
              "ticks": ""
             }
            },
            "type": "scattercarpet"
           }
          ],
          "scattergeo": [
           {
            "marker": {
             "colorbar": {
              "outlinewidth": 0,
              "ticks": ""
             }
            },
            "type": "scattergeo"
           }
          ],
          "scattergl": [
           {
            "marker": {
             "colorbar": {
              "outlinewidth": 0,
              "ticks": ""
             }
            },
            "type": "scattergl"
           }
          ],
          "scattermapbox": [
           {
            "marker": {
             "colorbar": {
              "outlinewidth": 0,
              "ticks": ""
             }
            },
            "type": "scattermapbox"
           }
          ],
          "scatterpolar": [
           {
            "marker": {
             "colorbar": {
              "outlinewidth": 0,
              "ticks": ""
             }
            },
            "type": "scatterpolar"
           }
          ],
          "scatterpolargl": [
           {
            "marker": {
             "colorbar": {
              "outlinewidth": 0,
              "ticks": ""
             }
            },
            "type": "scatterpolargl"
           }
          ],
          "scatterternary": [
           {
            "marker": {
             "colorbar": {
              "outlinewidth": 0,
              "ticks": ""
             }
            },
            "type": "scatterternary"
           }
          ],
          "surface": [
           {
            "colorbar": {
             "outlinewidth": 0,
             "ticks": ""
            },
            "colorscale": [
             [
              0,
              "#0d0887"
             ],
             [
              0.1111111111111111,
              "#46039f"
             ],
             [
              0.2222222222222222,
              "#7201a8"
             ],
             [
              0.3333333333333333,
              "#9c179e"
             ],
             [
              0.4444444444444444,
              "#bd3786"
             ],
             [
              0.5555555555555556,
              "#d8576b"
             ],
             [
              0.6666666666666666,
              "#ed7953"
             ],
             [
              0.7777777777777778,
              "#fb9f3a"
             ],
             [
              0.8888888888888888,
              "#fdca26"
             ],
             [
              1,
              "#f0f921"
             ]
            ],
            "type": "surface"
           }
          ],
          "table": [
           {
            "cells": {
             "fill": {
              "color": "#EBF0F8"
             },
             "line": {
              "color": "white"
             }
            },
            "header": {
             "fill": {
              "color": "#C8D4E3"
             },
             "line": {
              "color": "white"
             }
            },
            "type": "table"
           }
          ]
         },
         "layout": {
          "annotationdefaults": {
           "arrowcolor": "#2a3f5f",
           "arrowhead": 0,
           "arrowwidth": 1
          },
          "autotypenumbers": "strict",
          "coloraxis": {
           "colorbar": {
            "outlinewidth": 0,
            "ticks": ""
           }
          },
          "colorscale": {
           "diverging": [
            [
             0,
             "#8e0152"
            ],
            [
             0.1,
             "#c51b7d"
            ],
            [
             0.2,
             "#de77ae"
            ],
            [
             0.3,
             "#f1b6da"
            ],
            [
             0.4,
             "#fde0ef"
            ],
            [
             0.5,
             "#f7f7f7"
            ],
            [
             0.6,
             "#e6f5d0"
            ],
            [
             0.7,
             "#b8e186"
            ],
            [
             0.8,
             "#7fbc41"
            ],
            [
             0.9,
             "#4d9221"
            ],
            [
             1,
             "#276419"
            ]
           ],
           "sequential": [
            [
             0,
             "#0d0887"
            ],
            [
             0.1111111111111111,
             "#46039f"
            ],
            [
             0.2222222222222222,
             "#7201a8"
            ],
            [
             0.3333333333333333,
             "#9c179e"
            ],
            [
             0.4444444444444444,
             "#bd3786"
            ],
            [
             0.5555555555555556,
             "#d8576b"
            ],
            [
             0.6666666666666666,
             "#ed7953"
            ],
            [
             0.7777777777777778,
             "#fb9f3a"
            ],
            [
             0.8888888888888888,
             "#fdca26"
            ],
            [
             1,
             "#f0f921"
            ]
           ],
           "sequentialminus": [
            [
             0,
             "#0d0887"
            ],
            [
             0.1111111111111111,
             "#46039f"
            ],
            [
             0.2222222222222222,
             "#7201a8"
            ],
            [
             0.3333333333333333,
             "#9c179e"
            ],
            [
             0.4444444444444444,
             "#bd3786"
            ],
            [
             0.5555555555555556,
             "#d8576b"
            ],
            [
             0.6666666666666666,
             "#ed7953"
            ],
            [
             0.7777777777777778,
             "#fb9f3a"
            ],
            [
             0.8888888888888888,
             "#fdca26"
            ],
            [
             1,
             "#f0f921"
            ]
           ]
          },
          "colorway": [
           "#636efa",
           "#EF553B",
           "#00cc96",
           "#ab63fa",
           "#FFA15A",
           "#19d3f3",
           "#FF6692",
           "#B6E880",
           "#FF97FF",
           "#FECB52"
          ],
          "font": {
           "color": "#2a3f5f"
          },
          "geo": {
           "bgcolor": "white",
           "lakecolor": "white",
           "landcolor": "#E5ECF6",
           "showlakes": true,
           "showland": true,
           "subunitcolor": "white"
          },
          "hoverlabel": {
           "align": "left"
          },
          "hovermode": "closest",
          "mapbox": {
           "style": "light"
          },
          "paper_bgcolor": "white",
          "plot_bgcolor": "#E5ECF6",
          "polar": {
           "angularaxis": {
            "gridcolor": "white",
            "linecolor": "white",
            "ticks": ""
           },
           "bgcolor": "#E5ECF6",
           "radialaxis": {
            "gridcolor": "white",
            "linecolor": "white",
            "ticks": ""
           }
          },
          "scene": {
           "xaxis": {
            "backgroundcolor": "#E5ECF6",
            "gridcolor": "white",
            "gridwidth": 2,
            "linecolor": "white",
            "showbackground": true,
            "ticks": "",
            "zerolinecolor": "white"
           },
           "yaxis": {
            "backgroundcolor": "#E5ECF6",
            "gridcolor": "white",
            "gridwidth": 2,
            "linecolor": "white",
            "showbackground": true,
            "ticks": "",
            "zerolinecolor": "white"
           },
           "zaxis": {
            "backgroundcolor": "#E5ECF6",
            "gridcolor": "white",
            "gridwidth": 2,
            "linecolor": "white",
            "showbackground": true,
            "ticks": "",
            "zerolinecolor": "white"
           }
          },
          "shapedefaults": {
           "line": {
            "color": "#2a3f5f"
           }
          },
          "ternary": {
           "aaxis": {
            "gridcolor": "white",
            "linecolor": "white",
            "ticks": ""
           },
           "baxis": {
            "gridcolor": "white",
            "linecolor": "white",
            "ticks": ""
           },
           "bgcolor": "#E5ECF6",
           "caxis": {
            "gridcolor": "white",
            "linecolor": "white",
            "ticks": ""
           }
          },
          "title": {
           "x": 0.05
          },
          "xaxis": {
           "automargin": true,
           "gridcolor": "white",
           "linecolor": "white",
           "ticks": "",
           "title": {
            "standoff": 15
           },
           "zerolinecolor": "white",
           "zerolinewidth": 2
          },
          "yaxis": {
           "automargin": true,
           "gridcolor": "white",
           "linecolor": "white",
           "ticks": "",
           "title": {
            "standoff": 15
           },
           "zerolinecolor": "white",
           "zerolinewidth": 2
          }
         }
        },
        "title": {
         "text": "Avaliação x Preço com Desconto"
        },
        "xaxis": {
         "title": {
          "text": "Avaliação"
         }
        },
        "yaxis": {
         "title": {
          "text": "Preço com Desconto"
         }
        }
       }
      }
     },
     "metadata": {},
     "output_type": "display_data"
    }
   ],
   "source": [
    "# Scatter plot of the rating and actual_price\n",
    "fig = go.Figure()\n",
    "fig.add_trace(\n",
    "    go.Scatter(x=df[\"rating\"], y=df[\"actual_price\"], mode=\"markers\"))\n",
    "fig.update_layout(title=\"Avaliação x Preço com Desconto\",\n",
    "                  xaxis_title=\"Avaliação\",\n",
    "                  yaxis_title=\"Preço com Desconto\")\n",
    "fig.show()"
   ]
  },
  {
   "cell_type": "markdown",
   "metadata": {},
   "source": [
    "### Correlação entre preço e desconto"
   ]
  },
  {
   "cell_type": "code",
   "execution_count": 600,
   "metadata": {},
   "outputs": [
    {
     "data": {
      "application/vnd.plotly.v1+json": {
       "config": {
        "plotlyServerURL": "https://plot.ly"
       },
       "data": [
        {
         "mode": "markers",
         "type": "scatter",
         "x": [
          13.188,
          4.188,
          22.788,
          8.388,
          4.788,
          12,
          5.988,
          3.588,
          3.588,
          4.0680000000000005,
          9.588000000000001,
          10.788,
          4.788,
          4.788,
          299.988,
          4.788,
          5.988,
          263.88,
          21.588,
          5.988,
          274.8,
          2.388,
          239.88,
          8.388,
          239.988,
          4.788,
          23.988,
          11.988,
          9,
          5.988,
          13.188,
          7.188,
          11.988,
          7.9999199999999995,
          22.8,
          11.988,
          551.988,
          23.988,
          419.988,
          13.188,
          19.188,
          2.388,
          11.988,
          14.496,
          11.988,
          4.74,
          26.388,
          6,
          25.2,
          155.988,
          4.188,
          5.988,
          263.988,
          17.988,
          4.188,
          9.588000000000001,
          574.8000000000001,
          11.988,
          10.14,
          299.988,
          8.388,
          179.88,
          35.988,
          8.4,
          10.788,
          7.188,
          515.988,
          5.988,
          11.988,
          5.988,
          4.788,
          371.88,
          5.988,
          47.988,
          13.188,
          2.988,
          229.5,
          9.588000000000001,
          15.588000000000001,
          479.988,
          491.88,
          634.8000000000001,
          11.988,
          23.988,
          9.6,
          383.988,
          8.388,
          11.988,
          491.88,
          4.188,
          9.588000000000001,
          11.988,
          22.788,
          17.988,
          17.988,
          21.708000000000002,
          10.788,
          359.988,
          11.988,
          11.988,
          15.588000000000001,
          11.988,
          780,
          9.6,
          240,
          11.988,
          287.88,
          11.988,
          23.988,
          4.788,
          23.988,
          11.988,
          11.988,
          10.788,
          23.988,
          47.988,
          191.988,
          539.88,
          539.988,
          20.400000000000002,
          7.140000000000001,
          335.88,
          7.188,
          14.4,
          419.88,
          11.988,
          15.588000000000001,
          3.588,
          18,
          599.88,
          11.172,
          28.788,
          4.788,
          8.388,
          13.188,
          35.988,
          13.188,
          155.988,
          5.988,
          25.2,
          10.788,
          7.188,
          8.388,
          780,
          13.188,
          250.8,
          15.588000000000001,
          4.788,
          9.588000000000001,
          23.988,
          191.88,
          17.988,
          10.788,
          19.2,
          11.988,
          5.988,
          4.788,
          10.188,
          14.388,
          15.588000000000001,
          23.988,
          275.88,
          4.788,
          29.988,
          575.88,
          4.788,
          11.988,
          23.988,
          5.988,
          3.588,
          13.188,
          2.388,
          23.988,
          5.988,
          8.388,
          11.988,
          23.988,
          14.4,
          5.82,
          23.988,
          13.188,
          227.88,
          23.988,
          132,
          850.8000000000001,
          14.388,
          7.188,
          6.588,
          2.988,
          431.988,
          20.388,
          5.988,
          35.988,
          8.388,
          8.388,
          11.988,
          7.188,
          7.188,
          383.88,
          7.188,
          11.988,
          7.188,
          119.88,
          7.188,
          9.6,
          23.988,
          11.988,
          203.88,
          719.988,
          11.988,
          7.2,
          17.88,
          23.988,
          10.788,
          9.588000000000001,
          5.988,
          27.588,
          5.988,
          5.988,
          59.988,
          20.988,
          7.140000000000001,
          13.200000000000001,
          599.988,
          681.48,
          14.388,
          6.588,
          10.188,
          10.788,
          13.188,
          9.588000000000001,
          9.540000000000001,
          4.788,
          11.988,
          11.988,
          4.788,
          23.988,
          9.576,
          9.6,
          11.94,
          12,
          1678.8,
          9.588000000000001,
          10.788,
          9.588000000000001,
          7.188,
          4.788,
          1020,
          9.096,
          11.988,
          9.588000000000001,
          23.988,
          8.4,
          13.188,
          23.988,
          23.988,
          56.388,
          299.88,
          11.988,
          7.8,
          37.2,
          47.988,
          599.88,
          11.988,
          17.988,
          227.988,
          27.588,
          11.988,
          838.8000000000001,
          3.588,
          359.988,
          7.188,
          419.88,
          8.040000000000001,
          959.88,
          5.988,
          9.6,
          420,
          11.988,
          191.988,
          19.2,
          29.988,
          18,
          659.88,
          23.988,
          10.788,
          611.988,
          4.788,
          8.388,
          54,
          346.8,
          5.388,
          11.988,
          5.988,
          11.988,
          11.988,
          10.8,
          515.988,
          12.624,
          239.88,
          13.188,
          311.988,
          22.788,
          42,
          7.188,
          11.988,
          7.2,
          9.588000000000001,
          4.788,
          35.988,
          5.988,
          7.188,
          179.988,
          8.388,
          623.88,
          839.988,
          600,
          233.988,
          11.988,
          5.988,
          29.988,
          22.788,
          839.988,
          9.588000000000001,
          239.988,
          119.988,
          95.88,
          107.988,
          347.988,
          347.988,
          107.988,
          107.988,
          12,
          59.988,
          83.88,
          143.988,
          29.988,
          143.988,
          15.588000000000001,
          21.6,
          143.988,
          29.988,
          11.988,
          20.388,
          47.988,
          95.988,
          311.988,
          8.4,
          215.988,
          239.988,
          119.988,
          299.988,
          251.988,
          239.988,
          13.188,
          239.988,
          143.988,
          5.94,
          203.988,
          71.988,
          4.188,
          227.988,
          11.988,
          239.988,
          143.988,
          20.388,
          191.988,
          19.188,
          119.988,
          251.88,
          299.988,
          20.388,
          8.388,
          47.88,
          95.88,
          8.388,
          4.788,
          419.988,
          95.88,
          23.988,
          17.988,
          233.988,
          239.988,
          119.988,
          12,
          5.988,
          191.88,
          407.988,
          11.988,
          22.8,
          179.988,
          467.988,
          299.988,
          5.988,
          19.188,
          21.6,
          29.988,
          5.988,
          179.988,
          95.88,
          95.88,
          3.588,
          3.588,
          11.988,
          233.988,
          3.588,
          215.988,
          4.0680000000000005,
          323.988,
          7.788,
          2.052,
          23.988,
          19.2,
          251.988,
          227.988,
          347.988,
          8.388,
          95.988,
          239.988,
          9.588000000000001,
          19.188,
          215.988,
          251.88,
          34.788000000000004,
          59.988,
          359.88,
          23.988,
          191.88,
          263.88,
          10.788,
          19.56,
          4.788,
          83.88,
          95.88,
          34.788000000000004,
          71.988,
          8.388,
          95.88,
          71.988,
          4.788,
          251.88,
          5.988,
          21.588,
          34.788000000000004,
          161.988,
          4.788,
          11.988,
          5.988,
          119.988,
          17.988,
          17.988,
          161.988,
          2.388,
          11.988,
          233.988,
          11.988,
          7.188,
          119.988,
          5.988,
          2.988,
          95.988,
          7.188,
          251.988,
          191.988,
          59.988,
          71.988,
          11.988,
          13.188,
          83.88,
          83.88,
          359.88,
          161.988,
          251.988,
          335.88,
          227.988,
          71.988,
          11.988,
          23.988,
          11.988,
          71.988,
          42,
          119.988,
          227.988,
          59.988,
          251.988,
          101.988,
          83.988,
          7.9999199999999995,
          71.988,
          19.56,
          119.988,
          22.8,
          7.188,
          14.388,
          5.988,
          191.988,
          11.988,
          5.988,
          95.88,
          23.988,
          22.788,
          11.988,
          5.988,
          155.988,
          47.988,
          251.988,
          599.988,
          35.988,
          77.988,
          35.88,
          28.8,
          47.88,
          1.788,
          25.2,
          63.588,
          22.788,
          395.988,
          479.88,
          23.988,
          143.988,
          11.988,
          7.188,
          22.788,
          41.988,
          41.988,
          11.988,
          83.988,
          227.988,
          31.188000000000002,
          14.388,
          11.988,
          119.988,
          95.988,
          14.988,
          7.188,
          8.4,
          21.588,
          5.988,
          7.188,
          11.988,
          899.988,
          5.988,
          4.788,
          47.988,
          143.988,
          47.988,
          215.988,
          5.988,
          16.788,
          35.988,
          5.988,
          143.988,
          17.988,
          233.988,
          5.988,
          83.988,
          119.988,
          95.88,
          10.74,
          2.844,
          8.388,
          12,
          59.988,
          17.988,
          4.788,
          83.88,
          11.988,
          11.988,
          15.588000000000001,
          18,
          7.788,
          7.188,
          47.988,
          95.988,
          11.988,
          21.588,
          119.988,
          7.8,
          23.94,
          13.188,
          3.7800000000000002,
          0.6,
          1.98,
          15.48,
          203.988,
          15.48,
          29.976,
          4.188,
          11.988,
          71.988,
          59.988,
          23.988,
          5.388,
          8.388,
          11.988,
          47.88,
          65.988,
          4.788,
          16.2,
          95.88,
          23.988,
          15.540000000000001,
          65.988,
          11.94,
          12,
          9.132,
          11.988,
          3.588,
          30,
          59.988,
          15.588000000000001,
          107.988,
          2.16,
          6.588,
          2.7,
          11.988,
          7.188,
          53.988,
          29.988,
          5.988,
          6.6000000000000005,
          23.988,
          14.388,
          41.88,
          59.988,
          59.988,
          5.988,
          4.788,
          3.588,
          3.588,
          29.988,
          27.588,
          3.588,
          4.0680000000000005,
          3,
          17.988,
          33.6,
          95.88,
          3.588,
          4.848,
          16.788,
          7.188,
          11.988,
          15.540000000000001,
          1.92,
          19.2,
          10.788,
          7.188,
          10.788,
          35.88,
          10.788,
          4.788,
          36,
          59.988,
          59.988,
          10.332,
          9.540000000000001,
          29.94,
          4.788,
          21.588,
          9.6,
          6.588,
          119.988,
          359.988,
          41.988,
          3.7800000000000002,
          17.988,
          165,
          0.708,
          11.988,
          11.988,
          71.988,
          263.88,
          8.388,
          35.988,
          5.988,
          39.588,
          71.988,
          5.988,
          5.988,
          274.8,
          4.5,
          59.988,
          1.92,
          2.388,
          5.988,
          47.988,
          35.988,
          8.388,
          17.988,
          47.988,
          11.94,
          5.988,
          23.94,
          59.988,
          5.28,
          11.988,
          47.988,
          4.788,
          11.988,
          5.988,
          59.988,
          8.388,
          9.588000000000001,
          24,
          119.988,
          2.16,
          34.800000000000004,
          11.988,
          23.988,
          11.988,
          11.988,
          28.788,
          1.2,
          17.988,
          21.54,
          3.7800000000000002,
          2.64,
          19.188,
          19.8,
          7.2,
          83.88,
          29.988,
          4.788,
          8.388,
          26.376,
          11.988,
          5.988,
          119.988,
          5.988,
          12,
          42,
          49.2,
          2.16,
          14.280000000000001,
          95.988,
          19.188,
          23.988,
          1.188,
          23.988,
          35.988,
          11.988,
          5.988,
          9.6,
          41.94,
          8.64,
          7.08,
          23.988,
          88.2,
          31.14,
          9.588000000000001,
          11.988,
          23.988,
          3.588,
          17.988,
          8.388,
          29.88,
          9,
          5.988,
          59.88,
          11.988,
          29.88,
          11.988,
          1.188,
          35.988,
          37.2,
          0.9,
          32.388,
          17.988,
          11.988,
          95.988,
          9.588000000000001,
          7.2,
          5.988,
          68.808,
          6.6000000000000005,
          16.68,
          39.54,
          13.188,
          34.932,
          2.1,
          7.188,
          95.988,
          39,
          5.988,
          27.54,
          11.94,
          5.988,
          7.188,
          5.4,
          13.308,
          11.988,
          3,
          5.988,
          22.8,
          11.988,
          11.988,
          17.988,
          23.148,
          17.988,
          4.788,
          8.388,
          4.8,
          17.988,
          1.44,
          1.44,
          23.988,
          27.54,
          1.188,
          2.988,
          33.588,
          11.988,
          2.52,
          41.88,
          15.588000000000001,
          5.988,
          71.988,
          11.988,
          119.988,
          34.68,
          71.988,
          1.92,
          19.188,
          11.988,
          5.988,
          56.4,
          51.99552,
          21.6,
          11.88,
          56.388,
          65.88,
          1.2,
          33.480000000000004,
          11.988,
          14.496,
          10.788,
          47.988,
          29.988,
          4.74,
          19.740000000000002,
          3.72,
          1.788,
          17.988,
          15.588000000000001,
          50.388,
          48,
          3,
          26.388,
          1.2,
          71.988,
          23.94,
          25.2,
          14.388,
          11.988,
          29.988,
          47.88,
          2.4,
          2.7600000000000002,
          33.552,
          11.988,
          41.988,
          4.188,
          8.676,
          71.988,
          149.988,
          15.48,
          2.4,
          71.988,
          5.988,
          29.988,
          19.188,
          35.88,
          3.84,
          11.988,
          46.5,
          229.32,
          11.988,
          1.8,
          17.988,
          35.988,
          10.788,
          4.188,
          17.88,
          23.988,
          18,
          65.988,
          17.988,
          9.3,
          384,
          15.6,
          23.988,
          11.988,
          23.988,
          26.388,
          23.988,
          21.588,
          10.14,
          13.188,
          95.988,
          17.988,
          17.988,
          35.988,
          15.588000000000001,
          3.6,
          23.94,
          6.42,
          299.988,
          13.188,
          5.4,
          47.988,
          7.188,
          84.06,
          14.388,
          35.988,
          9.588000000000001,
          11.988,
          11.988,
          34.74,
          18,
          38.34,
          76.26,
          8.388,
          35.988,
          17.988,
          1.98,
          41.988,
          90,
          8.4,
          0.468,
          455.988,
          23.88,
          23.388,
          10.788,
          18.564,
          15.588000000000001,
          7.188,
          5.988,
          2.7600000000000002,
          11.988,
          8.4,
          13.8,
          17.988,
          15.588000000000001,
          5.988,
          13.08,
          4.788,
          1.2,
          23.988,
          21.6,
          5.988,
          0.468,
          43.188,
          47.88,
          5.988,
          17.988,
          1.44,
          41.988,
          5.04,
          2.7,
          9.588000000000001,
          47.988,
          115.5,
          73.2,
          15.588000000000001,
          15.6,
          4.8,
          16.788,
          718.6800000000001,
          29.88,
          23.988,
          83.988,
          11.988,
          9.6,
          11.988,
          35.988,
          20.34,
          24,
          11.988,
          23.988,
          5.988,
          14.94,
          18.588,
          17.34,
          38.316,
          16.14,
          11.988,
          19.8,
          5.988,
          16.8,
          30,
          74.28,
          167.988,
          35.94,
          70.68,
          24,
          157.8,
          42,
          9.42,
          38.52,
          12,
          24,
          23.988,
          8.64,
          19.14,
          43.74,
          95.4,
          11.988,
          20.94,
          15.540000000000001,
          17.988,
          18.54,
          60,
          20.34,
          47.34,
          25.188,
          63.54,
          43.14,
          20.388,
          13.548,
          69.54,
          11.988,
          28.8,
          15.588000000000001,
          15.588000000000001,
          13.08,
          24,
          18.54,
          23.988,
          10.5,
          183.24,
          50.34,
          23.868000000000002,
          60,
          11.88,
          13.332,
          124.8,
          29.88,
          22.8,
          75.54,
          11.988,
          20.388,
          18,
          115.8,
          127.08,
          23.988,
          1.068,
          29.82,
          10.788,
          39.348,
          45.588,
          14.988,
          60,
          87.58800000000001,
          7.5,
          12.24,
          107.88,
          19.668,
          10.788,
          14.388,
          22.788,
          139.14000000000001,
          21,
          25.14,
          27.6,
          35.88,
          51.54,
          2.388,
          29.988,
          5.988,
          28.8,
          8.988,
          21.3,
          19.188,
          21.54,
          191.988,
          17.88,
          23.988,
          5.988,
          3.588,
          7.2,
          13.56,
          75.54,
          113.46000000000001,
          8.388,
          59.988,
          34.800000000000004,
          29.988,
          14.280000000000001,
          25.2,
          5.988,
          9.9,
          17.988,
          119.94,
          11.988,
          72,
          47.34,
          23.988,
          41.988,
          66.6,
          55.08,
          5.988,
          52.800000000000004,
          12,
          3.588,
          9.588000000000001,
          62.28,
          16.14,
          48,
          48,
          19.188,
          119.988,
          23.88,
          20.34,
          11.28,
          56.4,
          35.988,
          0.9480000000000001,
          171.48,
          47.34,
          71.988,
          23.400000000000002,
          33.588,
          23.400000000000002,
          119.988,
          155.988,
          8.388,
          38.28,
          9.588000000000001,
          5.988,
          17.988,
          31.92,
          33.588,
          17.988,
          718.8000000000001,
          22.8,
          11.988,
          76.5,
          5.988,
          22.788,
          17.88,
          4.2,
          102,
          29.988,
          18.72,
          78,
          11.988,
          93.54,
          71.94,
          3.588,
          28.188,
          5.988,
          15.588000000000001,
          5.988,
          57.300000000000004,
          14.76,
          23.988,
          61.872,
          23.988,
          25.14,
          237.9,
          23.04,
          192,
          26.388,
          179.988,
          21.588,
          23.400000000000002,
          35.94,
          11.988,
          143.94,
          35.988,
          20.28,
          21.48,
          107.94,
          2.868,
          19.188,
          51.480000000000004,
          34.68,
          15.588000000000001,
          7.68,
          45.480000000000004,
          54.72,
          42,
          31.2,
          39.6,
          8.388,
          282.708,
          19.188,
          119.94,
          30.54,
          107.94,
          23.988,
          66,
          145.8,
          59.94,
          17.988,
          90.072,
          216,
          13.188,
          22.8,
          22.2,
          119.988,
          47.94,
          17.988,
          39.54,
          32.34,
          27.48,
          37.188,
          12.9,
          83.988,
          29.988,
          87.48,
          69.54,
          40.776,
          17.88,
          19.44,
          12,
          7.68,
          53.94,
          35.988,
          11.76,
          10.788,
          5.988,
          47.94,
          138,
          5.988,
          42.6,
          19.188,
          17.988,
          35.988,
          138,
          23.7,
          20.388,
          29.94,
          42,
          55.2,
          123.54,
          26.388,
          28.560000000000002,
          105.84,
          299.988,
          28.8,
          50.4,
          19.188,
          35.988,
          15.384,
          23.88,
          119.988,
          142.20000000000002,
          11.988,
          240.588,
          298.2,
          197.88,
          11.700000000000001,
          5.988,
          7.62,
          16.68,
          718.8000000000001,
          8.040000000000001,
          4.788,
          29.94,
          40.68,
          29.988,
          50.4,
          53.94,
          26.388,
          11.988,
          7.140000000000001,
          239.88,
          12.120000000000001,
          13.200000000000001,
          11.988,
          130.8,
          48.06,
          39.54,
          55.800000000000004,
          294,
          72.84,
          11.988,
          47.34,
          17.988,
          80.4,
          33.6,
          20.388,
          11.64,
          18,
          15.540000000000001,
          287.988,
          10.200000000000001,
          72,
          12.24,
          23.988,
          89.34,
          42,
          16.740000000000002,
          26.388,
          51.96,
          51.54,
          227.88,
          150,
          28.62,
          58.68,
          13.200000000000001,
          46.788000000000004,
          202.788,
          911.88,
          9.9,
          3.6,
          17.988,
          8.964,
          47.988,
          143.88,
          45.588,
          23.988,
          35.988,
          7.188,
          23.988,
          58.188,
          6.12,
          5.988,
          15.588000000000001,
          11.988,
          14.280000000000001,
          4.8,
          7.188,
          11.988,
          8.388,
          17.988,
          15.540000000000001,
          59.988,
          30.6,
          23.400000000000002,
          101.736,
          39.588,
          46.74,
          65.94,
          11.988,
          107.94,
          19.188,
          42,
          23.988,
          38.388,
          15.6,
          4.788,
          7.188,
          11.988,
          2.388,
          15.588000000000001,
          93.312,
          27.588,
          18,
          31.080000000000002,
          75.58800000000001,
          21.54,
          38.28,
          57.588,
          107.988,
          22.788,
          69.58800000000001,
          9.588000000000001,
          3.6,
          86.4,
          4.668,
          156.588,
          71.988,
          28.8,
          63.54,
          299.988,
          9.588000000000001,
          35.988,
          29.94,
          5.4,
          11.988,
          20.28,
          46.68,
          3.12,
          7.188,
          23.400000000000002,
          35.88,
          96.876,
          31.188000000000002,
          359.988,
          28.32,
          137.94,
          57.36,
          28.8,
          2.988,
          14.388,
          131.988,
          131.94,
          39.6,
          4.8,
          17.28,
          36.54,
          43.14,
          6,
          9.588000000000001,
          22.788,
          9.588000000000001,
          4.788,
          8.388,
          23.988,
          26.388,
          11.988,
          39.480000000000004,
          37.176,
          59.88,
          14.4,
          32.34,
          27.588,
          11.988,
          11.028,
          36.54,
          36.96,
          22.68,
          44.28
         ],
         "y": [
          64,
          43,
          90,
          53,
          61,
          85,
          65,
          23,
          33,
          55,
          63,
          61,
          60,
          13,
          44,
          38,
          60,
          39,
          46,
          44,
          41,
          70,
          42,
          72,
          25,
          25,
          51,
          70,
          73,
          64,
          65,
          0,
          80,
          85,
          53,
          80,
          28,
          51,
          43,
          64,
          38,
          70,
          67,
          58,
          60,
          50,
          45,
          64,
          62,
          46,
          43,
          54,
          27,
          77,
          56,
          78,
          31,
          86,
          61,
          44,
          62,
          47,
          47,
          69,
          61,
          42,
          37,
          77,
          60,
          60,
          55,
          65,
          58,
          64,
          64,
          44,
          62,
          63,
          75,
          25,
          32,
          41,
          80,
          68,
          66,
          22,
          57,
          80,
          54,
          17,
          69,
          65,
          42,
          52,
          77,
          53,
          67,
          27,
          65,
          60,
          65,
          70,
          42,
          88,
          63,
          73,
          33,
          60,
          80,
          47,
          35,
          65,
          85,
          75,
          20,
          63,
          47,
          53,
          27,
          53,
          62,
          64,
          42,
          59,
          31,
          60,
          73,
          40,
          54,
          38,
          73,
          58,
          0,
          50,
          64,
          43,
          40,
          23,
          61,
          52,
          44,
          31,
          47,
          54,
          69,
          26,
          62,
          38,
          50,
          25,
          41,
          58,
          56,
          32,
          66,
          70,
          63,
          29,
          75,
          69,
          83,
          46,
          38,
          44,
          31,
          63,
          67,
          80,
          60,
          71,
          64,
          71,
          60,
          59,
          57,
          15,
          53,
          58,
          38,
          53,
          66,
          53,
          76,
          48,
          32,
          75,
          47,
          75,
          48,
          31,
          41,
          55,
          82,
          63,
          66,
          65,
          22,
          25,
          63,
          42,
          75,
          66,
          35,
          61,
          63,
          60,
          70,
          59,
          28,
          83,
          65,
          43,
          68,
          67,
          50,
          50,
          46,
          57,
          58,
          88,
          54,
          73,
          55,
          36,
          42,
          75,
          77,
          29,
          56,
          59,
          68,
          50,
          55,
          66,
          60,
          50,
          83,
          63,
          89,
          45,
          87,
          44,
          56,
          44,
          63,
          70,
          76,
          35,
          42,
          70,
          63,
          61,
          57,
          70,
          35,
          60,
          0,
          24,
          80,
          59,
          36,
          43,
          28,
          65,
          52,
          53,
          60,
          60,
          34,
          60,
          27,
          50,
          37,
          38,
          40,
          57,
          88,
          46,
          75,
          50,
          59,
          48,
          59,
          40,
          70,
          61,
          41,
          50,
          50,
          59,
          52,
          71,
          62,
          63,
          78,
          80,
          45,
          37,
          15,
          45,
          66,
          35,
          63,
          23,
          78,
          61,
          59,
          63,
          38,
          54,
          60,
          50,
          0,
          57,
          52,
          11,
          51,
          46,
          65,
          61,
          48,
          20,
          33,
          63,
          91,
          80,
          75,
          28,
          0,
          0,
          28,
          28,
          43,
          62,
          79,
          21,
          76,
          25,
          73,
          47,
          21,
          40,
          65,
          28,
          60,
          81,
          29,
          47,
          28,
          91,
          78,
          32,
          21,
          91,
          64,
          91,
          25,
          72,
          76,
          50,
          43,
          18,
          80,
          91,
          25,
          49,
          19,
          66,
          80,
          26,
          20,
          37,
          43,
          50,
          75,
          53,
          61,
          17,
          71,
          80,
          65,
          28,
          30,
          60,
          85,
          80,
          70,
          0,
          90,
          84,
          27,
          10,
          32,
          60,
          38,
          67,
          28,
          65,
          27,
          62,
          75,
          23,
          33,
          35,
          28,
          60,
          28,
          55,
          22,
          62,
          42,
          76,
          77,
          26,
          18,
          21,
          81,
          6,
          30,
          63,
          38,
          28,
          26,
          66,
          68,
          30,
          50,
          22,
          18,
          61,
          14,
          60,
          79,
          75,
          66,
          65,
          52,
          62,
          78,
          13,
          21,
          0,
          46,
          66,
          22,
          38,
          75,
          60,
          70,
          81,
          82,
          33,
          70,
          65,
          28,
          65,
          17,
          78,
          81,
          44,
          44,
          85,
          26,
          13,
          60,
          77,
          40,
          82,
          74,
          79,
          30,
          4,
          19,
          29,
          32,
          50,
          70,
          51,
          67,
          78,
          43,
          80,
          32,
          70,
          19,
          76,
          29,
          85,
          58,
          14,
          85,
          53,
          58,
          75,
          84,
          13,
          5,
          80,
          69,
          66,
          74,
          70,
          58,
          35,
          46,
          19,
          10,
          13,
          57,
          53,
          73,
          80,
          0,
          62,
          28,
          90,
          27,
          25,
          86,
          33,
          75,
          50,
          74,
          74,
          54,
          88,
          43,
          32,
          38,
          42,
          90,
          21,
          81,
          16,
          75,
          69,
          74,
          77,
          60,
          73,
          49,
          60,
          55,
          55,
          29,
          50,
          78,
          56,
          57,
          17,
          82,
          75,
          79,
          28,
          72,
          63,
          80,
          77,
          33,
          8,
          62,
          43,
          60,
          77,
          63,
          79,
          50,
          90,
          73,
          68,
          59,
          50,
          60,
          81,
          67,
          69,
          78,
          54,
          60,
          64,
          16,
          0,
          21,
          65,
          76,
          69,
          44,
          43,
          80,
          50,
          18,
          75,
          33,
          53,
          30,
          80,
          75,
          61,
          62,
          71,
          80,
          0,
          66,
          60,
          85,
          6,
          90,
          87,
          64,
          76,
          56,
          83,
          17,
          27,
          15,
          87,
          67,
          78,
          28,
          65,
          5,
          60,
          43,
          66,
          50,
          64,
          80,
          18,
          23,
          54,
          52,
          54,
          60,
          55,
          10,
          56,
          60,
          62,
          43,
          24,
          57,
          50,
          55,
          38,
          2,
          77,
          33,
          20,
          61,
          47,
          33,
          60,
          57,
          68,
          94,
          4,
          6,
          38,
          13,
          46,
          75,
          0,
          70,
          60,
          63,
          15,
          47,
          54,
          0,
          43,
          45,
          65,
          39,
          36,
          50,
          40,
          24,
          80,
          20,
          44,
          41,
          26,
          50,
          14,
          70,
          40,
          55,
          33,
          72,
          73,
          58,
          30,
          81,
          25,
          83,
          0,
          65,
          85,
          63,
          71,
          64,
          70,
          43,
          25,
          53,
          75,
          12,
          54,
          43,
          55,
          55,
          45,
          36,
          0,
          80,
          28,
          20,
          14,
          19,
          56,
          20,
          74,
          60,
          25,
          66,
          39,
          70,
          60,
          80,
          80,
          50,
          49,
          20,
          31,
          66,
          85,
          85,
          73,
          10,
          51,
          57,
          77,
          76,
          44,
          51,
          22,
          51,
          70,
          24,
          23,
          38,
          55,
          50,
          77,
          40,
          32,
          44,
          73,
          70,
          64,
          57,
          60,
          62,
          0,
          50,
          41,
          11,
          30,
          67,
          50,
          28,
          38,
          59,
          64,
          22,
          46,
          55,
          21,
          65,
          38,
          49,
          0,
          75,
          35,
          64,
          41,
          65,
          42,
          0,
          22,
          21,
          80,
          0,
          60,
          53,
          80,
          85,
          69,
          38,
          43,
          18,
          62,
          25,
          63,
          5,
          0,
          51,
          35,
          0,
          40,
          79,
          67,
          15,
          54,
          62,
          60,
          58,
          80,
          75,
          50,
          82,
          2,
          38,
          88,
          65,
          57,
          8,
          50,
          70,
          30,
          66,
          10,
          43,
          40,
          58,
          53,
          63,
          78,
          50,
          21,
          0,
          0,
          23,
          62,
          76,
          57,
          0,
          45,
          10,
          66,
          25,
          62,
          25,
          65,
          64,
          38,
          42,
          13,
          55,
          35,
          24,
          43,
          18,
          58,
          60,
          69,
          42,
          25,
          34,
          74,
          23,
          53,
          15,
          90,
          10,
          47,
          55,
          0,
          77,
          60,
          56,
          56,
          53,
          16,
          76,
          78,
          75,
          36,
          68,
          50,
          40,
          86,
          56,
          36,
          73,
          58,
          61,
          66,
          25,
          80,
          75,
          53,
          46,
          0,
          50,
          0,
          44,
          76,
          24,
          38,
          42,
          16,
          42,
          48,
          59,
          88,
          34,
          31,
          0,
          17,
          17,
          62,
          34,
          14,
          0,
          51,
          69,
          69,
          0,
          29,
          25,
          80,
          61,
          50,
          79,
          58,
          77,
          0,
          60,
          14,
          48,
          73,
          62,
          60,
          47,
          55,
          10,
          55,
          36,
          50,
          0,
          56,
          70,
          58,
          27,
          0,
          57,
          0,
          0,
          75,
          55,
          13,
          46,
          75,
          65,
          5,
          64,
          38,
          66,
          60,
          63,
          80,
          66,
          70,
          50,
          29,
          40,
          54,
          90,
          41,
          40,
          10,
          48,
          47,
          22,
          50,
          11,
          50,
          55,
          48,
          42,
          53,
          46,
          56,
          40,
          58,
          63,
          24,
          38,
          45,
          50,
          80,
          25,
          56,
          41,
          55,
          65,
          8,
          44,
          55,
          48,
          61,
          12,
          37,
          21,
          39,
          50,
          26,
          34,
          40,
          62,
          54,
          42,
          0,
          50,
          55,
          14,
          45,
          11,
          59,
          24,
          60,
          46,
          39,
          33,
          40,
          27,
          37,
          48,
          65,
          38,
          47,
          48,
          34,
          60,
          0,
          44,
          61,
          34,
          26,
          28,
          50,
          51,
          20,
          36,
          47,
          14,
          16,
          71,
          42,
          24,
          23,
          0,
          35,
          26,
          14,
          11,
          54,
          51,
          18,
          57,
          16,
          71,
          39,
          40,
          33,
          35,
          41,
          46,
          0,
          0,
          48,
          62,
          47,
          36,
          45,
          20,
          48,
          29,
          60,
          26,
          33,
          10,
          55,
          59,
          31,
          28,
          20,
          62,
          48,
          38,
          41,
          52,
          18,
          78,
          31,
          48,
          48,
          42,
          51,
          45,
          55,
          0,
          47,
          43,
          52,
          0,
          51,
          32,
          47,
          39,
          49,
          49,
          40,
          23,
          0,
          31,
          60,
          40,
          20,
          47,
          79,
          0,
          76,
          11,
          35,
          49,
          60,
          42,
          55,
          26,
          24,
          41,
          36,
          49,
          74,
          58,
          29,
          37,
          38,
          60,
          64,
          44,
          58,
          35,
          53,
          29,
          15,
          12,
          37,
          43,
          49,
          77,
          53,
          11,
          46,
          61,
          50,
          27,
          49,
          29,
          41,
          28,
          0,
          56,
          39,
          46,
          62,
          20,
          50,
          43,
          66,
          62,
          39,
          70,
          38,
          41,
          28,
          4,
          13,
          20,
          47,
          19,
          34,
          55,
          22,
          49,
          68,
          53,
          27,
          38,
          31,
          52,
          12,
          39,
          39,
          33,
          7,
          55,
          58,
          51,
          17,
          50,
          55,
          41,
          15,
          6,
          17,
          73,
          0,
          61,
          54,
          16,
          52,
          40,
          37,
          56,
          18,
          55,
          41,
          14,
          37,
          46,
          57,
          55,
          63,
          77,
          24,
          26,
          80,
          50,
          38,
          44,
          67,
          22,
          45,
          40,
          25,
          52,
          75,
          44,
          48,
          3,
          21,
          0,
          48,
          53,
          3,
          52,
          48,
          28,
          58,
          43,
          49,
          77,
          57,
          50,
          73,
          45,
          40,
          58,
          33,
          28,
          45,
          68,
          35,
          40,
          62,
          25,
          27,
          62,
          41,
          53,
          21,
          33,
          55,
          47,
          18,
          37,
          37,
          51,
          28,
          9,
          30,
          58,
          14,
          53,
          50,
          38,
          60,
          43,
          41,
          43,
          49,
          43,
          0,
          46,
          54,
          8,
          45,
          43,
          29,
          55,
          64,
          51,
          76,
          39,
          34,
          41,
          54,
          50,
          29,
          38,
          69,
          22,
          60,
          86,
          31,
          71,
          53,
          8,
          28,
          45,
          44,
          33,
          35,
          4,
          31,
          57,
          62,
          17,
          29,
          50,
          53,
          45,
          57,
          62,
          25,
          45,
          27,
          26,
          48,
          33,
          54,
          30,
          46,
          37,
          43,
          78,
          50,
          24,
          3,
          33,
          49,
          27,
          40,
          80,
          51,
          33,
          35,
          59,
          55,
          59,
          59,
          11,
          38,
          59,
          60,
          24,
          31,
          37,
          15,
          48,
          46,
          50,
          12,
          33,
          44,
          38,
          40,
          50,
          18,
          28,
          17,
          49,
          38,
          39,
          43,
          43,
          72,
          55,
          32,
          57,
          29,
          50,
          30,
          59,
          0,
          59,
          80,
          59,
          25,
          28,
          26,
          22
         ]
        }
       ],
       "layout": {
        "template": {
         "data": {
          "bar": [
           {
            "error_x": {
             "color": "#2a3f5f"
            },
            "error_y": {
             "color": "#2a3f5f"
            },
            "marker": {
             "line": {
              "color": "#E5ECF6",
              "width": 0.5
             },
             "pattern": {
              "fillmode": "overlay",
              "size": 10,
              "solidity": 0.2
             }
            },
            "type": "bar"
           }
          ],
          "barpolar": [
           {
            "marker": {
             "line": {
              "color": "#E5ECF6",
              "width": 0.5
             },
             "pattern": {
              "fillmode": "overlay",
              "size": 10,
              "solidity": 0.2
             }
            },
            "type": "barpolar"
           }
          ],
          "carpet": [
           {
            "aaxis": {
             "endlinecolor": "#2a3f5f",
             "gridcolor": "white",
             "linecolor": "white",
             "minorgridcolor": "white",
             "startlinecolor": "#2a3f5f"
            },
            "baxis": {
             "endlinecolor": "#2a3f5f",
             "gridcolor": "white",
             "linecolor": "white",
             "minorgridcolor": "white",
             "startlinecolor": "#2a3f5f"
            },
            "type": "carpet"
           }
          ],
          "choropleth": [
           {
            "colorbar": {
             "outlinewidth": 0,
             "ticks": ""
            },
            "type": "choropleth"
           }
          ],
          "contour": [
           {
            "colorbar": {
             "outlinewidth": 0,
             "ticks": ""
            },
            "colorscale": [
             [
              0,
              "#0d0887"
             ],
             [
              0.1111111111111111,
              "#46039f"
             ],
             [
              0.2222222222222222,
              "#7201a8"
             ],
             [
              0.3333333333333333,
              "#9c179e"
             ],
             [
              0.4444444444444444,
              "#bd3786"
             ],
             [
              0.5555555555555556,
              "#d8576b"
             ],
             [
              0.6666666666666666,
              "#ed7953"
             ],
             [
              0.7777777777777778,
              "#fb9f3a"
             ],
             [
              0.8888888888888888,
              "#fdca26"
             ],
             [
              1,
              "#f0f921"
             ]
            ],
            "type": "contour"
           }
          ],
          "contourcarpet": [
           {
            "colorbar": {
             "outlinewidth": 0,
             "ticks": ""
            },
            "type": "contourcarpet"
           }
          ],
          "heatmap": [
           {
            "colorbar": {
             "outlinewidth": 0,
             "ticks": ""
            },
            "colorscale": [
             [
              0,
              "#0d0887"
             ],
             [
              0.1111111111111111,
              "#46039f"
             ],
             [
              0.2222222222222222,
              "#7201a8"
             ],
             [
              0.3333333333333333,
              "#9c179e"
             ],
             [
              0.4444444444444444,
              "#bd3786"
             ],
             [
              0.5555555555555556,
              "#d8576b"
             ],
             [
              0.6666666666666666,
              "#ed7953"
             ],
             [
              0.7777777777777778,
              "#fb9f3a"
             ],
             [
              0.8888888888888888,
              "#fdca26"
             ],
             [
              1,
              "#f0f921"
             ]
            ],
            "type": "heatmap"
           }
          ],
          "heatmapgl": [
           {
            "colorbar": {
             "outlinewidth": 0,
             "ticks": ""
            },
            "colorscale": [
             [
              0,
              "#0d0887"
             ],
             [
              0.1111111111111111,
              "#46039f"
             ],
             [
              0.2222222222222222,
              "#7201a8"
             ],
             [
              0.3333333333333333,
              "#9c179e"
             ],
             [
              0.4444444444444444,
              "#bd3786"
             ],
             [
              0.5555555555555556,
              "#d8576b"
             ],
             [
              0.6666666666666666,
              "#ed7953"
             ],
             [
              0.7777777777777778,
              "#fb9f3a"
             ],
             [
              0.8888888888888888,
              "#fdca26"
             ],
             [
              1,
              "#f0f921"
             ]
            ],
            "type": "heatmapgl"
           }
          ],
          "histogram": [
           {
            "marker": {
             "pattern": {
              "fillmode": "overlay",
              "size": 10,
              "solidity": 0.2
             }
            },
            "type": "histogram"
           }
          ],
          "histogram2d": [
           {
            "colorbar": {
             "outlinewidth": 0,
             "ticks": ""
            },
            "colorscale": [
             [
              0,
              "#0d0887"
             ],
             [
              0.1111111111111111,
              "#46039f"
             ],
             [
              0.2222222222222222,
              "#7201a8"
             ],
             [
              0.3333333333333333,
              "#9c179e"
             ],
             [
              0.4444444444444444,
              "#bd3786"
             ],
             [
              0.5555555555555556,
              "#d8576b"
             ],
             [
              0.6666666666666666,
              "#ed7953"
             ],
             [
              0.7777777777777778,
              "#fb9f3a"
             ],
             [
              0.8888888888888888,
              "#fdca26"
             ],
             [
              1,
              "#f0f921"
             ]
            ],
            "type": "histogram2d"
           }
          ],
          "histogram2dcontour": [
           {
            "colorbar": {
             "outlinewidth": 0,
             "ticks": ""
            },
            "colorscale": [
             [
              0,
              "#0d0887"
             ],
             [
              0.1111111111111111,
              "#46039f"
             ],
             [
              0.2222222222222222,
              "#7201a8"
             ],
             [
              0.3333333333333333,
              "#9c179e"
             ],
             [
              0.4444444444444444,
              "#bd3786"
             ],
             [
              0.5555555555555556,
              "#d8576b"
             ],
             [
              0.6666666666666666,
              "#ed7953"
             ],
             [
              0.7777777777777778,
              "#fb9f3a"
             ],
             [
              0.8888888888888888,
              "#fdca26"
             ],
             [
              1,
              "#f0f921"
             ]
            ],
            "type": "histogram2dcontour"
           }
          ],
          "mesh3d": [
           {
            "colorbar": {
             "outlinewidth": 0,
             "ticks": ""
            },
            "type": "mesh3d"
           }
          ],
          "parcoords": [
           {
            "line": {
             "colorbar": {
              "outlinewidth": 0,
              "ticks": ""
             }
            },
            "type": "parcoords"
           }
          ],
          "pie": [
           {
            "automargin": true,
            "type": "pie"
           }
          ],
          "scatter": [
           {
            "fillpattern": {
             "fillmode": "overlay",
             "size": 10,
             "solidity": 0.2
            },
            "type": "scatter"
           }
          ],
          "scatter3d": [
           {
            "line": {
             "colorbar": {
              "outlinewidth": 0,
              "ticks": ""
             }
            },
            "marker": {
             "colorbar": {
              "outlinewidth": 0,
              "ticks": ""
             }
            },
            "type": "scatter3d"
           }
          ],
          "scattercarpet": [
           {
            "marker": {
             "colorbar": {
              "outlinewidth": 0,
              "ticks": ""
             }
            },
            "type": "scattercarpet"
           }
          ],
          "scattergeo": [
           {
            "marker": {
             "colorbar": {
              "outlinewidth": 0,
              "ticks": ""
             }
            },
            "type": "scattergeo"
           }
          ],
          "scattergl": [
           {
            "marker": {
             "colorbar": {
              "outlinewidth": 0,
              "ticks": ""
             }
            },
            "type": "scattergl"
           }
          ],
          "scattermapbox": [
           {
            "marker": {
             "colorbar": {
              "outlinewidth": 0,
              "ticks": ""
             }
            },
            "type": "scattermapbox"
           }
          ],
          "scatterpolar": [
           {
            "marker": {
             "colorbar": {
              "outlinewidth": 0,
              "ticks": ""
             }
            },
            "type": "scatterpolar"
           }
          ],
          "scatterpolargl": [
           {
            "marker": {
             "colorbar": {
              "outlinewidth": 0,
              "ticks": ""
             }
            },
            "type": "scatterpolargl"
           }
          ],
          "scatterternary": [
           {
            "marker": {
             "colorbar": {
              "outlinewidth": 0,
              "ticks": ""
             }
            },
            "type": "scatterternary"
           }
          ],
          "surface": [
           {
            "colorbar": {
             "outlinewidth": 0,
             "ticks": ""
            },
            "colorscale": [
             [
              0,
              "#0d0887"
             ],
             [
              0.1111111111111111,
              "#46039f"
             ],
             [
              0.2222222222222222,
              "#7201a8"
             ],
             [
              0.3333333333333333,
              "#9c179e"
             ],
             [
              0.4444444444444444,
              "#bd3786"
             ],
             [
              0.5555555555555556,
              "#d8576b"
             ],
             [
              0.6666666666666666,
              "#ed7953"
             ],
             [
              0.7777777777777778,
              "#fb9f3a"
             ],
             [
              0.8888888888888888,
              "#fdca26"
             ],
             [
              1,
              "#f0f921"
             ]
            ],
            "type": "surface"
           }
          ],
          "table": [
           {
            "cells": {
             "fill": {
              "color": "#EBF0F8"
             },
             "line": {
              "color": "white"
             }
            },
            "header": {
             "fill": {
              "color": "#C8D4E3"
             },
             "line": {
              "color": "white"
             }
            },
            "type": "table"
           }
          ]
         },
         "layout": {
          "annotationdefaults": {
           "arrowcolor": "#2a3f5f",
           "arrowhead": 0,
           "arrowwidth": 1
          },
          "autotypenumbers": "strict",
          "coloraxis": {
           "colorbar": {
            "outlinewidth": 0,
            "ticks": ""
           }
          },
          "colorscale": {
           "diverging": [
            [
             0,
             "#8e0152"
            ],
            [
             0.1,
             "#c51b7d"
            ],
            [
             0.2,
             "#de77ae"
            ],
            [
             0.3,
             "#f1b6da"
            ],
            [
             0.4,
             "#fde0ef"
            ],
            [
             0.5,
             "#f7f7f7"
            ],
            [
             0.6,
             "#e6f5d0"
            ],
            [
             0.7,
             "#b8e186"
            ],
            [
             0.8,
             "#7fbc41"
            ],
            [
             0.9,
             "#4d9221"
            ],
            [
             1,
             "#276419"
            ]
           ],
           "sequential": [
            [
             0,
             "#0d0887"
            ],
            [
             0.1111111111111111,
             "#46039f"
            ],
            [
             0.2222222222222222,
             "#7201a8"
            ],
            [
             0.3333333333333333,
             "#9c179e"
            ],
            [
             0.4444444444444444,
             "#bd3786"
            ],
            [
             0.5555555555555556,
             "#d8576b"
            ],
            [
             0.6666666666666666,
             "#ed7953"
            ],
            [
             0.7777777777777778,
             "#fb9f3a"
            ],
            [
             0.8888888888888888,
             "#fdca26"
            ],
            [
             1,
             "#f0f921"
            ]
           ],
           "sequentialminus": [
            [
             0,
             "#0d0887"
            ],
            [
             0.1111111111111111,
             "#46039f"
            ],
            [
             0.2222222222222222,
             "#7201a8"
            ],
            [
             0.3333333333333333,
             "#9c179e"
            ],
            [
             0.4444444444444444,
             "#bd3786"
            ],
            [
             0.5555555555555556,
             "#d8576b"
            ],
            [
             0.6666666666666666,
             "#ed7953"
            ],
            [
             0.7777777777777778,
             "#fb9f3a"
            ],
            [
             0.8888888888888888,
             "#fdca26"
            ],
            [
             1,
             "#f0f921"
            ]
           ]
          },
          "colorway": [
           "#636efa",
           "#EF553B",
           "#00cc96",
           "#ab63fa",
           "#FFA15A",
           "#19d3f3",
           "#FF6692",
           "#B6E880",
           "#FF97FF",
           "#FECB52"
          ],
          "font": {
           "color": "#2a3f5f"
          },
          "geo": {
           "bgcolor": "white",
           "lakecolor": "white",
           "landcolor": "#E5ECF6",
           "showlakes": true,
           "showland": true,
           "subunitcolor": "white"
          },
          "hoverlabel": {
           "align": "left"
          },
          "hovermode": "closest",
          "mapbox": {
           "style": "light"
          },
          "paper_bgcolor": "white",
          "plot_bgcolor": "#E5ECF6",
          "polar": {
           "angularaxis": {
            "gridcolor": "white",
            "linecolor": "white",
            "ticks": ""
           },
           "bgcolor": "#E5ECF6",
           "radialaxis": {
            "gridcolor": "white",
            "linecolor": "white",
            "ticks": ""
           }
          },
          "scene": {
           "xaxis": {
            "backgroundcolor": "#E5ECF6",
            "gridcolor": "white",
            "gridwidth": 2,
            "linecolor": "white",
            "showbackground": true,
            "ticks": "",
            "zerolinecolor": "white"
           },
           "yaxis": {
            "backgroundcolor": "#E5ECF6",
            "gridcolor": "white",
            "gridwidth": 2,
            "linecolor": "white",
            "showbackground": true,
            "ticks": "",
            "zerolinecolor": "white"
           },
           "zaxis": {
            "backgroundcolor": "#E5ECF6",
            "gridcolor": "white",
            "gridwidth": 2,
            "linecolor": "white",
            "showbackground": true,
            "ticks": "",
            "zerolinecolor": "white"
           }
          },
          "shapedefaults": {
           "line": {
            "color": "#2a3f5f"
           }
          },
          "ternary": {
           "aaxis": {
            "gridcolor": "white",
            "linecolor": "white",
            "ticks": ""
           },
           "baxis": {
            "gridcolor": "white",
            "linecolor": "white",
            "ticks": ""
           },
           "bgcolor": "#E5ECF6",
           "caxis": {
            "gridcolor": "white",
            "linecolor": "white",
            "ticks": ""
           }
          },
          "title": {
           "x": 0.05
          },
          "xaxis": {
           "automargin": true,
           "gridcolor": "white",
           "linecolor": "white",
           "ticks": "",
           "title": {
            "standoff": 15
           },
           "zerolinecolor": "white",
           "zerolinewidth": 2
          },
          "yaxis": {
           "automargin": true,
           "gridcolor": "white",
           "linecolor": "white",
           "ticks": "",
           "title": {
            "standoff": 15
           },
           "zerolinecolor": "white",
           "zerolinewidth": 2
          }
         }
        },
        "title": {
         "text": "Preço sem Desconto x Porcentagem de Desconto"
        },
        "xaxis": {
         "title": {
          "text": "Preço sem Desconto"
         }
        },
        "yaxis": {
         "title": {
          "text": "Porcentagem de Desconto"
         }
        }
       }
      }
     },
     "metadata": {},
     "output_type": "display_data"
    }
   ],
   "source": [
    "# Scatter plot of the actual_price and discount_percentage\n",
    "fig = go.Figure()\n",
    "fig.add_trace(\n",
    "    go.Scatter(x=df[\"actual_price\"], y=df[\"discount_percentage\"],\n",
    "               mode=\"markers\"))\n",
    "fig.update_layout(title=\"Preço sem Desconto x Porcentagem de Desconto\",\n",
    "                  xaxis_title=\"Preço sem Desconto\",\n",
    "                  yaxis_title=\"Porcentagem de Desconto\")\n",
    "fig.show()"
   ]
  },
  {
   "cell_type": "markdown",
   "metadata": {},
   "source": [
    "---\n",
    "\n",
    "### Produtos"
   ]
  },
  {
   "cell_type": "markdown",
   "metadata": {},
   "source": [
    "Quais são os produtos mais avaliados?"
   ]
  },
  {
   "cell_type": "code",
   "execution_count": 664,
   "metadata": {},
   "outputs": [
    {
     "data": {
      "application/vnd.plotly.v1+json": {
       "config": {
        "plotlyServerURL": "https://plot.ly"
       },
       "data": [
        {
         "textposition": "inside",
         "texttemplate": "%{y}",
         "type": "bar",
         "x": [
          "B00ZRBWPA0",
          "B09Y5FZK9N",
          "B08QSC1XY8",
          "B08QSDKFGQ",
          "B09N3BFP4M",
          "B0BCKJJN8R",
          "B0841KQR1Z",
          "B08C7TYHPB",
          "B09CMQRQM6",
          "B0718ZN31Q"
         ],
         "y": [
          989,
          976,
          974,
          974,
          959,
          942,
          928,
          925,
          919,
          910
         ]
        }
       ],
       "layout": {
        "template": {
         "data": {
          "bar": [
           {
            "error_x": {
             "color": "#2a3f5f"
            },
            "error_y": {
             "color": "#2a3f5f"
            },
            "marker": {
             "line": {
              "color": "#E5ECF6",
              "width": 0.5
             },
             "pattern": {
              "fillmode": "overlay",
              "size": 10,
              "solidity": 0.2
             }
            },
            "type": "bar"
           }
          ],
          "barpolar": [
           {
            "marker": {
             "line": {
              "color": "#E5ECF6",
              "width": 0.5
             },
             "pattern": {
              "fillmode": "overlay",
              "size": 10,
              "solidity": 0.2
             }
            },
            "type": "barpolar"
           }
          ],
          "carpet": [
           {
            "aaxis": {
             "endlinecolor": "#2a3f5f",
             "gridcolor": "white",
             "linecolor": "white",
             "minorgridcolor": "white",
             "startlinecolor": "#2a3f5f"
            },
            "baxis": {
             "endlinecolor": "#2a3f5f",
             "gridcolor": "white",
             "linecolor": "white",
             "minorgridcolor": "white",
             "startlinecolor": "#2a3f5f"
            },
            "type": "carpet"
           }
          ],
          "choropleth": [
           {
            "colorbar": {
             "outlinewidth": 0,
             "ticks": ""
            },
            "type": "choropleth"
           }
          ],
          "contour": [
           {
            "colorbar": {
             "outlinewidth": 0,
             "ticks": ""
            },
            "colorscale": [
             [
              0,
              "#0d0887"
             ],
             [
              0.1111111111111111,
              "#46039f"
             ],
             [
              0.2222222222222222,
              "#7201a8"
             ],
             [
              0.3333333333333333,
              "#9c179e"
             ],
             [
              0.4444444444444444,
              "#bd3786"
             ],
             [
              0.5555555555555556,
              "#d8576b"
             ],
             [
              0.6666666666666666,
              "#ed7953"
             ],
             [
              0.7777777777777778,
              "#fb9f3a"
             ],
             [
              0.8888888888888888,
              "#fdca26"
             ],
             [
              1,
              "#f0f921"
             ]
            ],
            "type": "contour"
           }
          ],
          "contourcarpet": [
           {
            "colorbar": {
             "outlinewidth": 0,
             "ticks": ""
            },
            "type": "contourcarpet"
           }
          ],
          "heatmap": [
           {
            "colorbar": {
             "outlinewidth": 0,
             "ticks": ""
            },
            "colorscale": [
             [
              0,
              "#0d0887"
             ],
             [
              0.1111111111111111,
              "#46039f"
             ],
             [
              0.2222222222222222,
              "#7201a8"
             ],
             [
              0.3333333333333333,
              "#9c179e"
             ],
             [
              0.4444444444444444,
              "#bd3786"
             ],
             [
              0.5555555555555556,
              "#d8576b"
             ],
             [
              0.6666666666666666,
              "#ed7953"
             ],
             [
              0.7777777777777778,
              "#fb9f3a"
             ],
             [
              0.8888888888888888,
              "#fdca26"
             ],
             [
              1,
              "#f0f921"
             ]
            ],
            "type": "heatmap"
           }
          ],
          "heatmapgl": [
           {
            "colorbar": {
             "outlinewidth": 0,
             "ticks": ""
            },
            "colorscale": [
             [
              0,
              "#0d0887"
             ],
             [
              0.1111111111111111,
              "#46039f"
             ],
             [
              0.2222222222222222,
              "#7201a8"
             ],
             [
              0.3333333333333333,
              "#9c179e"
             ],
             [
              0.4444444444444444,
              "#bd3786"
             ],
             [
              0.5555555555555556,
              "#d8576b"
             ],
             [
              0.6666666666666666,
              "#ed7953"
             ],
             [
              0.7777777777777778,
              "#fb9f3a"
             ],
             [
              0.8888888888888888,
              "#fdca26"
             ],
             [
              1,
              "#f0f921"
             ]
            ],
            "type": "heatmapgl"
           }
          ],
          "histogram": [
           {
            "marker": {
             "pattern": {
              "fillmode": "overlay",
              "size": 10,
              "solidity": 0.2
             }
            },
            "type": "histogram"
           }
          ],
          "histogram2d": [
           {
            "colorbar": {
             "outlinewidth": 0,
             "ticks": ""
            },
            "colorscale": [
             [
              0,
              "#0d0887"
             ],
             [
              0.1111111111111111,
              "#46039f"
             ],
             [
              0.2222222222222222,
              "#7201a8"
             ],
             [
              0.3333333333333333,
              "#9c179e"
             ],
             [
              0.4444444444444444,
              "#bd3786"
             ],
             [
              0.5555555555555556,
              "#d8576b"
             ],
             [
              0.6666666666666666,
              "#ed7953"
             ],
             [
              0.7777777777777778,
              "#fb9f3a"
             ],
             [
              0.8888888888888888,
              "#fdca26"
             ],
             [
              1,
              "#f0f921"
             ]
            ],
            "type": "histogram2d"
           }
          ],
          "histogram2dcontour": [
           {
            "colorbar": {
             "outlinewidth": 0,
             "ticks": ""
            },
            "colorscale": [
             [
              0,
              "#0d0887"
             ],
             [
              0.1111111111111111,
              "#46039f"
             ],
             [
              0.2222222222222222,
              "#7201a8"
             ],
             [
              0.3333333333333333,
              "#9c179e"
             ],
             [
              0.4444444444444444,
              "#bd3786"
             ],
             [
              0.5555555555555556,
              "#d8576b"
             ],
             [
              0.6666666666666666,
              "#ed7953"
             ],
             [
              0.7777777777777778,
              "#fb9f3a"
             ],
             [
              0.8888888888888888,
              "#fdca26"
             ],
             [
              1,
              "#f0f921"
             ]
            ],
            "type": "histogram2dcontour"
           }
          ],
          "mesh3d": [
           {
            "colorbar": {
             "outlinewidth": 0,
             "ticks": ""
            },
            "type": "mesh3d"
           }
          ],
          "parcoords": [
           {
            "line": {
             "colorbar": {
              "outlinewidth": 0,
              "ticks": ""
             }
            },
            "type": "parcoords"
           }
          ],
          "pie": [
           {
            "automargin": true,
            "type": "pie"
           }
          ],
          "scatter": [
           {
            "fillpattern": {
             "fillmode": "overlay",
             "size": 10,
             "solidity": 0.2
            },
            "type": "scatter"
           }
          ],
          "scatter3d": [
           {
            "line": {
             "colorbar": {
              "outlinewidth": 0,
              "ticks": ""
             }
            },
            "marker": {
             "colorbar": {
              "outlinewidth": 0,
              "ticks": ""
             }
            },
            "type": "scatter3d"
           }
          ],
          "scattercarpet": [
           {
            "marker": {
             "colorbar": {
              "outlinewidth": 0,
              "ticks": ""
             }
            },
            "type": "scattercarpet"
           }
          ],
          "scattergeo": [
           {
            "marker": {
             "colorbar": {
              "outlinewidth": 0,
              "ticks": ""
             }
            },
            "type": "scattergeo"
           }
          ],
          "scattergl": [
           {
            "marker": {
             "colorbar": {
              "outlinewidth": 0,
              "ticks": ""
             }
            },
            "type": "scattergl"
           }
          ],
          "scattermapbox": [
           {
            "marker": {
             "colorbar": {
              "outlinewidth": 0,
              "ticks": ""
             }
            },
            "type": "scattermapbox"
           }
          ],
          "scatterpolar": [
           {
            "marker": {
             "colorbar": {
              "outlinewidth": 0,
              "ticks": ""
             }
            },
            "type": "scatterpolar"
           }
          ],
          "scatterpolargl": [
           {
            "marker": {
             "colorbar": {
              "outlinewidth": 0,
              "ticks": ""
             }
            },
            "type": "scatterpolargl"
           }
          ],
          "scatterternary": [
           {
            "marker": {
             "colorbar": {
              "outlinewidth": 0,
              "ticks": ""
             }
            },
            "type": "scatterternary"
           }
          ],
          "surface": [
           {
            "colorbar": {
             "outlinewidth": 0,
             "ticks": ""
            },
            "colorscale": [
             [
              0,
              "#0d0887"
             ],
             [
              0.1111111111111111,
              "#46039f"
             ],
             [
              0.2222222222222222,
              "#7201a8"
             ],
             [
              0.3333333333333333,
              "#9c179e"
             ],
             [
              0.4444444444444444,
              "#bd3786"
             ],
             [
              0.5555555555555556,
              "#d8576b"
             ],
             [
              0.6666666666666666,
              "#ed7953"
             ],
             [
              0.7777777777777778,
              "#fb9f3a"
             ],
             [
              0.8888888888888888,
              "#fdca26"
             ],
             [
              1,
              "#f0f921"
             ]
            ],
            "type": "surface"
           }
          ],
          "table": [
           {
            "cells": {
             "fill": {
              "color": "#EBF0F8"
             },
             "line": {
              "color": "white"
             }
            },
            "header": {
             "fill": {
              "color": "#C8D4E3"
             },
             "line": {
              "color": "white"
             }
            },
            "type": "table"
           }
          ]
         },
         "layout": {
          "annotationdefaults": {
           "arrowcolor": "#2a3f5f",
           "arrowhead": 0,
           "arrowwidth": 1
          },
          "autotypenumbers": "strict",
          "coloraxis": {
           "colorbar": {
            "outlinewidth": 0,
            "ticks": ""
           }
          },
          "colorscale": {
           "diverging": [
            [
             0,
             "#8e0152"
            ],
            [
             0.1,
             "#c51b7d"
            ],
            [
             0.2,
             "#de77ae"
            ],
            [
             0.3,
             "#f1b6da"
            ],
            [
             0.4,
             "#fde0ef"
            ],
            [
             0.5,
             "#f7f7f7"
            ],
            [
             0.6,
             "#e6f5d0"
            ],
            [
             0.7,
             "#b8e186"
            ],
            [
             0.8,
             "#7fbc41"
            ],
            [
             0.9,
             "#4d9221"
            ],
            [
             1,
             "#276419"
            ]
           ],
           "sequential": [
            [
             0,
             "#0d0887"
            ],
            [
             0.1111111111111111,
             "#46039f"
            ],
            [
             0.2222222222222222,
             "#7201a8"
            ],
            [
             0.3333333333333333,
             "#9c179e"
            ],
            [
             0.4444444444444444,
             "#bd3786"
            ],
            [
             0.5555555555555556,
             "#d8576b"
            ],
            [
             0.6666666666666666,
             "#ed7953"
            ],
            [
             0.7777777777777778,
             "#fb9f3a"
            ],
            [
             0.8888888888888888,
             "#fdca26"
            ],
            [
             1,
             "#f0f921"
            ]
           ],
           "sequentialminus": [
            [
             0,
             "#0d0887"
            ],
            [
             0.1111111111111111,
             "#46039f"
            ],
            [
             0.2222222222222222,
             "#7201a8"
            ],
            [
             0.3333333333333333,
             "#9c179e"
            ],
            [
             0.4444444444444444,
             "#bd3786"
            ],
            [
             0.5555555555555556,
             "#d8576b"
            ],
            [
             0.6666666666666666,
             "#ed7953"
            ],
            [
             0.7777777777777778,
             "#fb9f3a"
            ],
            [
             0.8888888888888888,
             "#fdca26"
            ],
            [
             1,
             "#f0f921"
            ]
           ]
          },
          "colorway": [
           "#636efa",
           "#EF553B",
           "#00cc96",
           "#ab63fa",
           "#FFA15A",
           "#19d3f3",
           "#FF6692",
           "#B6E880",
           "#FF97FF",
           "#FECB52"
          ],
          "font": {
           "color": "#2a3f5f"
          },
          "geo": {
           "bgcolor": "white",
           "lakecolor": "white",
           "landcolor": "#E5ECF6",
           "showlakes": true,
           "showland": true,
           "subunitcolor": "white"
          },
          "hoverlabel": {
           "align": "left"
          },
          "hovermode": "closest",
          "mapbox": {
           "style": "light"
          },
          "paper_bgcolor": "white",
          "plot_bgcolor": "#E5ECF6",
          "polar": {
           "angularaxis": {
            "gridcolor": "white",
            "linecolor": "white",
            "ticks": ""
           },
           "bgcolor": "#E5ECF6",
           "radialaxis": {
            "gridcolor": "white",
            "linecolor": "white",
            "ticks": ""
           }
          },
          "scene": {
           "xaxis": {
            "backgroundcolor": "#E5ECF6",
            "gridcolor": "white",
            "gridwidth": 2,
            "linecolor": "white",
            "showbackground": true,
            "ticks": "",
            "zerolinecolor": "white"
           },
           "yaxis": {
            "backgroundcolor": "#E5ECF6",
            "gridcolor": "white",
            "gridwidth": 2,
            "linecolor": "white",
            "showbackground": true,
            "ticks": "",
            "zerolinecolor": "white"
           },
           "zaxis": {
            "backgroundcolor": "#E5ECF6",
            "gridcolor": "white",
            "gridwidth": 2,
            "linecolor": "white",
            "showbackground": true,
            "ticks": "",
            "zerolinecolor": "white"
           }
          },
          "shapedefaults": {
           "line": {
            "color": "#2a3f5f"
           }
          },
          "ternary": {
           "aaxis": {
            "gridcolor": "white",
            "linecolor": "white",
            "ticks": ""
           },
           "baxis": {
            "gridcolor": "white",
            "linecolor": "white",
            "ticks": ""
           },
           "bgcolor": "#E5ECF6",
           "caxis": {
            "gridcolor": "white",
            "linecolor": "white",
            "ticks": ""
           }
          },
          "title": {
           "x": 0.05
          },
          "xaxis": {
           "automargin": true,
           "gridcolor": "white",
           "linecolor": "white",
           "ticks": "",
           "title": {
            "standoff": 15
           },
           "zerolinecolor": "white",
           "zerolinewidth": 2
          },
          "yaxis": {
           "automargin": true,
           "gridcolor": "white",
           "linecolor": "white",
           "ticks": "",
           "title": {
            "standoff": 15
           },
           "zerolinecolor": "white",
           "zerolinewidth": 2
          }
         }
        },
        "title": {
         "text": "Top 10 Produtos com mais Avaliações"
        },
        "xaxis": {
         "tickangle": -45,
         "title": {
          "text": "Produto"
         }
        },
        "yaxis": {
         "title": {
          "text": "Contagem de Avaliações"
         }
        }
       }
      }
     },
     "metadata": {},
     "output_type": "display_data"
    },
    {
     "name": "stdout",
     "output_type": "stream",
     "text": [
      "B00ZRBWPA0 Eveready Red 1012 AAA Batteries - Pack of 10\n",
      "B09Y5FZK9N Pigeon 1.5 litre Hot Kettle and Stainless Steel Water Bottle Combo used for boiling Water, Making Tea and Coffee, Instant Noodles, Soup, 1500 Watt with Auto Shut- off Feature - (Silver)\n",
      "B08QSC1XY8 Zoul USB C 60W Fast Charging 3A 6ft/2M Long Type C Nylon Braided Data Cable Quick Charger Cable QC 3.0 for Samsung Galaxy M31S M30 S10 S9 S20 Plus, Note 10 9 8, A20e A40 A50 A70 (2M, Grey)\n",
      "B08QSDKFGQ Zoul USB Type C Fast Charging 3A Nylon Braided Data Cable Quick Charger Cable QC 3.0 for Samsung Galaxy M31s M30 S10 S9 S20 Plus, Note 10 9 8, A20e A40 A50 A70 (1M, Grey)\n",
      "B09N3BFP4M Bajaj New Shakti Neo Plus 15 Litre 4 Star Rated Storage Water Heater (Geyser) with Multiple Safety System, White\n",
      "B0BCKJJN8R Hindware Atlantic Xceed 5L 3kW Instant Water Heater with Copper Heating Element and High Grade Stainless Steel Tank\n",
      "B0841KQR1Z Crypo™ Universal Remote Compatible with Tata Sky Universal HD & SD Set top Box (Also Works with All TV)\n",
      "B08C7TYHPB iBELL Castor CTEK15L Premium 1.5 Litre Stainless Steel Electric Kettle,1500W Auto Cut-Off Feature,Silver\n",
      "B09CMQRQM6 Ambrane Fast 100W Output Cable with Type-C to Type-C for Mobile, Laptop, Macbook & Table Charging, 480mbps Data Sync Speed, Braided Cable, 1.5m Length (ABCC-100, Black-Grey)\n",
      "B0718ZN31Q Rts™ High Speed 3D Full HD 1080p Support (10 Meters) HDMI Male to HDMI Male Cable TV Lead 1.4V for All Hdmi Devices- Black (10M - 30 FEET)\n"
     ]
    }
   ],
   "source": [
    "# Plot the product with the highest rating_count\n",
    "df_product = df.sort_values(\"rating_count\", ascending=False).head(10)\n",
    "\n",
    "fig = go.Figure()\n",
    "fig.add_trace(\n",
    "    go.Bar(x=df_product[\"product_id\"],\n",
    "           y=df_product[\"rating_count\"]))\n",
    "fig.update_layout(title=\"Top 10 Produtos com mais Avaliações\",\n",
    "                  xaxis_title=\"Produto\",\n",
    "                  yaxis_title=\"Contagem de Avaliações\",\n",
    "                  xaxis_tickangle=-45)\n",
    "# Include the values in the bars\n",
    "fig.update_traces(texttemplate='%{y}', textposition='inside')\n",
    "fig.show()\n",
    "\n",
    "for i in range(0, 10):\n",
    "    print(df_product[\"product_id\"].values[i], df_product[\"product_name\"].values[i])"
   ]
  },
  {
   "cell_type": "markdown",
   "metadata": {},
   "source": [
    "Quais são os produtos mais caros?"
   ]
  },
  {
   "cell_type": "code",
   "execution_count": 666,
   "metadata": {},
   "outputs": [
    {
     "data": {
      "application/vnd.plotly.v1+json": {
       "config": {
        "plotlyServerURL": "https://plot.ly"
       },
       "data": [
        {
         "textposition": "inside",
         "texttemplate": "$%{y:.2f}",
         "type": "bar",
         "x": [
          "B09WN3SRC7",
          "B0BC8BQ432",
          "B0B3XXSB1K",
          "B09NS5TKPN",
          "B08VB57558",
          "B0B15GSPQW",
          "B09RWQ7YR6",
          "B095JPKPH3",
          "B092BL5DCX",
          "B0BB3CBFBM"
         ],
         "y": [
          1678.8,
          1020,
          959.88,
          911.88,
          899.988,
          850.8000000000001,
          839.988,
          839.988,
          838.8000000000001,
          780
         ]
        }
       ],
       "layout": {
        "template": {
         "data": {
          "bar": [
           {
            "error_x": {
             "color": "#2a3f5f"
            },
            "error_y": {
             "color": "#2a3f5f"
            },
            "marker": {
             "line": {
              "color": "#E5ECF6",
              "width": 0.5
             },
             "pattern": {
              "fillmode": "overlay",
              "size": 10,
              "solidity": 0.2
             }
            },
            "type": "bar"
           }
          ],
          "barpolar": [
           {
            "marker": {
             "line": {
              "color": "#E5ECF6",
              "width": 0.5
             },
             "pattern": {
              "fillmode": "overlay",
              "size": 10,
              "solidity": 0.2
             }
            },
            "type": "barpolar"
           }
          ],
          "carpet": [
           {
            "aaxis": {
             "endlinecolor": "#2a3f5f",
             "gridcolor": "white",
             "linecolor": "white",
             "minorgridcolor": "white",
             "startlinecolor": "#2a3f5f"
            },
            "baxis": {
             "endlinecolor": "#2a3f5f",
             "gridcolor": "white",
             "linecolor": "white",
             "minorgridcolor": "white",
             "startlinecolor": "#2a3f5f"
            },
            "type": "carpet"
           }
          ],
          "choropleth": [
           {
            "colorbar": {
             "outlinewidth": 0,
             "ticks": ""
            },
            "type": "choropleth"
           }
          ],
          "contour": [
           {
            "colorbar": {
             "outlinewidth": 0,
             "ticks": ""
            },
            "colorscale": [
             [
              0,
              "#0d0887"
             ],
             [
              0.1111111111111111,
              "#46039f"
             ],
             [
              0.2222222222222222,
              "#7201a8"
             ],
             [
              0.3333333333333333,
              "#9c179e"
             ],
             [
              0.4444444444444444,
              "#bd3786"
             ],
             [
              0.5555555555555556,
              "#d8576b"
             ],
             [
              0.6666666666666666,
              "#ed7953"
             ],
             [
              0.7777777777777778,
              "#fb9f3a"
             ],
             [
              0.8888888888888888,
              "#fdca26"
             ],
             [
              1,
              "#f0f921"
             ]
            ],
            "type": "contour"
           }
          ],
          "contourcarpet": [
           {
            "colorbar": {
             "outlinewidth": 0,
             "ticks": ""
            },
            "type": "contourcarpet"
           }
          ],
          "heatmap": [
           {
            "colorbar": {
             "outlinewidth": 0,
             "ticks": ""
            },
            "colorscale": [
             [
              0,
              "#0d0887"
             ],
             [
              0.1111111111111111,
              "#46039f"
             ],
             [
              0.2222222222222222,
              "#7201a8"
             ],
             [
              0.3333333333333333,
              "#9c179e"
             ],
             [
              0.4444444444444444,
              "#bd3786"
             ],
             [
              0.5555555555555556,
              "#d8576b"
             ],
             [
              0.6666666666666666,
              "#ed7953"
             ],
             [
              0.7777777777777778,
              "#fb9f3a"
             ],
             [
              0.8888888888888888,
              "#fdca26"
             ],
             [
              1,
              "#f0f921"
             ]
            ],
            "type": "heatmap"
           }
          ],
          "heatmapgl": [
           {
            "colorbar": {
             "outlinewidth": 0,
             "ticks": ""
            },
            "colorscale": [
             [
              0,
              "#0d0887"
             ],
             [
              0.1111111111111111,
              "#46039f"
             ],
             [
              0.2222222222222222,
              "#7201a8"
             ],
             [
              0.3333333333333333,
              "#9c179e"
             ],
             [
              0.4444444444444444,
              "#bd3786"
             ],
             [
              0.5555555555555556,
              "#d8576b"
             ],
             [
              0.6666666666666666,
              "#ed7953"
             ],
             [
              0.7777777777777778,
              "#fb9f3a"
             ],
             [
              0.8888888888888888,
              "#fdca26"
             ],
             [
              1,
              "#f0f921"
             ]
            ],
            "type": "heatmapgl"
           }
          ],
          "histogram": [
           {
            "marker": {
             "pattern": {
              "fillmode": "overlay",
              "size": 10,
              "solidity": 0.2
             }
            },
            "type": "histogram"
           }
          ],
          "histogram2d": [
           {
            "colorbar": {
             "outlinewidth": 0,
             "ticks": ""
            },
            "colorscale": [
             [
              0,
              "#0d0887"
             ],
             [
              0.1111111111111111,
              "#46039f"
             ],
             [
              0.2222222222222222,
              "#7201a8"
             ],
             [
              0.3333333333333333,
              "#9c179e"
             ],
             [
              0.4444444444444444,
              "#bd3786"
             ],
             [
              0.5555555555555556,
              "#d8576b"
             ],
             [
              0.6666666666666666,
              "#ed7953"
             ],
             [
              0.7777777777777778,
              "#fb9f3a"
             ],
             [
              0.8888888888888888,
              "#fdca26"
             ],
             [
              1,
              "#f0f921"
             ]
            ],
            "type": "histogram2d"
           }
          ],
          "histogram2dcontour": [
           {
            "colorbar": {
             "outlinewidth": 0,
             "ticks": ""
            },
            "colorscale": [
             [
              0,
              "#0d0887"
             ],
             [
              0.1111111111111111,
              "#46039f"
             ],
             [
              0.2222222222222222,
              "#7201a8"
             ],
             [
              0.3333333333333333,
              "#9c179e"
             ],
             [
              0.4444444444444444,
              "#bd3786"
             ],
             [
              0.5555555555555556,
              "#d8576b"
             ],
             [
              0.6666666666666666,
              "#ed7953"
             ],
             [
              0.7777777777777778,
              "#fb9f3a"
             ],
             [
              0.8888888888888888,
              "#fdca26"
             ],
             [
              1,
              "#f0f921"
             ]
            ],
            "type": "histogram2dcontour"
           }
          ],
          "mesh3d": [
           {
            "colorbar": {
             "outlinewidth": 0,
             "ticks": ""
            },
            "type": "mesh3d"
           }
          ],
          "parcoords": [
           {
            "line": {
             "colorbar": {
              "outlinewidth": 0,
              "ticks": ""
             }
            },
            "type": "parcoords"
           }
          ],
          "pie": [
           {
            "automargin": true,
            "type": "pie"
           }
          ],
          "scatter": [
           {
            "fillpattern": {
             "fillmode": "overlay",
             "size": 10,
             "solidity": 0.2
            },
            "type": "scatter"
           }
          ],
          "scatter3d": [
           {
            "line": {
             "colorbar": {
              "outlinewidth": 0,
              "ticks": ""
             }
            },
            "marker": {
             "colorbar": {
              "outlinewidth": 0,
              "ticks": ""
             }
            },
            "type": "scatter3d"
           }
          ],
          "scattercarpet": [
           {
            "marker": {
             "colorbar": {
              "outlinewidth": 0,
              "ticks": ""
             }
            },
            "type": "scattercarpet"
           }
          ],
          "scattergeo": [
           {
            "marker": {
             "colorbar": {
              "outlinewidth": 0,
              "ticks": ""
             }
            },
            "type": "scattergeo"
           }
          ],
          "scattergl": [
           {
            "marker": {
             "colorbar": {
              "outlinewidth": 0,
              "ticks": ""
             }
            },
            "type": "scattergl"
           }
          ],
          "scattermapbox": [
           {
            "marker": {
             "colorbar": {
              "outlinewidth": 0,
              "ticks": ""
             }
            },
            "type": "scattermapbox"
           }
          ],
          "scatterpolar": [
           {
            "marker": {
             "colorbar": {
              "outlinewidth": 0,
              "ticks": ""
             }
            },
            "type": "scatterpolar"
           }
          ],
          "scatterpolargl": [
           {
            "marker": {
             "colorbar": {
              "outlinewidth": 0,
              "ticks": ""
             }
            },
            "type": "scatterpolargl"
           }
          ],
          "scatterternary": [
           {
            "marker": {
             "colorbar": {
              "outlinewidth": 0,
              "ticks": ""
             }
            },
            "type": "scatterternary"
           }
          ],
          "surface": [
           {
            "colorbar": {
             "outlinewidth": 0,
             "ticks": ""
            },
            "colorscale": [
             [
              0,
              "#0d0887"
             ],
             [
              0.1111111111111111,
              "#46039f"
             ],
             [
              0.2222222222222222,
              "#7201a8"
             ],
             [
              0.3333333333333333,
              "#9c179e"
             ],
             [
              0.4444444444444444,
              "#bd3786"
             ],
             [
              0.5555555555555556,
              "#d8576b"
             ],
             [
              0.6666666666666666,
              "#ed7953"
             ],
             [
              0.7777777777777778,
              "#fb9f3a"
             ],
             [
              0.8888888888888888,
              "#fdca26"
             ],
             [
              1,
              "#f0f921"
             ]
            ],
            "type": "surface"
           }
          ],
          "table": [
           {
            "cells": {
             "fill": {
              "color": "#EBF0F8"
             },
             "line": {
              "color": "white"
             }
            },
            "header": {
             "fill": {
              "color": "#C8D4E3"
             },
             "line": {
              "color": "white"
             }
            },
            "type": "table"
           }
          ]
         },
         "layout": {
          "annotationdefaults": {
           "arrowcolor": "#2a3f5f",
           "arrowhead": 0,
           "arrowwidth": 1
          },
          "autotypenumbers": "strict",
          "coloraxis": {
           "colorbar": {
            "outlinewidth": 0,
            "ticks": ""
           }
          },
          "colorscale": {
           "diverging": [
            [
             0,
             "#8e0152"
            ],
            [
             0.1,
             "#c51b7d"
            ],
            [
             0.2,
             "#de77ae"
            ],
            [
             0.3,
             "#f1b6da"
            ],
            [
             0.4,
             "#fde0ef"
            ],
            [
             0.5,
             "#f7f7f7"
            ],
            [
             0.6,
             "#e6f5d0"
            ],
            [
             0.7,
             "#b8e186"
            ],
            [
             0.8,
             "#7fbc41"
            ],
            [
             0.9,
             "#4d9221"
            ],
            [
             1,
             "#276419"
            ]
           ],
           "sequential": [
            [
             0,
             "#0d0887"
            ],
            [
             0.1111111111111111,
             "#46039f"
            ],
            [
             0.2222222222222222,
             "#7201a8"
            ],
            [
             0.3333333333333333,
             "#9c179e"
            ],
            [
             0.4444444444444444,
             "#bd3786"
            ],
            [
             0.5555555555555556,
             "#d8576b"
            ],
            [
             0.6666666666666666,
             "#ed7953"
            ],
            [
             0.7777777777777778,
             "#fb9f3a"
            ],
            [
             0.8888888888888888,
             "#fdca26"
            ],
            [
             1,
             "#f0f921"
            ]
           ],
           "sequentialminus": [
            [
             0,
             "#0d0887"
            ],
            [
             0.1111111111111111,
             "#46039f"
            ],
            [
             0.2222222222222222,
             "#7201a8"
            ],
            [
             0.3333333333333333,
             "#9c179e"
            ],
            [
             0.4444444444444444,
             "#bd3786"
            ],
            [
             0.5555555555555556,
             "#d8576b"
            ],
            [
             0.6666666666666666,
             "#ed7953"
            ],
            [
             0.7777777777777778,
             "#fb9f3a"
            ],
            [
             0.8888888888888888,
             "#fdca26"
            ],
            [
             1,
             "#f0f921"
            ]
           ]
          },
          "colorway": [
           "#636efa",
           "#EF553B",
           "#00cc96",
           "#ab63fa",
           "#FFA15A",
           "#19d3f3",
           "#FF6692",
           "#B6E880",
           "#FF97FF",
           "#FECB52"
          ],
          "font": {
           "color": "#2a3f5f"
          },
          "geo": {
           "bgcolor": "white",
           "lakecolor": "white",
           "landcolor": "#E5ECF6",
           "showlakes": true,
           "showland": true,
           "subunitcolor": "white"
          },
          "hoverlabel": {
           "align": "left"
          },
          "hovermode": "closest",
          "mapbox": {
           "style": "light"
          },
          "paper_bgcolor": "white",
          "plot_bgcolor": "#E5ECF6",
          "polar": {
           "angularaxis": {
            "gridcolor": "white",
            "linecolor": "white",
            "ticks": ""
           },
           "bgcolor": "#E5ECF6",
           "radialaxis": {
            "gridcolor": "white",
            "linecolor": "white",
            "ticks": ""
           }
          },
          "scene": {
           "xaxis": {
            "backgroundcolor": "#E5ECF6",
            "gridcolor": "white",
            "gridwidth": 2,
            "linecolor": "white",
            "showbackground": true,
            "ticks": "",
            "zerolinecolor": "white"
           },
           "yaxis": {
            "backgroundcolor": "#E5ECF6",
            "gridcolor": "white",
            "gridwidth": 2,
            "linecolor": "white",
            "showbackground": true,
            "ticks": "",
            "zerolinecolor": "white"
           },
           "zaxis": {
            "backgroundcolor": "#E5ECF6",
            "gridcolor": "white",
            "gridwidth": 2,
            "linecolor": "white",
            "showbackground": true,
            "ticks": "",
            "zerolinecolor": "white"
           }
          },
          "shapedefaults": {
           "line": {
            "color": "#2a3f5f"
           }
          },
          "ternary": {
           "aaxis": {
            "gridcolor": "white",
            "linecolor": "white",
            "ticks": ""
           },
           "baxis": {
            "gridcolor": "white",
            "linecolor": "white",
            "ticks": ""
           },
           "bgcolor": "#E5ECF6",
           "caxis": {
            "gridcolor": "white",
            "linecolor": "white",
            "ticks": ""
           }
          },
          "title": {
           "x": 0.05
          },
          "xaxis": {
           "automargin": true,
           "gridcolor": "white",
           "linecolor": "white",
           "ticks": "",
           "title": {
            "standoff": 15
           },
           "zerolinecolor": "white",
           "zerolinewidth": 2
          },
          "yaxis": {
           "automargin": true,
           "gridcolor": "white",
           "linecolor": "white",
           "ticks": "",
           "title": {
            "standoff": 15
           },
           "zerolinecolor": "white",
           "zerolinewidth": 2
          }
         }
        },
        "title": {
         "text": "Top 10 Produtos com maior Preço"
        },
        "xaxis": {
         "tickangle": -45,
         "title": {
          "text": "Produto"
         }
        },
        "yaxis": {
         "title": {
          "text": "Preço"
         }
        }
       }
      }
     },
     "metadata": {},
     "output_type": "display_data"
    },
    {
     "name": "stdout",
     "output_type": "stream",
     "text": [
      "B09WN3SRC7 Sony Bravia 164 cm (65 inches) 4K Ultra HD Smart LED Google TV KD-65X74K (Black)\n",
      "B0BC8BQ432 VU 164 cm (65 inches) The GloLED Series 4K Smart LED Google TV 65GloLED (Grey)\n",
      "B0B3XXSB1K LG 139 cm (55 inches) 4K Ultra HD Smart LED TV 55UQ7500PSF (Ceramic Black)\n",
      "B09NS5TKPN LG 1.5 Ton 5 Star AI DUAL Inverter Split AC (Copper, Super Convertible 6-in-1 Cooling, HD Filter with Anti-Virus Protection, 2022 Model, PS-Q19YNZE, White)\n",
      "B08VB57558 Samsung Galaxy S20 FE 5G (Cloud Navy, 8GB RAM, 128GB Storage) with No Cost EMI & Additional Exchange Offers\n",
      "B0B15GSPQW Samsung 138 cm (55 inches) Crystal 4K Neo Series Ultra HD Smart LED TV UA55AUE65AKXXL (Black)\n",
      "B09RWQ7YR6 MI 138.8 cm (55 inches) 5X Series 4K Ultra HD LED Smart Android TV L55M6-ES (Grey)\n",
      "B095JPKPH3 OnePlus 163.8 cm (65 inches) U Series 4K LED Smart Android TV 65U1S (Black)\n",
      "B092BL5DCX Samsung 138 cm (55 inches) Crystal 4K Series Ultra HD Smart LED TV UA55AUE60AKLXL (Black)\n",
      "B0BB3CBFBM VU 138 cm (55 inches) Premium Series 4K Ultra HD Smart IPS LED TV 55UT (Black)\n"
     ]
    }
   ],
   "source": [
    "# Plot the product with the highest actual_price\n",
    "df_product = df.sort_values(\"actual_price\", ascending=False).head(10)\n",
    "\n",
    "fig = go.Figure()\n",
    "fig.add_trace(\n",
    "    go.Bar(x=df_product[\"product_id\"],\n",
    "           y=df_product[\"actual_price\"]))\n",
    "fig.update_layout(title=\"Top 10 Produtos com maior Preço\",\n",
    "                  xaxis_title=\"Produto\",\n",
    "                  yaxis_title=\"Preço\",\n",
    "                  xaxis_tickangle=-45)\n",
    "# Include the values in the bars\n",
    "fig.update_traces(texttemplate='$%{y:.2f}', textposition='inside')\n",
    "fig.show()\n",
    "\n",
    "for i in range(0, 10):\n",
    "    print(df_product[\"product_id\"].values[i], df_product[\"product_name\"].values[i])"
   ]
  },
  {
   "cell_type": "markdown",
   "metadata": {},
   "source": [
    "Quais são os produtos mais bem avaliados (média e mediana)?"
   ]
  },
  {
   "cell_type": "code",
   "execution_count": null,
   "metadata": {},
   "outputs": [],
   "source": []
  }
 ],
 "metadata": {
  "kernelspec": {
   "display_name": "ceii_qualidade",
   "language": "python",
   "name": "python3"
  },
  "language_info": {
   "codemirror_mode": {
    "name": "ipython",
    "version": 3
   },
   "file_extension": ".py",
   "mimetype": "text/x-python",
   "name": "python",
   "nbconvert_exporter": "python",
   "pygments_lexer": "ipython3",
   "version": "3.10.14"
  }
 },
 "nbformat": 4,
 "nbformat_minor": 2
}
